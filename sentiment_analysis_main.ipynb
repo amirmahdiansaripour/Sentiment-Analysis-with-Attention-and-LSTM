{
  "cells": [
    {
      "cell_type": "markdown",
      "metadata": {
        "id": "jNW5u-vGn-pr"
      },
      "source": [
        "### Installations"
      ]
    },
    {
      "cell_type": "code",
      "execution_count": 1,
      "metadata": {
        "colab": {
          "base_uri": "https://localhost:8080/"
        },
        "id": "W_t9YMmRAbCG",
        "outputId": "ef252535-547b-4945-8d10-4a89c9b52f1e"
      },
      "outputs": [
        {
          "name": "stdout",
          "output_type": "stream",
          "text": [
            "\u001b[?25l   \u001b[90m━━━━━━━━━━━━━━━━━━━━━━━━━━━━━━━━━━━━━━━━\u001b[0m \u001b[32m0.0/590.6 kB\u001b[0m \u001b[31m?\u001b[0m eta \u001b[36m-:--:--\u001b[0m\r\u001b[2K   \u001b[91m━━━━━━━━\u001b[0m\u001b[90m╺\u001b[0m\u001b[90m━━━━━━━━━━━━━━━━━━━━━━━━━━━━━━━\u001b[0m \u001b[32m122.9/590.6 kB\u001b[0m \u001b[31m3.9 MB/s\u001b[0m eta \u001b[36m0:00:01\u001b[0m\r\u001b[2K   \u001b[91m━━━━━━━━━━━━━━━━━━━━━━━━━━━━━━━━━━━━━━━\u001b[0m\u001b[91m╸\u001b[0m \u001b[32m583.7/590.6 kB\u001b[0m \u001b[31m10.0 MB/s\u001b[0m eta \u001b[36m0:00:01\u001b[0m\r\u001b[2K   \u001b[90m━━━━━━━━━━━━━━━━━━━━━━━━━━━━━━━━━━━━━━━━\u001b[0m \u001b[32m590.6/590.6 kB\u001b[0m \u001b[31m6.6 MB/s\u001b[0m eta \u001b[36m0:00:00\u001b[0m\n",
            "\u001b[?25h<frozen runpy>:128: RuntimeWarning: 'nltk.downloader' found in sys.modules after import of package 'nltk', but prior to execution of 'nltk.downloader'; this may result in unpredictable behaviour\n"
          ]
        }
      ],
      "source": [
        "!pip3 install emoji --quiet\n",
        "!python -m nltk.downloader all --quiet\n",
        "!pip3 install gensim --quiet"
      ]
    },
    {
      "cell_type": "code",
      "execution_count": null,
      "metadata": {
        "id": "y29cPeO-iW0m"
      },
      "outputs": [],
      "source": [
        "from tensorflow.keras.layers import Bidirectional, Concatenate, Permute, Dot, Input, LSTM, Multiply, Softmax\n",
        "from tensorflow.keras.layers import RepeatVector, Dense, Activation, Lambda\n",
        "from tensorflow.keras.optimizers import Adam\n",
        "from tensorflow.keras.utils import to_categorical\n",
        "from tensorflow.keras.models import load_model, Model\n",
        "import tensorflow.keras.backend as K\n",
        "from gensim.models import Word2Vec\n",
        "from tensorflow.keras.callbacks import ModelCheckpoint\n",
        "import tensorflow as tf\n",
        "import numpy as np\n",
        "import random\n",
        "import emoji\n",
        "from tqdm import tqdm\n",
        "import matplotlib.pyplot as plt\n",
        "from preprocessing_utils import *\n",
        "from plotting_utils import *\n",
        "%matplotlib inline"
      ]
    },
    {
      "cell_type": "markdown",
      "metadata": {
        "id": "o2lXSddpoBQ7"
      },
      "source": [
        "### Preprocessing Texts"
      ]
    },
    {
      "cell_type": "code",
      "execution_count": 3,
      "metadata": {
        "id": "OiUpNuIi_slm"
      },
      "outputs": [],
      "source": [
        "X_train, Y_train, X_test, Y_test = prepare_train_and_test_sets('train_emoji.csv', 'test_emoji.csv')"
      ]
    },
    {
      "cell_type": "code",
      "execution_count": 4,
      "metadata": {
        "id": "P0XykOygW8jq"
      },
      "outputs": [],
      "source": [
        "max_len_of_sentence = 0\n",
        "for sentence in X_train:\n",
        "  if max_len_of_sentence < len(sentence.split()):\n",
        "    max_len_of_sentence = len(sentence.split())\n",
        "\n",
        "num_of_classes = max(Y_train) + 1\n",
        "max_len_mask = 4"
      ]
    },
    {
      "cell_type": "code",
      "execution_count": 5,
      "metadata": {
        "colab": {
          "base_uri": "https://localhost:8080/",
          "height": 534
        },
        "id": "vkoQkbafY5gv",
        "outputId": "ef9256ad-1c06-4bd1-e2bf-dfd2d81d5d50"
      },
      "outputs": [
        {
          "name": "stdout",
          "output_type": "stream",
          "text": [
            "Freq of labels in trainset: \n",
            "0  :  40  :  0.202\n",
            "1  :  40  :  0.202\n",
            "2  :  39  :  0.197\n",
            "3  :  38  :  0.192\n",
            "4  :  41  :  0.207\n"
          ]
        },
        {
          "data": {
            "image/png": "[encoded data removed]",
            "text/plain": [
              "<Figure size 640x480 with 1 Axes>"
            ]
          },
          "metadata": {},
          "output_type": "display_data"
        }
      ],
      "source": [
        "print(\"Freq of labels in trainset: \")\n",
        "count_freq_labels(Y_train, num_of_classes)\n",
        "\n",
        "# print(\"Freq of labels in testset: \")\n",
        "# count_freq_labels(Y_test)"
      ]
    },
    {
      "cell_type": "code",
      "execution_count": 8,
      "metadata": {
        "id": "CmA0GXWQzG0Y"
      },
      "outputs": [],
      "source": [
        "# X_train = lemmatize(X_train)\n",
        "X_train = preprocess_corpus(X_train, max_len_mask)\n",
        "X_test, X_test_intact = preprocess_corpus(X_test, max_len_mask, return_unprocessed = True)"
      ]
    },
    {
      "cell_type": "code",
      "execution_count": 9,
      "metadata": {
        "colab": {
          "base_uri": "https://localhost:8080/"
        },
        "id": "wPAPoK4aGk46",
        "outputId": "97ff4583-0be3-4ac0-ed25-a42a63e54030"
      },
      "outputs": [
        {
          "name": "stdout",
          "output_type": "stream",
          "text": [
            "['never talk never talk' 'proud achievement proud achievement'\n",
            " 'worst day life worst' 'miss much miss much' 'food life food life']\n"
          ]
        }
      ],
      "source": [
        "print(X_train[:5])"
      ]
    },
    {
      "cell_type": "code",
      "execution_count": 10,
      "metadata": {
        "id": "kg6ZiGPqsbCJ"
      },
      "outputs": [],
      "source": [
        "frequent_words = dict()\n",
        "\n",
        "for i in range(num_of_classes):\n",
        "  frequent_words[i] = dict()\n",
        "\n",
        "frequent_words = calc_most_freq_words(X_train, Y_train, frequent_words)\n",
        "frequent_words = calc_most_freq_words(X_test, Y_test, frequent_words)\n",
        "for i in range(num_of_classes):\n",
        "  frequent_words[i] = sorted(frequent_words[i].items(), key=lambda x:x[1], reverse = True)"
      ]
    },
    {
      "cell_type": "code",
      "execution_count": 11,
      "metadata": {
        "colab": {
          "base_uri": "https://localhost:8080/"
        },
        "id": "DA2s1OzouZba",
        "outputId": "402fb7b8-4ce8-48ed-ea4e-239bf9680e5c"
      },
      "outputs": [
        {
          "name": "stdout",
          "output_type": "stream",
          "text": [
            "Love:\t\t [('miss', 23), ('love', 18), ('cute', 12), ('dog', 7), ('lovely', 6), ('family', 6), ('much', 5), ('dear', 5), ('handsome', 5), ('valentine', 4), ('attractive', 3), ('lot', 3), ('kind', 3), ('date', 3), ('hug', 3), ('friend', 3), ('grandmother', 3), ('present', 3), ('upset', 3), ('mum', 2), ('baby', 2), ('dad', 2), ('person', 2), ('see', 2), ('good', 2), ('tonight', 2), ('dinner', 2), ('dearest', 1), ('adore', 1), ('two', 1), ('like', 1), ('puppy', 1), ('adorable', 1), ('friendly', 1), ('look', 1), ('want', 1), ('ever', 1), ('song', 1), ('best', 1), ('get', 1), ('give', 0), ('cutest', 0), ('man', 0), ('attracitve', 0), ('saw', 0), ('take', 0), ('break', 0), ('life', 0), ('day', 0), ('near', 0), ('valentin', 0), ('star', 0), ('back', 0)]\n",
            "Baseball:\t [('ball', 15), ('baseball', 11), ('game', 8), ('player', 8), ('play', 6), ('run', 6), ('go', 5), ('exercise', 5), ('stadium', 5), ('many', 4), ('let', 4), ('favorite', 4), ('staduim', 4), ('match', 4), ('want', 3), ('chicago', 3), ('final', 3), ('get', 3), ('throw', 3), ('score', 2), ('finish', 2), ('suck', 2), ('afternoon', 2), ('rule', 2), ('point', 1), ('cub', 1), ('best', 1), ('like', 1), ('catcher', 1), ('first', 1), ('man', 1), ('make', 1), ('basketball', 1), ('begin', 1), ('sport', 1), ('great', 1), ('know', 1), ('practice', 1), ('pitch', 1), ('base', 0), ('home', 0), ('see', 0), ('team', 0), ('bring', 0), ('full', 0), ('fan', 0), ('key', 0), ('health', 0), ('u', 0), ('really', 0), ('well', 0)]\n",
            "Smile:\t\t [('funny', 11), ('ha', 11), ('joke', 10), ('job', 8), ('good', 7), ('happy', 7), ('like', 6), ('lol', 6), ('congrats', 5), ('excite', 5), ('laugh', 5), ('dance', 5), ('get', 4), ('smile', 4), ('make', 4), ('bravo', 4), ('great', 4), ('proud', 3), ('say', 3), ('yes', 3), ('awesome', 3), ('fun', 2), ('lot', 2), ('achievement', 1), ('acceptance', 1), ('approve', 1), ('celebrate', 1), ('soon', 1), ('candy', 1), ('life', 1), ('well', 1), ('exam', 1), ('incredibly', 1), ('charm', 1), ('amaze', 1), ('impress', 1), ('moment', 1), ('guy', 1), ('specialization', 1), ('forever', 1), ('lecture', 1), ('raise', 1), ('serious', 1), ('baby', 1), ('brighten', 1), ('day', 1), ('enjoy', 1), ('break', 1), ('go', 1), ('jacket', 1), ('want', 1), ('totally', 1), ('sound', 0), ('plan', 0), ('see', 0), ('long', 0), ('kill', 0), ('haha', 0), ('intelligent', 0), ('talented', 0), ('announcement', 0), ('people', 0), ('dedication', 0), ('project', 0), ('new', 0), ('though', 0), ('stop', 0), ('deserve', 0), ('prize', 0)]\n",
            "Sad:\t\t [('bad', 10), ('work', 9), ('stop', 7), ('answer', 5), ('get', 4), ('fail', 4), ('shout', 3), ('suck', 3), ('girl', 3), ('awful', 3), ('hate', 3), ('disappoint', 3), ('anything', 3), ('frustrate', 3), ('lose', 3), ('homework', 3), ('loser', 3), ('wrong', 3), ('bully', 3), ('upset', 3), ('never', 2), ('life', 2), ('come', 2), ('mess', 2), ('breakfast', 2), ('talk', 1), ('worst', 1), ('assignment', 1), ('long', 1), ('text', 1), ('stupidity', 1), ('limit', 1), ('algorithm', 1), ('one', 1), ('like', 1), ('sad', 1), ('dare', 1), ('ask', 1), ('mean', 1), ('grader', 1), ('grade', 1), ('think', 1), ('wait', 1), ('wallet', 1), ('midterm', 1), ('qualify', 1), ('position', 1), ('could', 1), ('solve', 1), ('always', 1), ('hard', 1), ('stupid', 1), ('horrible', 1), ('feel', 1), ('birthday', 1), ('bore', 1), ('go', 1), ('away', 1), ('yesterday', 1), ('exercise', 1), ('day', 0), ('say', 0), ('bullshit', 0), ('perform', 0), ('poorly', 0), ('take', 0), ('forever', 0), ('ready', 0), ('code', 0), ('give', 0), ('end', 0), ('alone', 0), ('humiliate', 0), ('sister', 0), ('two', 0), ('hour', 0), ('cannot', 0), ('u', 0), ('exam', 0), ('pas', 0), ('around', 0), ('breakfas', 0)]\n",
            "Food:\t\t [('food', 15), ('want', 12), ('dinner', 9), ('eat', 9), ('restaurant', 9), ('hungry', 7), ('healthy', 6), ('let', 5), ('tasty', 5), ('starve', 5), ('rice', 4), ('cook', 3), ('meat', 3), ('cake', 3), ('vegetable', 3), ('love', 3), ('order', 3), ('suggestion', 3), ('boil', 3), ('life', 2), ('brunch', 2), ('join', 2), ('french', 2), ('macaroon', 2), ('like', 2), ('pizza', 2), ('cooky', 2), ('good', 2), ('cheese', 2), ('sushi', 1), ('together', 1), ('lunch', 1), ('cannot', 1), ('u', 1), ('go', 1), ('last', 1), ('see', 1), ('day', 0), ('chinese', 0), ('indian', 0), ('pizze', 0), ('frequently', 0), ('best', 0), ('tonight', 0), ('dad', 0), ('night', 0)]\n"
          ]
        }
      ],
      "source": [
        "print(\"Love:\\t\\t\", frequent_words[0])\n",
        "print(\"Baseball:\\t\", frequent_words[1])\n",
        "print(\"Smile:\\t\\t\", frequent_words[2])\n",
        "print(\"Sad:\\t\\t\", frequent_words[3])\n",
        "print(\"Food:\\t\\t\", frequent_words[4])"
      ]
    },
    {
      "cell_type": "code",
      "execution_count": 12,
      "metadata": {
        "colab": {
          "base_uri": "https://localhost:8080/"
        },
        "id": "F3CvCZx8ambn",
        "outputId": "bbd0d749-5040-4da6-90dd-6c2fff832e50"
      },
      "outputs": [
        {
          "name": "stdout",
          "output_type": "stream",
          "text": [
            "Frequency of sentences' lengths in X_train: \n",
            "4  :  198\n",
            "Frequency of sentences' lengths in X_test: \n",
            "4  :  50\n"
          ]
        }
      ],
      "source": [
        "print(\"Frequency of sentences' lengths in X_train: \")\n",
        "get_freq_count_len(X_train)\n",
        "\n",
        "print(\"Frequency of sentences' lengths in X_test: \")\n",
        "get_freq_count_len(X_test)"
      ]
    },
    {
      "cell_type": "code",
      "execution_count": 13,
      "metadata": {
        "id": "bt-3hXCJliGa"
      },
      "outputs": [],
      "source": [
        "copy_of_X_train = X_train.copy()\n",
        "copy_of_X_test = X_test.copy()\n",
        "word2vec_input = np.append(copy_of_X_train, copy_of_X_test)"
      ]
    },
    {
      "cell_type": "code",
      "execution_count": 15,
      "metadata": {
        "id": "jyC_T6huzWlf"
      },
      "outputs": [],
      "source": [
        "# shuffling and duplicating sentences\n",
        "X_train, Y_train = augment_sentences(X_train, Y_train, max_len_mask)"
      ]
    },
    {
      "cell_type": "markdown",
      "metadata": {
        "id": "gp5eSN0goIwC"
      },
      "source": [
        "### Get Vocabulary"
      ]
    },
    {
      "cell_type": "code",
      "execution_count": 16,
      "metadata": {
        "id": "eAjW8EQhIS_b"
      },
      "outputs": [],
      "source": [
        "vocab_dict = get_vocab(X_train, X_test)"
      ]
    },
    {
      "cell_type": "code",
      "execution_count": 17,
      "metadata": {
        "colab": {
          "base_uri": "https://localhost:8080/"
        },
        "id": "-VoAByX6hKc5",
        "outputId": "935f1130-a701-4d0d-bb71-413c24677275"
      },
      "outputs": [
        {
          "name": "stdout",
          "output_type": "stream",
          "text": [
            "251\n",
            "acceptance  :  0\n",
            "achievement  :  1\n",
            "adorable  :  2\n",
            "adore  :  3\n",
            "afternoon  :  4\n",
            "algorithm  :  5\n",
            "alone  :  6\n",
            "always  :  7\n",
            "amaze  :  8\n",
            "announcement  :  9\n",
            "answer  :  10\n",
            "anything  :  11\n",
            "approve  :  12\n",
            "around  :  13\n",
            "ask  :  14\n",
            "assignment  :  15\n",
            "attracitve  :  16\n",
            "attractive  :  17\n",
            "away  :  18\n",
            "awesome  :  19\n",
            "awful  :  20\n",
            "baby  :  21\n",
            "back  :  22\n",
            "bad  :  23\n",
            "ball  :  24\n",
            "base  :  25\n",
            "baseball  :  26\n",
            "basketball  :  27\n",
            "begin  :  28\n",
            "best  :  29\n",
            "birthday  :  30\n",
            "boil  :  31\n",
            "bore  :  32\n",
            "bravo  :  33\n",
            "break  :  34\n",
            "breakfas  :  35\n",
            "breakfast  :  36\n",
            "brighten  :  37\n",
            "bring  :  38\n",
            "brunch  :  39\n",
            "bullshit  :  40\n",
            "bully  :  41\n",
            "cake  :  42\n",
            "candy  :  43\n",
            "cannot  :  44\n",
            "catcher  :  45\n",
            "celebrate  :  46\n",
            "charm  :  47\n",
            "cheese  :  48\n",
            "chicago  :  49\n",
            "chinese  :  50\n",
            "code  :  51\n",
            "come  :  52\n",
            "congrats  :  53\n",
            "cook  :  54\n",
            "cooky  :  55\n",
            "could  :  56\n",
            "cub  :  57\n",
            "cute  :  58\n",
            "cutest  :  59\n",
            "dad  :  60\n",
            "dance  :  61\n",
            "dare  :  62\n",
            "date  :  63\n",
            "day  :  64\n",
            "dear  :  65\n",
            "dearest  :  66\n",
            "dedication  :  67\n",
            "deserve  :  68\n",
            "dinner  :  69\n",
            "disappoint  :  70\n",
            "dog  :  71\n",
            "eat  :  72\n",
            "end  :  73\n",
            "enjoy  :  74\n",
            "ever  :  75\n",
            "exam  :  76\n",
            "excite  :  77\n",
            "exercise  :  78\n",
            "fail  :  79\n",
            "family  :  80\n",
            "fan  :  81\n",
            "favorite  :  82\n",
            "feel  :  83\n",
            "final  :  84\n",
            "finish  :  85\n",
            "first  :  86\n",
            "food  :  87\n",
            "forever  :  88\n",
            "french  :  89\n",
            "frequently  :  90\n",
            "friend  :  91\n",
            "friendly  :  92\n",
            "frustrate  :  93\n",
            "full  :  94\n",
            "fun  :  95\n",
            "funny  :  96\n",
            "game  :  97\n",
            "get  :  98\n",
            "girl  :  99\n",
            "give  :  100\n",
            "go  :  101\n",
            "good  :  102\n",
            "grade  :  103\n",
            "grader  :  104\n",
            "grandmother  :  105\n",
            "great  :  106\n",
            "guy  :  107\n",
            "ha  :  108\n",
            "haha  :  109\n",
            "handsome  :  110\n",
            "happy  :  111\n",
            "hard  :  112\n",
            "hate  :  113\n",
            "health  :  114\n",
            "healthy  :  115\n",
            "home  :  116\n",
            "homework  :  117\n",
            "horrible  :  118\n",
            "hour  :  119\n",
            "hug  :  120\n",
            "humiliate  :  121\n",
            "hungry  :  122\n",
            "impress  :  123\n",
            "incredibly  :  124\n",
            "indian  :  125\n",
            "intelligent  :  126\n",
            "jacket  :  127\n",
            "job  :  128\n",
            "join  :  129\n",
            "joke  :  130\n",
            "key  :  131\n",
            "kill  :  132\n",
            "kind  :  133\n",
            "know  :  134\n",
            "last  :  135\n",
            "laugh  :  136\n",
            "lecture  :  137\n",
            "let  :  138\n",
            "life  :  139\n",
            "like  :  140\n",
            "limit  :  141\n",
            "lol  :  142\n",
            "long  :  143\n",
            "look  :  144\n",
            "lose  :  145\n",
            "loser  :  146\n",
            "lot  :  147\n",
            "love  :  148\n",
            "lovely  :  149\n",
            "lunch  :  150\n",
            "macaroon  :  151\n",
            "make  :  152\n",
            "man  :  153\n",
            "many  :  154\n",
            "match  :  155\n",
            "mean  :  156\n",
            "meat  :  157\n",
            "mess  :  158\n",
            "midterm  :  159\n",
            "miss  :  160\n",
            "moment  :  161\n",
            "much  :  162\n",
            "mum  :  163\n",
            "near  :  164\n",
            "never  :  165\n",
            "new  :  166\n",
            "night  :  167\n",
            "one  :  168\n",
            "order  :  169\n",
            "pas  :  170\n",
            "people  :  171\n",
            "perform  :  172\n",
            "person  :  173\n",
            "pitch  :  174\n",
            "pizza  :  175\n",
            "pizze  :  176\n",
            "plan  :  177\n",
            "play  :  178\n",
            "player  :  179\n",
            "point  :  180\n",
            "poorly  :  181\n",
            "position  :  182\n",
            "practice  :  183\n",
            "present  :  184\n",
            "prize  :  185\n",
            "project  :  186\n",
            "proud  :  187\n",
            "puppy  :  188\n",
            "qualify  :  189\n",
            "raise  :  190\n",
            "ready  :  191\n",
            "really  :  192\n",
            "restaurant  :  193\n",
            "rice  :  194\n",
            "rule  :  195\n",
            "run  :  196\n",
            "sad  :  197\n",
            "saw  :  198\n",
            "say  :  199\n",
            "score  :  200\n",
            "see  :  201\n",
            "serious  :  202\n",
            "shout  :  203\n",
            "sister  :  204\n",
            "smile  :  205\n",
            "solve  :  206\n",
            "song  :  207\n",
            "soon  :  208\n",
            "sound  :  209\n",
            "specialization  :  210\n",
            "sport  :  211\n",
            "stadium  :  212\n",
            "staduim  :  213\n",
            "star  :  214\n",
            "starve  :  215\n",
            "stop  :  216\n",
            "stupid  :  217\n",
            "stupidity  :  218\n",
            "suck  :  219\n",
            "suggestion  :  220\n",
            "sushi  :  221\n",
            "take  :  222\n",
            "talented  :  223\n",
            "talk  :  224\n",
            "tasty  :  225\n",
            "team  :  226\n",
            "text  :  227\n",
            "think  :  228\n",
            "though  :  229\n",
            "throw  :  230\n",
            "together  :  231\n",
            "tonight  :  232\n",
            "totally  :  233\n",
            "two  :  234\n",
            "u  :  235\n",
            "upset  :  236\n",
            "valentin  :  237\n",
            "valentine  :  238\n",
            "vegetable  :  239\n",
            "wait  :  240\n",
            "wallet  :  241\n",
            "want  :  242\n",
            "well  :  243\n",
            "work  :  244\n",
            "worst  :  245\n",
            "wrong  :  246\n",
            "yes  :  247\n",
            "yesterday  :  248\n",
            "<unk>  :  249\n",
            "<pad>  :  250\n"
          ]
        }
      ],
      "source": [
        "print(len(vocab_dict))\n",
        "\n",
        "for word in vocab_dict.keys():\n",
        "  print(word, \" : \", vocab_dict[word])\n",
        "\n",
        "# print(vocab_dict)"
      ]
    },
    {
      "cell_type": "markdown",
      "metadata": {
        "id": "JhwIpB7WoSTZ"
      },
      "source": [
        "### Word2Vec Embedding"
      ]
    },
    {
      "cell_type": "code",
      "execution_count": 53,
      "metadata": {
        "id": "h1Yog7NRbJlH"
      },
      "outputs": [],
      "source": [
        "word2vec_embed_size = 100\n",
        "word2vec = Word2Vec(vector_size = word2vec_embed_size, min_count = 1, window = 2, alpha = 0.01)"
      ]
    },
    {
      "cell_type": "code",
      "execution_count": 19,
      "metadata": {
        "id": "ovtFbAH6ccU3"
      },
      "outputs": [],
      "source": [
        "word2vec_input = list(word2vec_input[j].split() for j in range(len(word2vec_input)))"
      ]
    },
    {
      "cell_type": "code",
      "execution_count": 54,
      "metadata": {
        "colab": {
          "base_uri": "https://localhost:8080/"
        },
        "id": "xBQXMA7Sn0JC",
        "outputId": "5f973812-0b89-42bb-9eee-e46bd2e8fdd2"
      },
      "outputs": [
        {
          "name": "stdout",
          "output_type": "stream",
          "text": [
            "['let', 'brunch', 'day', 'let']\n"
          ]
        }
      ],
      "source": [
        "print(word2vec_input[29])"
      ]
    },
    {
      "cell_type": "code",
      "execution_count": 55,
      "metadata": {
        "id": "iXN9EHbtbVr_"
      },
      "outputs": [],
      "source": [
        "word2vec.build_vocab(word2vec_input, progress_per = 10000)"
      ]
    },
    {
      "cell_type": "code",
      "execution_count": 56,
      "metadata": {
        "colab": {
          "base_uri": "https://localhost:8080/"
        },
        "id": "zq3WqgsERVH4",
        "outputId": "0e08622c-dcc9-4b95-88aa-de485c640ac0"
      },
      "outputs": [
        {
          "data": {
            "text/plain": [
              "(43762, 69440)"
            ]
          },
          "execution_count": 56,
          "metadata": {},
          "output_type": "execute_result"
        }
      ],
      "source": [
        "word2vec.train(word2vec_input, total_examples = word2vec.corpus_count, epochs = 70)"
      ]
    },
    {
      "cell_type": "code",
      "execution_count": 57,
      "metadata": {
        "colab": {
          "base_uri": "https://localhost:8080/"
        },
        "id": "3ozXBnTxbgCd",
        "outputId": "f9484e15-0fa2-4a3a-cb6e-42bd6b615e45"
      },
      "outputs": [
        {
          "name": "stdout",
          "output_type": "stream",
          "text": [
            "(100,)\n",
            "[('breakfast', 0.37390074133872986), ('day', 0.3688398003578186), ('moment', 0.3448386788368225), ('dog', 0.33279740810394287), ('happy', 0.3193832039833069), ('cook', 0.3024788200855255), ('well', 0.30107733607292175), ('lecture', 0.2969062328338623), ('cannot', 0.29622966051101685), ('limit', 0.2958812117576599)]\n"
          ]
        }
      ],
      "source": [
        "print(word2vec.wv[\"love\"].shape)\n",
        "print(word2vec.wv.most_similar(\"pizza\"))"
      ]
    },
    {
      "cell_type": "code",
      "execution_count": 58,
      "metadata": {
        "id": "WR6jDnaI5eWp"
      },
      "outputs": [],
      "source": [
        "X_train_embedding = get_embedding_of_sentences(X_train, word2vec)"
      ]
    },
    {
      "cell_type": "code",
      "execution_count": 59,
      "metadata": {
        "id": "RxyNWcvSG93z"
      },
      "outputs": [],
      "source": [
        "X_test_embedding = get_embedding_of_sentences(X_test, word2vec)"
      ]
    },
    {
      "cell_type": "code",
      "execution_count": 60,
      "metadata": {
        "colab": {
          "base_uri": "https://localhost:8080/"
        },
        "id": "JXOcIxPm7rva",
        "outputId": "3cebf09b-f99c-4097-af9f-c7e71c6e73c5"
      },
      "outputs": [
        {
          "name": "stdout",
          "output_type": "stream",
          "text": [
            "(396, 4, 100)\n",
            "(50, 4, 100)\n"
          ]
        }
      ],
      "source": [
        "print(X_train_embedding.shape)\n",
        "print(X_test_embedding.shape)\n",
        "# Each sentence has 5 words, each word has 50 embedding size"
      ]
    },
    {
      "cell_type": "markdown",
      "metadata": {
        "id": "rTfrM8teoYcJ"
      },
      "source": [
        "### Model Architecture"
      ]
    },
    {
      "cell_type": "code",
      "execution_count": 49,
      "metadata": {
        "id": "JmPF5Qgzsb2H"
      },
      "outputs": [],
      "source": [
        "repeator = RepeatVector(max_len_mask)\n",
        "concatenator = Concatenate(axis=-1)\n",
        "densor1 = Dense(10, activation = \"tanh\")\n",
        "densor2 = Dense(1, activation = \"relu\")\n",
        "activator = Softmax(axis = 1)\n",
        "dotor = Dot(axes = 1)"
      ]
    },
    {
      "cell_type": "code",
      "execution_count": 37,
      "metadata": {
        "id": "2QYVYuuIumaJ"
      },
      "outputs": [],
      "source": [
        "def one_step_attention(a, s_prev):\n",
        "    \"\"\"\n",
        "    Performs one step of attention: Outputs a context vector computed as a dot product of the attention weights\n",
        "    \"alphas\" and the hidden states \"a\" of the Bi-LSTM.\n",
        "\n",
        "    Arguments:\n",
        "    a -- hidden state output of the Bi-LSTM, numpy-array of shape (m, Tx, 2*n_a)\n",
        "    s_prev -- previous hidden state of the (post-attention) LSTM, numpy-array of shape (m, n_s)\n",
        "\n",
        "    Returns:\n",
        "    context -- context vector, input of the next (post-attention) LSTM cell\n",
        "    \"\"\"\n",
        "\n",
        "    print(\"Prev state shape before being repeated: \", s_prev.shape)\n",
        "    s_prev = repeator(s_prev)\n",
        "    print(\"Prev state shape after being repeated: \", s_prev.shape)\n",
        "    print(\"Current state shape: \", a.shape)\n",
        "    concat = concatenator([a, s_prev])\n",
        "    # Use densor1 to propagate concat through a small fully-connected neural network to compute the \"intermediate energies\" variable e. (≈1 lines)\n",
        "    print(\"Before densor1 (concatentation of current and prev states): \", concat.shape)\n",
        "    e = densor1(concat)\n",
        "    print(\"After densor1: \", e.shape)\n",
        "    energies = densor2(e)\n",
        "    print(\"After densor2: \", energies.shape)\n",
        "    # Use \"activator\" on \"energies\" to compute the attention weights \"alphas\" (≈ 1 line)\n",
        "    alphas = activator(energies)\n",
        "    print(\"Attention shape: \", alphas.shape)\n",
        "    # Use dotor together with \"alphas\" and \"a\", in this order, to compute the context vector to be given to the next (post-attention) LSTM-cell (≈ 1 line)\n",
        "    context = dotor([alphas, a])\n",
        "    print(\"Attention dot curr shape: \", context.shape)\n",
        "\n",
        "    return context"
      ]
    },
    {
      "cell_type": "code",
      "execution_count": 61,
      "metadata": {
        "id": "z76H0-gNwcmI"
      },
      "outputs": [],
      "source": [
        "n_a_ = 32 # number of units for the pre-attention, bi-directional LSTM's hidden state 'a'\n",
        "n_s_ = 64 # number of units for the post-attention LSTM's hidden state \"s\"\n",
        "\n",
        "post_activation_LSTM_cell = LSTM(n_s_, return_state = True)\n",
        "output_layer = Dense(num_of_classes, activation=\"softmax\")\n",
        "# The softmax term should be in \"\", else, it gives error."
      ]
    },
    {
      "cell_type": "code",
      "execution_count": 62,
      "metadata": {
        "id": "EyIjs-zmwk8G"
      },
      "outputs": [],
      "source": [
        "\n",
        "def modelf(Tx, Ty, n_a, n_s, word_embed_size):\n",
        "\n",
        "    # Define the inputs of your model with a shape (Tx, human_vocab_size)\n",
        "    # Define s0 (initial hidden state) and c0 (initial cell state)\n",
        "    X = Input(shape=(Tx, word_embed_size))\n",
        "    s0 = Input(shape=(n_s,), name='s0')\n",
        "    c0 = Input(shape=(n_s,), name='c0')\n",
        "    s = s0\n",
        "    c = c0\n",
        "    outputs = []\n",
        "\n",
        "    # Step 1: Define your pre-attention Bi-LSTM. (≈ 1 line)\n",
        "    a = Bidirectional(LSTM(units = n_a, return_sequences = True))(X)\n",
        "\n",
        "    # Step 2: Iterate for Ty steps\n",
        "    for t in range(1):\n",
        "\n",
        "        # Step 2.A: Perform one step of the attention mechanism to get back the context vector at step t (≈ 1 line)\n",
        "        context = one_step_attention(a, s)\n",
        "        # Step 2.B: Apply the post-attention LSTM cell to the \"context\" vector. (≈ 1 line)\n",
        "        # Don't forget to pass: initial_state = [hidden state, cell state]\n",
        "        # Remember: s = hidden state, c = cell state\n",
        "        _, s, c = post_activation_LSTM_cell(context, initial_state = [s, c])\n",
        "        # Step 2.C: Apply Dense layer to the hidden state output of the post-attention LSTM (≈ 1 line)\n",
        "        out = output_layer(s)\n",
        "        # print(\"One output: \", out.shape)\n",
        "        # Step 2.D: Append \"out\" to the \"outputs\" list (≈ 1 line)\n",
        "        outputs.append(out)\n",
        "\n",
        "    # Step 3: Create model instance taking three inputs and returning the list of outputs. (≈ 1 line)\n",
        "    model = Model(inputs = [X, s0, c0], outputs = outputs)\n",
        "\n",
        "    return model"
      ]
    },
    {
      "cell_type": "code",
      "execution_count": 63,
      "metadata": {
        "colab": {
          "base_uri": "https://localhost:8080/"
        },
        "id": "N9HUyNr2y7vn",
        "outputId": "8411c6ba-96de-4991-9e4f-8e81548b5bf1"
      },
      "outputs": [
        {
          "name": "stdout",
          "output_type": "stream",
          "text": [
            "Prev state shape before being repeated:  (None, 64)\n",
            "Prev state shape after being repeated:  (None, 4, 64)\n",
            "Current state shape:  (None, 4, 64)\n",
            "Before densor1 (concatentation of current and prev states):  (None, 4, 128)\n",
            "After densor1:  (None, 4, 10)\n",
            "After densor2:  (None, 4, 1)\n",
            "Attention shape:  (None, 4, 1)\n",
            "Attention dot curr shape:  (None, 1, 64)\n"
          ]
        }
      ],
      "source": [
        "model = modelf(Tx = max_len_mask, Ty = num_of_classes, n_a = n_a_, n_s = n_s_, word_embed_size = word2vec_embed_size)"
      ]
    },
    {
      "cell_type": "code",
      "execution_count": 41,
      "metadata": {
        "colab": {
          "base_uri": "https://localhost:8080/",
          "height": 629
        },
        "id": "P7O1VLFQ5TgP",
        "outputId": "d294027f-89d4-408f-e1f8-8e60177c6a36"
      },
      "outputs": [
        {
          "data": {
            "text/html": [
              "<pre style=\"white-space:pre;overflow-x:auto;line-height:normal;font-family:Menlo,'DejaVu Sans Mono',consolas,'Courier New',monospace\"><span style=\"font-weight: bold\">Model: \"functional\"</span>\n",
              "</pre>\n"
            ],
            "text/plain": [
              "\u001b[1mModel: \"functional\"\u001b[0m\n"
            ]
          },
          "metadata": {},
          "output_type": "display_data"
        },
        {
          "data": {
            "text/html": [
              "<pre style=\"white-space:pre;overflow-x:auto;line-height:normal;font-family:Menlo,'DejaVu Sans Mono',consolas,'Courier New',monospace\">┏━━━━━━━━━━━━━━━━━━━━━━━━━━━┳━━━━━━━━━━━━━━━━━━━━━━━━┳━━━━━━━━━━━━━━━━┳━━━━━━━━━━━━━━━━━━━━━━━━┓\n",
              "┃<span style=\"font-weight: bold\"> Layer (type)              </span>┃<span style=\"font-weight: bold\"> Output Shape           </span>┃<span style=\"font-weight: bold\">        Param # </span>┃<span style=\"font-weight: bold\"> Connected to           </span>┃\n",
              "┡━━━━━━━━━━━━━━━━━━━━━━━━━━━╇━━━━━━━━━━━━━━━━━━━━━━━━╇━━━━━━━━━━━━━━━━╇━━━━━━━━━━━━━━━━━━━━━━━━┩\n",
              "│ input_layer (<span style=\"color: #0087ff; text-decoration-color: #0087ff\">InputLayer</span>)  │ (<span style=\"color: #00d7ff; text-decoration-color: #00d7ff\">None</span>, <span style=\"color: #00af00; text-decoration-color: #00af00\">4</span>, <span style=\"color: #00af00; text-decoration-color: #00af00\">100</span>)         │              <span style=\"color: #00af00; text-decoration-color: #00af00\">0</span> │ -                      │\n",
              "├───────────────────────────┼────────────────────────┼────────────────┼────────────────────────┤\n",
              "│ s0 (<span style=\"color: #0087ff; text-decoration-color: #0087ff\">InputLayer</span>)           │ (<span style=\"color: #00d7ff; text-decoration-color: #00d7ff\">None</span>, <span style=\"color: #00af00; text-decoration-color: #00af00\">64</span>)             │              <span style=\"color: #00af00; text-decoration-color: #00af00\">0</span> │ -                      │\n",
              "├───────────────────────────┼────────────────────────┼────────────────┼────────────────────────┤\n",
              "│ bidirectional             │ (<span style=\"color: #00d7ff; text-decoration-color: #00d7ff\">None</span>, <span style=\"color: #00af00; text-decoration-color: #00af00\">4</span>, <span style=\"color: #00af00; text-decoration-color: #00af00\">64</span>)          │         <span style=\"color: #00af00; text-decoration-color: #00af00\">34,048</span> │ input_layer[<span style=\"color: #00af00; text-decoration-color: #00af00\">0</span>][<span style=\"color: #00af00; text-decoration-color: #00af00\">0</span>]      │\n",
              "│ (<span style=\"color: #0087ff; text-decoration-color: #0087ff\">Bidirectional</span>)           │                        │                │                        │\n",
              "├───────────────────────────┼────────────────────────┼────────────────┼────────────────────────┤\n",
              "│ repeat_vector             │ (<span style=\"color: #00d7ff; text-decoration-color: #00d7ff\">None</span>, <span style=\"color: #00af00; text-decoration-color: #00af00\">4</span>, <span style=\"color: #00af00; text-decoration-color: #00af00\">64</span>)          │              <span style=\"color: #00af00; text-decoration-color: #00af00\">0</span> │ s0[<span style=\"color: #00af00; text-decoration-color: #00af00\">0</span>][<span style=\"color: #00af00; text-decoration-color: #00af00\">0</span>]               │\n",
              "│ (<span style=\"color: #0087ff; text-decoration-color: #0087ff\">RepeatVector</span>)            │                        │                │                        │\n",
              "├───────────────────────────┼────────────────────────┼────────────────┼────────────────────────┤\n",
              "│ concatenate (<span style=\"color: #0087ff; text-decoration-color: #0087ff\">Concatenate</span>) │ (<span style=\"color: #00d7ff; text-decoration-color: #00d7ff\">None</span>, <span style=\"color: #00af00; text-decoration-color: #00af00\">4</span>, <span style=\"color: #00af00; text-decoration-color: #00af00\">128</span>)         │              <span style=\"color: #00af00; text-decoration-color: #00af00\">0</span> │ bidirectional[<span style=\"color: #00af00; text-decoration-color: #00af00\">0</span>][<span style=\"color: #00af00; text-decoration-color: #00af00\">0</span>],   │\n",
              "│                           │                        │                │ repeat_vector[<span style=\"color: #00af00; text-decoration-color: #00af00\">0</span>][<span style=\"color: #00af00; text-decoration-color: #00af00\">0</span>]    │\n",
              "├───────────────────────────┼────────────────────────┼────────────────┼────────────────────────┤\n",
              "│ dense (<span style=\"color: #0087ff; text-decoration-color: #0087ff\">Dense</span>)             │ (<span style=\"color: #00d7ff; text-decoration-color: #00d7ff\">None</span>, <span style=\"color: #00af00; text-decoration-color: #00af00\">4</span>, <span style=\"color: #00af00; text-decoration-color: #00af00\">10</span>)          │          <span style=\"color: #00af00; text-decoration-color: #00af00\">1,290</span> │ concatenate[<span style=\"color: #00af00; text-decoration-color: #00af00\">0</span>][<span style=\"color: #00af00; text-decoration-color: #00af00\">0</span>]      │\n",
              "├───────────────────────────┼────────────────────────┼────────────────┼────────────────────────┤\n",
              "│ dense_1 (<span style=\"color: #0087ff; text-decoration-color: #0087ff\">Dense</span>)           │ (<span style=\"color: #00d7ff; text-decoration-color: #00d7ff\">None</span>, <span style=\"color: #00af00; text-decoration-color: #00af00\">4</span>, <span style=\"color: #00af00; text-decoration-color: #00af00\">1</span>)           │             <span style=\"color: #00af00; text-decoration-color: #00af00\">11</span> │ dense[<span style=\"color: #00af00; text-decoration-color: #00af00\">0</span>][<span style=\"color: #00af00; text-decoration-color: #00af00\">0</span>]            │\n",
              "├───────────────────────────┼────────────────────────┼────────────────┼────────────────────────┤\n",
              "│ softmax (<span style=\"color: #0087ff; text-decoration-color: #0087ff\">Softmax</span>)         │ (<span style=\"color: #00d7ff; text-decoration-color: #00d7ff\">None</span>, <span style=\"color: #00af00; text-decoration-color: #00af00\">4</span>, <span style=\"color: #00af00; text-decoration-color: #00af00\">1</span>)           │              <span style=\"color: #00af00; text-decoration-color: #00af00\">0</span> │ dense_1[<span style=\"color: #00af00; text-decoration-color: #00af00\">0</span>][<span style=\"color: #00af00; text-decoration-color: #00af00\">0</span>]          │\n",
              "├───────────────────────────┼────────────────────────┼────────────────┼────────────────────────┤\n",
              "│ dot (<span style=\"color: #0087ff; text-decoration-color: #0087ff\">Dot</span>)                 │ (<span style=\"color: #00d7ff; text-decoration-color: #00d7ff\">None</span>, <span style=\"color: #00af00; text-decoration-color: #00af00\">1</span>, <span style=\"color: #00af00; text-decoration-color: #00af00\">64</span>)          │              <span style=\"color: #00af00; text-decoration-color: #00af00\">0</span> │ softmax[<span style=\"color: #00af00; text-decoration-color: #00af00\">0</span>][<span style=\"color: #00af00; text-decoration-color: #00af00\">0</span>],         │\n",
              "│                           │                        │                │ bidirectional[<span style=\"color: #00af00; text-decoration-color: #00af00\">0</span>][<span style=\"color: #00af00; text-decoration-color: #00af00\">0</span>]    │\n",
              "├───────────────────────────┼────────────────────────┼────────────────┼────────────────────────┤\n",
              "│ c0 (<span style=\"color: #0087ff; text-decoration-color: #0087ff\">InputLayer</span>)           │ (<span style=\"color: #00d7ff; text-decoration-color: #00d7ff\">None</span>, <span style=\"color: #00af00; text-decoration-color: #00af00\">64</span>)             │              <span style=\"color: #00af00; text-decoration-color: #00af00\">0</span> │ -                      │\n",
              "├───────────────────────────┼────────────────────────┼────────────────┼────────────────────────┤\n",
              "│ lstm (<span style=\"color: #0087ff; text-decoration-color: #0087ff\">LSTM</span>)               │ [(<span style=\"color: #00d7ff; text-decoration-color: #00d7ff\">None</span>, <span style=\"color: #00af00; text-decoration-color: #00af00\">64</span>), (<span style=\"color: #00d7ff; text-decoration-color: #00d7ff\">None</span>,    │         <span style=\"color: #00af00; text-decoration-color: #00af00\">33,024</span> │ dot[<span style=\"color: #00af00; text-decoration-color: #00af00\">0</span>][<span style=\"color: #00af00; text-decoration-color: #00af00\">0</span>], s0[<span style=\"color: #00af00; text-decoration-color: #00af00\">0</span>][<span style=\"color: #00af00; text-decoration-color: #00af00\">0</span>],   │\n",
              "│                           │ <span style=\"color: #00af00; text-decoration-color: #00af00\">64</span>), (<span style=\"color: #00d7ff; text-decoration-color: #00d7ff\">None</span>, <span style=\"color: #00af00; text-decoration-color: #00af00\">64</span>)]       │                │ c0[<span style=\"color: #00af00; text-decoration-color: #00af00\">0</span>][<span style=\"color: #00af00; text-decoration-color: #00af00\">0</span>]               │\n",
              "├───────────────────────────┼────────────────────────┼────────────────┼────────────────────────┤\n",
              "│ dense_2 (<span style=\"color: #0087ff; text-decoration-color: #0087ff\">Dense</span>)           │ (<span style=\"color: #00d7ff; text-decoration-color: #00d7ff\">None</span>, <span style=\"color: #00af00; text-decoration-color: #00af00\">5</span>)              │            <span style=\"color: #00af00; text-decoration-color: #00af00\">325</span> │ lstm[<span style=\"color: #00af00; text-decoration-color: #00af00\">0</span>][<span style=\"color: #00af00; text-decoration-color: #00af00\">1</span>]             │\n",
              "└───────────────────────────┴────────────────────────┴────────────────┴────────────────────────┘\n",
              "</pre>\n"
            ],
            "text/plain": [
              "┏━━━━━━━━━━━━━━━━━━━━━━━━━━━┳━━━━━━━━━━━━━━━━━━━━━━━━┳━━━━━━━━━━━━━━━━┳━━━━━━━━━━━━━━━━━━━━━━━━┓\n",
              "┃\u001b[1m \u001b[0m\u001b[1mLayer (type)             \u001b[0m\u001b[1m \u001b[0m┃\u001b[1m \u001b[0m\u001b[1mOutput Shape          \u001b[0m\u001b[1m \u001b[0m┃\u001b[1m \u001b[0m\u001b[1m       Param #\u001b[0m\u001b[1m \u001b[0m┃\u001b[1m \u001b[0m\u001b[1mConnected to          \u001b[0m\u001b[1m \u001b[0m┃\n",
              "┡━━━━━━━━━━━━━━━━━━━━━━━━━━━╇━━━━━━━━━━━━━━━━━━━━━━━━╇━━━━━━━━━━━━━━━━╇━━━━━━━━━━━━━━━━━━━━━━━━┩\n",
              "│ input_layer (\u001b[38;5;33mInputLayer\u001b[0m)  │ (\u001b[38;5;45mNone\u001b[0m, \u001b[38;5;34m4\u001b[0m, \u001b[38;5;34m100\u001b[0m)         │              \u001b[38;5;34m0\u001b[0m │ -                      │\n",
              "├───────────────────────────┼────────────────────────┼────────────────┼────────────────────────┤\n",
              "│ s0 (\u001b[38;5;33mInputLayer\u001b[0m)           │ (\u001b[38;5;45mNone\u001b[0m, \u001b[38;5;34m64\u001b[0m)             │              \u001b[38;5;34m0\u001b[0m │ -                      │\n",
              "├───────────────────────────┼────────────────────────┼────────────────┼────────────────────────┤\n",
              "│ bidirectional             │ (\u001b[38;5;45mNone\u001b[0m, \u001b[38;5;34m4\u001b[0m, \u001b[38;5;34m64\u001b[0m)          │         \u001b[38;5;34m34,048\u001b[0m │ input_layer[\u001b[38;5;34m0\u001b[0m][\u001b[38;5;34m0\u001b[0m]      │\n",
              "│ (\u001b[38;5;33mBidirectional\u001b[0m)           │                        │                │                        │\n",
              "├───────────────────────────┼────────────────────────┼────────────────┼────────────────────────┤\n",
              "│ repeat_vector             │ (\u001b[38;5;45mNone\u001b[0m, \u001b[38;5;34m4\u001b[0m, \u001b[38;5;34m64\u001b[0m)          │              \u001b[38;5;34m0\u001b[0m │ s0[\u001b[38;5;34m0\u001b[0m][\u001b[38;5;34m0\u001b[0m]               │\n",
              "│ (\u001b[38;5;33mRepeatVector\u001b[0m)            │                        │                │                        │\n",
              "├───────────────────────────┼────────────────────────┼────────────────┼────────────────────────┤\n",
              "│ concatenate (\u001b[38;5;33mConcatenate\u001b[0m) │ (\u001b[38;5;45mNone\u001b[0m, \u001b[38;5;34m4\u001b[0m, \u001b[38;5;34m128\u001b[0m)         │              \u001b[38;5;34m0\u001b[0m │ bidirectional[\u001b[38;5;34m0\u001b[0m][\u001b[38;5;34m0\u001b[0m],   │\n",
              "│                           │                        │                │ repeat_vector[\u001b[38;5;34m0\u001b[0m][\u001b[38;5;34m0\u001b[0m]    │\n",
              "├───────────────────────────┼────────────────────────┼────────────────┼────────────────────────┤\n",
              "│ dense (\u001b[38;5;33mDense\u001b[0m)             │ (\u001b[38;5;45mNone\u001b[0m, \u001b[38;5;34m4\u001b[0m, \u001b[38;5;34m10\u001b[0m)          │          \u001b[38;5;34m1,290\u001b[0m │ concatenate[\u001b[38;5;34m0\u001b[0m][\u001b[38;5;34m0\u001b[0m]      │\n",
              "├───────────────────────────┼────────────────────────┼────────────────┼────────────────────────┤\n",
              "│ dense_1 (\u001b[38;5;33mDense\u001b[0m)           │ (\u001b[38;5;45mNone\u001b[0m, \u001b[38;5;34m4\u001b[0m, \u001b[38;5;34m1\u001b[0m)           │             \u001b[38;5;34m11\u001b[0m │ dense[\u001b[38;5;34m0\u001b[0m][\u001b[38;5;34m0\u001b[0m]            │\n",
              "├───────────────────────────┼────────────────────────┼────────────────┼────────────────────────┤\n",
              "│ softmax (\u001b[38;5;33mSoftmax\u001b[0m)         │ (\u001b[38;5;45mNone\u001b[0m, \u001b[38;5;34m4\u001b[0m, \u001b[38;5;34m1\u001b[0m)           │              \u001b[38;5;34m0\u001b[0m │ dense_1[\u001b[38;5;34m0\u001b[0m][\u001b[38;5;34m0\u001b[0m]          │\n",
              "├───────────────────────────┼────────────────────────┼────────────────┼────────────────────────┤\n",
              "│ dot (\u001b[38;5;33mDot\u001b[0m)                 │ (\u001b[38;5;45mNone\u001b[0m, \u001b[38;5;34m1\u001b[0m, \u001b[38;5;34m64\u001b[0m)          │              \u001b[38;5;34m0\u001b[0m │ softmax[\u001b[38;5;34m0\u001b[0m][\u001b[38;5;34m0\u001b[0m],         │\n",
              "│                           │                        │                │ bidirectional[\u001b[38;5;34m0\u001b[0m][\u001b[38;5;34m0\u001b[0m]    │\n",
              "├───────────────────────────┼────────────────────────┼────────────────┼────────────────────────┤\n",
              "│ c0 (\u001b[38;5;33mInputLayer\u001b[0m)           │ (\u001b[38;5;45mNone\u001b[0m, \u001b[38;5;34m64\u001b[0m)             │              \u001b[38;5;34m0\u001b[0m │ -                      │\n",
              "├───────────────────────────┼────────────────────────┼────────────────┼────────────────────────┤\n",
              "│ lstm (\u001b[38;5;33mLSTM\u001b[0m)               │ [(\u001b[38;5;45mNone\u001b[0m, \u001b[38;5;34m64\u001b[0m), (\u001b[38;5;45mNone\u001b[0m,    │         \u001b[38;5;34m33,024\u001b[0m │ dot[\u001b[38;5;34m0\u001b[0m][\u001b[38;5;34m0\u001b[0m], s0[\u001b[38;5;34m0\u001b[0m][\u001b[38;5;34m0\u001b[0m],   │\n",
              "│                           │ \u001b[38;5;34m64\u001b[0m), (\u001b[38;5;45mNone\u001b[0m, \u001b[38;5;34m64\u001b[0m)]       │                │ c0[\u001b[38;5;34m0\u001b[0m][\u001b[38;5;34m0\u001b[0m]               │\n",
              "├───────────────────────────┼────────────────────────┼────────────────┼────────────────────────┤\n",
              "│ dense_2 (\u001b[38;5;33mDense\u001b[0m)           │ (\u001b[38;5;45mNone\u001b[0m, \u001b[38;5;34m5\u001b[0m)              │            \u001b[38;5;34m325\u001b[0m │ lstm[\u001b[38;5;34m0\u001b[0m][\u001b[38;5;34m1\u001b[0m]             │\n",
              "└───────────────────────────┴────────────────────────┴────────────────┴────────────────────────┘\n"
            ]
          },
          "metadata": {},
          "output_type": "display_data"
        },
        {
          "data": {
            "text/html": [
              "<pre style=\"white-space:pre;overflow-x:auto;line-height:normal;font-family:Menlo,'DejaVu Sans Mono',consolas,'Courier New',monospace\"><span style=\"font-weight: bold\"> Total params: </span><span style=\"color: #00af00; text-decoration-color: #00af00\">68,698</span> (268.35 KB)\n",
              "</pre>\n"
            ],
            "text/plain": [
              "\u001b[1m Total params: \u001b[0m\u001b[38;5;34m68,698\u001b[0m (268.35 KB)\n"
            ]
          },
          "metadata": {},
          "output_type": "display_data"
        },
        {
          "data": {
            "text/html": [
              "<pre style=\"white-space:pre;overflow-x:auto;line-height:normal;font-family:Menlo,'DejaVu Sans Mono',consolas,'Courier New',monospace\"><span style=\"font-weight: bold\"> Trainable params: </span><span style=\"color: #00af00; text-decoration-color: #00af00\">68,698</span> (268.35 KB)\n",
              "</pre>\n"
            ],
            "text/plain": [
              "\u001b[1m Trainable params: \u001b[0m\u001b[38;5;34m68,698\u001b[0m (268.35 KB)\n"
            ]
          },
          "metadata": {},
          "output_type": "display_data"
        },
        {
          "data": {
            "text/html": [
              "<pre style=\"white-space:pre;overflow-x:auto;line-height:normal;font-family:Menlo,'DejaVu Sans Mono',consolas,'Courier New',monospace\"><span style=\"font-weight: bold\"> Non-trainable params: </span><span style=\"color: #00af00; text-decoration-color: #00af00\">0</span> (0.00 B)\n",
              "</pre>\n"
            ],
            "text/plain": [
              "\u001b[1m Non-trainable params: \u001b[0m\u001b[38;5;34m0\u001b[0m (0.00 B)\n"
            ]
          },
          "metadata": {},
          "output_type": "display_data"
        }
      ],
      "source": [
        "model.summary()"
      ]
    },
    {
      "cell_type": "code",
      "execution_count": 65,
      "metadata": {
        "id": "O31WqQkU7FPh"
      },
      "outputs": [],
      "source": [
        "opt = Adam(learning_rate = 0.001, beta_1 = 0.9, beta_2 = 0.999) # Adam(...)\n",
        "model.compile(loss = 'categorical_crossentropy', optimizer = opt, metrics = ['accuracy'])"
      ]
    },
    {
      "cell_type": "code",
      "execution_count": 66,
      "metadata": {
        "colab": {
          "base_uri": "https://localhost:8080/"
        },
        "id": "2djo6e4AfzVg",
        "outputId": "0e99bc96-efe6-4c0b-cd55-942dd2f8ab7b"
      },
      "outputs": [
        {
          "name": "stdout",
          "output_type": "stream",
          "text": [
            "(396, 5)\n",
            "(50, 5)\n"
          ]
        }
      ],
      "source": [
        "y_train_one_hot = to_categorical(Y_train, num_classes = num_of_classes)\n",
        "y_test_one_hot = to_categorical(Y_test, num_classes = num_of_classes)\n",
        "print(y_train_one_hot.shape)\n",
        "print(y_test_one_hot.shape)"
      ]
    },
    {
      "cell_type": "code",
      "execution_count": 67,
      "metadata": {
        "colab": {
          "base_uri": "https://localhost:8080/"
        },
        "id": "mwkVfDnq5Ox6",
        "outputId": "f3640fd9-12f3-42e9-c449-bd58a1f203ca"
      },
      "outputs": [
        {
          "name": "stdout",
          "output_type": "stream",
          "text": [
            "[0. 1. 0. 0. 0.]\n",
            "[0. 0. 0. 1. 0.]\n",
            "(396, 4, 100)\n"
          ]
        }
      ],
      "source": [
        "print(y_train_one_hot[10])\n",
        "print(y_test_one_hot[10])\n",
        "\n",
        "print(X_train_embedding.shape)"
      ]
    },
    {
      "cell_type": "markdown",
      "metadata": {
        "id": "j_QD-64TCpBa"
      },
      "source": [
        "### Model Traning"
      ]
    },
    {
      "cell_type": "code",
      "execution_count": 68,
      "metadata": {
        "colab": {
          "base_uri": "https://localhost:8080/"
        },
        "id": "dKsjLCdpekGK",
        "outputId": "2fb7d92e-e3bb-4648-e7b2-aa8f7be34e6b"
      },
      "outputs": [
        {
          "name": "stdout",
          "output_type": "stream",
          "text": [
            "Epoch 1/100\n",
            "\u001b[1m8/8\u001b[0m \u001b[32m━━━━━━━━━━━━━━━━━━━━\u001b[0m\u001b[37m\u001b[0m \u001b[1m8s\u001b[0m 152ms/step - accuracy: 0.1783 - loss: 1.6095 - val_accuracy: 0.1000 - val_loss: 1.6112\n",
            "Epoch 2/100\n",
            "\u001b[1m8/8\u001b[0m \u001b[32m━━━━━━━━━━━━━━━━━━━━\u001b[0m\u001b[37m\u001b[0m \u001b[1m0s\u001b[0m 42ms/step - accuracy: 0.1866 - loss: 1.6092 - val_accuracy: 0.1800 - val_loss: 1.6117\n",
            "Epoch 3/100\n",
            "\u001b[1m8/8\u001b[0m \u001b[32m━━━━━━━━━━━━━━━━━━━━\u001b[0m\u001b[37m\u001b[0m \u001b[1m0s\u001b[0m 45ms/step - accuracy: 0.2092 - loss: 1.6091 - val_accuracy: 0.2400 - val_loss: 1.6116\n",
            "Epoch 4/100\n",
            "\u001b[1m8/8\u001b[0m \u001b[32m━━━━━━━━━━━━━━━━━━━━\u001b[0m\u001b[37m\u001b[0m \u001b[1m0s\u001b[0m 27ms/step - accuracy: 0.2758 - loss: 1.6086 - val_accuracy: 0.1800 - val_loss: 1.6118\n",
            "Epoch 5/100\n",
            "\u001b[1m8/8\u001b[0m \u001b[32m━━━━━━━━━━━━━━━━━━━━\u001b[0m\u001b[37m\u001b[0m \u001b[1m0s\u001b[0m 20ms/step - accuracy: 0.2374 - loss: 1.6078 - val_accuracy: 0.1200 - val_loss: 1.6124\n",
            "Epoch 6/100\n",
            "\u001b[1m8/8\u001b[0m \u001b[32m━━━━━━━━━━━━━━━━━━━━\u001b[0m\u001b[37m\u001b[0m \u001b[1m0s\u001b[0m 20ms/step - accuracy: 0.2140 - loss: 1.6071 - val_accuracy: 0.1200 - val_loss: 1.6125\n",
            "Epoch 7/100\n",
            "\u001b[1m8/8\u001b[0m \u001b[32m━━━━━━━━━━━━━━━━━━━━\u001b[0m\u001b[37m\u001b[0m \u001b[1m0s\u001b[0m 26ms/step - accuracy: 0.2081 - loss: 1.6064 - val_accuracy: 0.1800 - val_loss: 1.6125\n",
            "Epoch 8/100\n",
            "\u001b[1m8/8\u001b[0m \u001b[32m━━━━━━━━━━━━━━━━━━━━\u001b[0m\u001b[37m\u001b[0m \u001b[1m0s\u001b[0m 22ms/step - accuracy: 0.3026 - loss: 1.6048 - val_accuracy: 0.1800 - val_loss: 1.6113\n",
            "Epoch 9/100\n",
            "\u001b[1m8/8\u001b[0m \u001b[32m━━━━━━━━━━━━━━━━━━━━\u001b[0m\u001b[37m\u001b[0m \u001b[1m0s\u001b[0m 26ms/step - accuracy: 0.3221 - loss: 1.6013 - val_accuracy: 0.1800 - val_loss: 1.6106\n",
            "Epoch 10/100\n",
            "\u001b[1m8/8\u001b[0m \u001b[32m━━━━━━━━━━━━━━━━━━━━\u001b[0m\u001b[37m\u001b[0m \u001b[1m0s\u001b[0m 25ms/step - accuracy: 0.3112 - loss: 1.5967 - val_accuracy: 0.1600 - val_loss: 1.6063\n",
            "Epoch 11/100\n",
            "\u001b[1m8/8\u001b[0m \u001b[32m━━━━━━━━━━━━━━━━━━━━\u001b[0m\u001b[37m\u001b[0m \u001b[1m0s\u001b[0m 23ms/step - accuracy: 0.3204 - loss: 1.5899 - val_accuracy: 0.1800 - val_loss: 1.6024\n",
            "Epoch 12/100\n",
            "\u001b[1m8/8\u001b[0m \u001b[32m━━━━━━━━━━━━━━━━━━━━\u001b[0m\u001b[37m\u001b[0m \u001b[1m0s\u001b[0m 21ms/step - accuracy: 0.3859 - loss: 1.5807 - val_accuracy: 0.2200 - val_loss: 1.5958\n",
            "Epoch 13/100\n",
            "\u001b[1m8/8\u001b[0m \u001b[32m━━━━━━━━━━━━━━━━━━━━\u001b[0m\u001b[37m\u001b[0m \u001b[1m0s\u001b[0m 20ms/step - accuracy: 0.4462 - loss: 1.5576 - val_accuracy: 0.2200 - val_loss: 1.5853\n",
            "Epoch 14/100\n",
            "\u001b[1m8/8\u001b[0m \u001b[32m━━━━━━━━━━━━━━━━━━━━\u001b[0m\u001b[37m\u001b[0m \u001b[1m0s\u001b[0m 27ms/step - accuracy: 0.4225 - loss: 1.5367 - val_accuracy: 0.2000 - val_loss: 1.5667\n",
            "Epoch 15/100\n",
            "\u001b[1m8/8\u001b[0m \u001b[32m━━━━━━━━━━━━━━━━━━━━\u001b[0m\u001b[37m\u001b[0m \u001b[1m0s\u001b[0m 31ms/step - accuracy: 0.4365 - loss: 1.4948 - val_accuracy: 0.2200 - val_loss: 1.5468\n",
            "Epoch 16/100\n",
            "\u001b[1m8/8\u001b[0m \u001b[32m━━━━━━━━━━━━━━━━━━━━\u001b[0m\u001b[37m\u001b[0m \u001b[1m0s\u001b[0m 29ms/step - accuracy: 0.3980 - loss: 1.4354 - val_accuracy: 0.1800 - val_loss: 1.5183\n",
            "Epoch 17/100\n",
            "\u001b[1m8/8\u001b[0m \u001b[32m━━━━━━━━━━━━━━━━━━━━\u001b[0m\u001b[37m\u001b[0m \u001b[1m0s\u001b[0m 29ms/step - accuracy: 0.3889 - loss: 1.3533 - val_accuracy: 0.2000 - val_loss: 1.5308\n",
            "Epoch 18/100\n",
            "\u001b[1m8/8\u001b[0m \u001b[32m━━━━━━━━━━━━━━━━━━━━\u001b[0m\u001b[37m\u001b[0m \u001b[1m0s\u001b[0m 25ms/step - accuracy: 0.4230 - loss: 1.2394 - val_accuracy: 0.2200 - val_loss: 1.5193\n",
            "Epoch 19/100\n",
            "\u001b[1m8/8\u001b[0m \u001b[32m━━━━━━━━━━━━━━━━━━━━\u001b[0m\u001b[37m\u001b[0m \u001b[1m0s\u001b[0m 21ms/step - accuracy: 0.4295 - loss: 1.2645 - val_accuracy: 0.2000 - val_loss: 1.4650\n",
            "Epoch 20/100\n",
            "\u001b[1m8/8\u001b[0m \u001b[32m━━━━━━━━━━━━━━━━━━━━\u001b[0m\u001b[37m\u001b[0m \u001b[1m0s\u001b[0m 20ms/step - accuracy: 0.4762 - loss: 1.1899 - val_accuracy: 0.2400 - val_loss: 1.4131\n",
            "Epoch 21/100\n",
            "\u001b[1m8/8\u001b[0m \u001b[32m━━━━━━━━━━━━━━━━━━━━\u001b[0m\u001b[37m\u001b[0m \u001b[1m0s\u001b[0m 33ms/step - accuracy: 0.5261 - loss: 1.1184 - val_accuracy: 0.2600 - val_loss: 1.4134\n",
            "Epoch 22/100\n",
            "\u001b[1m8/8\u001b[0m \u001b[32m━━━━━━━━━━━━━━━━━━━━\u001b[0m\u001b[37m\u001b[0m \u001b[1m0s\u001b[0m 30ms/step - accuracy: 0.5263 - loss: 1.1139 - val_accuracy: 0.2800 - val_loss: 1.4122\n",
            "Epoch 23/100\n",
            "\u001b[1m8/8\u001b[0m \u001b[32m━━━━━━━━━━━━━━━━━━━━\u001b[0m\u001b[37m\u001b[0m \u001b[1m0s\u001b[0m 54ms/step - accuracy: 0.5313 - loss: 1.0782 - val_accuracy: 0.3400 - val_loss: 1.3501\n",
            "Epoch 24/100\n",
            "\u001b[1m8/8\u001b[0m \u001b[32m━━━━━━━━━━━━━━━━━━━━\u001b[0m\u001b[37m\u001b[0m \u001b[1m0s\u001b[0m 44ms/step - accuracy: 0.5447 - loss: 1.0620 - val_accuracy: 0.3400 - val_loss: 1.3607\n",
            "Epoch 25/100\n",
            "\u001b[1m8/8\u001b[0m \u001b[32m━━━━━━━━━━━━━━━━━━━━\u001b[0m\u001b[37m\u001b[0m \u001b[1m0s\u001b[0m 48ms/step - accuracy: 0.5890 - loss: 0.9765 - val_accuracy: 0.3600 - val_loss: 1.3553\n",
            "Epoch 26/100\n",
            "\u001b[1m8/8\u001b[0m \u001b[32m━━━━━━━━━━━━━━━━━━━━\u001b[0m\u001b[37m\u001b[0m \u001b[1m1s\u001b[0m 53ms/step - accuracy: 0.6146 - loss: 0.9577 - val_accuracy: 0.4200 - val_loss: 1.3082\n",
            "Epoch 27/100\n",
            "\u001b[1m8/8\u001b[0m \u001b[32m━━━━━━━━━━━━━━━━━━━━\u001b[0m\u001b[37m\u001b[0m \u001b[1m1s\u001b[0m 53ms/step - accuracy: 0.6199 - loss: 0.9633 - val_accuracy: 0.4600 - val_loss: 1.2772\n",
            "Epoch 28/100\n",
            "\u001b[1m8/8\u001b[0m \u001b[32m━━━━━━━━━━━━━━━━━━━━\u001b[0m\u001b[37m\u001b[0m \u001b[1m0s\u001b[0m 22ms/step - accuracy: 0.6570 - loss: 0.8946 - val_accuracy: 0.4200 - val_loss: 1.3354\n",
            "Epoch 29/100\n",
            "\u001b[1m8/8\u001b[0m \u001b[32m━━━━━━━━━━━━━━━━━━━━\u001b[0m\u001b[37m\u001b[0m \u001b[1m0s\u001b[0m 20ms/step - accuracy: 0.6730 - loss: 0.8330 - val_accuracy: 0.3200 - val_loss: 1.4263\n",
            "Epoch 30/100\n",
            "\u001b[1m8/8\u001b[0m \u001b[32m━━━━━━━━━━━━━━━━━━━━\u001b[0m\u001b[37m\u001b[0m \u001b[1m0s\u001b[0m 20ms/step - accuracy: 0.6616 - loss: 0.8176 - val_accuracy: 0.3800 - val_loss: 1.4091\n",
            "Epoch 31/100\n",
            "\u001b[1m8/8\u001b[0m \u001b[32m━━━━━━━━━━━━━━━━━━━━\u001b[0m\u001b[37m\u001b[0m \u001b[1m0s\u001b[0m 19ms/step - accuracy: 0.6858 - loss: 0.8230 - val_accuracy: 0.4400 - val_loss: 1.3067\n",
            "Epoch 32/100\n",
            "\u001b[1m8/8\u001b[0m \u001b[32m━━━━━━━━━━━━━━━━━━━━\u001b[0m\u001b[37m\u001b[0m \u001b[1m0s\u001b[0m 21ms/step - accuracy: 0.6873 - loss: 0.7934 - val_accuracy: 0.4400 - val_loss: 1.3538\n",
            "Epoch 33/100\n",
            "\u001b[1m8/8\u001b[0m \u001b[32m━━━━━━━━━━━━━━━━━━━━\u001b[0m\u001b[37m\u001b[0m \u001b[1m0s\u001b[0m 20ms/step - accuracy: 0.7007 - loss: 0.7291 - val_accuracy: 0.4400 - val_loss: 1.3553\n",
            "Epoch 34/100\n",
            "\u001b[1m8/8\u001b[0m \u001b[32m━━━━━━━━━━━━━━━━━━━━\u001b[0m\u001b[37m\u001b[0m \u001b[1m0s\u001b[0m 31ms/step - accuracy: 0.7325 - loss: 0.7265 - val_accuracy: 0.4800 - val_loss: 1.3241\n",
            "Epoch 35/100\n",
            "\u001b[1m8/8\u001b[0m \u001b[32m━━━━━━━━━━━━━━━━━━━━\u001b[0m\u001b[37m\u001b[0m \u001b[1m0s\u001b[0m 24ms/step - accuracy: 0.7601 - loss: 0.6831 - val_accuracy: 0.4400 - val_loss: 1.4180\n",
            "Epoch 36/100\n",
            "\u001b[1m8/8\u001b[0m \u001b[32m━━━━━━━━━━━━━━━━━━━━\u001b[0m\u001b[37m\u001b[0m \u001b[1m0s\u001b[0m 20ms/step - accuracy: 0.7673 - loss: 0.6305 - val_accuracy: 0.4800 - val_loss: 1.3215\n",
            "Epoch 37/100\n",
            "\u001b[1m8/8\u001b[0m \u001b[32m━━━━━━━━━━━━━━━━━━━━\u001b[0m\u001b[37m\u001b[0m \u001b[1m0s\u001b[0m 26ms/step - accuracy: 0.7717 - loss: 0.6366 - val_accuracy: 0.4600 - val_loss: 1.4527\n",
            "Epoch 38/100\n",
            "\u001b[1m8/8\u001b[0m \u001b[32m━━━━━━━━━━━━━━━━━━━━\u001b[0m\u001b[37m\u001b[0m \u001b[1m0s\u001b[0m 31ms/step - accuracy: 0.7918 - loss: 0.5822 - val_accuracy: 0.5000 - val_loss: 1.3967\n",
            "Epoch 39/100\n",
            "\u001b[1m8/8\u001b[0m \u001b[32m━━━━━━━━━━━━━━━━━━━━\u001b[0m\u001b[37m\u001b[0m \u001b[1m0s\u001b[0m 20ms/step - accuracy: 0.8092 - loss: 0.5475 - val_accuracy: 0.5000 - val_loss: 1.4092\n",
            "Epoch 40/100\n",
            "\u001b[1m8/8\u001b[0m \u001b[32m━━━━━━━━━━━━━━━━━━━━\u001b[0m\u001b[37m\u001b[0m \u001b[1m0s\u001b[0m 19ms/step - accuracy: 0.8198 - loss: 0.5037 - val_accuracy: 0.5000 - val_loss: 1.4954\n",
            "Epoch 41/100\n",
            "\u001b[1m8/8\u001b[0m \u001b[32m━━━━━━━━━━━━━━━━━━━━\u001b[0m\u001b[37m\u001b[0m \u001b[1m0s\u001b[0m 24ms/step - accuracy: 0.8062 - loss: 0.5397 - val_accuracy: 0.5000 - val_loss: 1.4495\n",
            "Epoch 42/100\n",
            "\u001b[1m8/8\u001b[0m \u001b[32m━━━━━━━━━━━━━━━━━━━━\u001b[0m\u001b[37m\u001b[0m \u001b[1m0s\u001b[0m 29ms/step - accuracy: 0.7945 - loss: 0.5147 - val_accuracy: 0.5000 - val_loss: 1.5265\n",
            "Epoch 43/100\n",
            "\u001b[1m8/8\u001b[0m \u001b[32m━━━━━━━━━━━━━━━━━━━━\u001b[0m\u001b[37m\u001b[0m \u001b[1m0s\u001b[0m 27ms/step - accuracy: 0.8494 - loss: 0.4428 - val_accuracy: 0.5000 - val_loss: 1.4410\n",
            "Epoch 44/100\n",
            "\u001b[1m8/8\u001b[0m \u001b[32m━━━━━━━━━━━━━━━━━━━━\u001b[0m\u001b[37m\u001b[0m \u001b[1m0s\u001b[0m 42ms/step - accuracy: 0.8264 - loss: 0.4796 - val_accuracy: 0.5200 - val_loss: 1.5456\n",
            "Epoch 45/100\n",
            "\u001b[1m8/8\u001b[0m \u001b[32m━━━━━━━━━━━━━━━━━━━━\u001b[0m\u001b[37m\u001b[0m \u001b[1m0s\u001b[0m 22ms/step - accuracy: 0.8136 - loss: 0.4690 - val_accuracy: 0.5000 - val_loss: 1.5579\n",
            "Epoch 46/100\n",
            "\u001b[1m8/8\u001b[0m \u001b[32m━━━━━━━━━━━━━━━━━━━━\u001b[0m\u001b[37m\u001b[0m \u001b[1m0s\u001b[0m 20ms/step - accuracy: 0.8284 - loss: 0.4785 - val_accuracy: 0.4800 - val_loss: 1.5074\n",
            "Epoch 47/100\n",
            "\u001b[1m8/8\u001b[0m \u001b[32m━━━━━━━━━━━━━━━━━━━━\u001b[0m\u001b[37m\u001b[0m \u001b[1m0s\u001b[0m 24ms/step - accuracy: 0.8455 - loss: 0.4551 - val_accuracy: 0.5000 - val_loss: 1.5562\n",
            "Epoch 48/100\n",
            "\u001b[1m8/8\u001b[0m \u001b[32m━━━━━━━━━━━━━━━━━━━━\u001b[0m\u001b[37m\u001b[0m \u001b[1m0s\u001b[0m 21ms/step - accuracy: 0.8611 - loss: 0.4238 - val_accuracy: 0.4800 - val_loss: 1.5458\n",
            "Epoch 49/100\n",
            "\u001b[1m8/8\u001b[0m \u001b[32m━━━━━━━━━━━━━━━━━━━━\u001b[0m\u001b[37m\u001b[0m \u001b[1m0s\u001b[0m 25ms/step - accuracy: 0.8811 - loss: 0.3665 - val_accuracy: 0.5200 - val_loss: 1.6217\n",
            "Epoch 50/100\n",
            "\u001b[1m8/8\u001b[0m \u001b[32m━━━━━━━━━━━━━━━━━━━━\u001b[0m\u001b[37m\u001b[0m \u001b[1m0s\u001b[0m 21ms/step - accuracy: 0.8523 - loss: 0.4054 - val_accuracy: 0.5000 - val_loss: 1.5877\n",
            "Epoch 51/100\n",
            "\u001b[1m8/8\u001b[0m \u001b[32m━━━━━━━━━━━━━━━━━━━━\u001b[0m\u001b[37m\u001b[0m \u001b[1m0s\u001b[0m 21ms/step - accuracy: 0.8791 - loss: 0.3730 - val_accuracy: 0.5200 - val_loss: 1.5134\n",
            "Epoch 52/100\n",
            "\u001b[1m8/8\u001b[0m \u001b[32m━━━━━━━━━━━━━━━━━━━━\u001b[0m\u001b[37m\u001b[0m \u001b[1m0s\u001b[0m 23ms/step - accuracy: 0.8848 - loss: 0.3535 - val_accuracy: 0.5200 - val_loss: 1.6669\n",
            "Epoch 53/100\n",
            "\u001b[1m8/8\u001b[0m \u001b[32m━━━━━━━━━━━━━━━━━━━━\u001b[0m\u001b[37m\u001b[0m \u001b[1m0s\u001b[0m 19ms/step - accuracy: 0.8540 - loss: 0.4023 - val_accuracy: 0.5200 - val_loss: 1.6669\n",
            "Epoch 54/100\n",
            "\u001b[1m8/8\u001b[0m \u001b[32m━━━━━━━━━━━━━━━━━━━━\u001b[0m\u001b[37m\u001b[0m \u001b[1m0s\u001b[0m 22ms/step - accuracy: 0.8728 - loss: 0.3417 - val_accuracy: 0.5200 - val_loss: 1.6651\n",
            "Epoch 55/100\n",
            "\u001b[1m8/8\u001b[0m \u001b[32m━━━━━━━━━━━━━━━━━━━━\u001b[0m\u001b[37m\u001b[0m \u001b[1m0s\u001b[0m 31ms/step - accuracy: 0.8917 - loss: 0.3266 - val_accuracy: 0.5600 - val_loss: 1.6737\n",
            "Epoch 56/100\n",
            "\u001b[1m8/8\u001b[0m \u001b[32m━━━━━━━━━━━━━━━━━━━━\u001b[0m\u001b[37m\u001b[0m \u001b[1m0s\u001b[0m 20ms/step - accuracy: 0.8993 - loss: 0.3035 - val_accuracy: 0.5200 - val_loss: 1.7194\n",
            "Epoch 57/100\n",
            "\u001b[1m8/8\u001b[0m \u001b[32m━━━━━━━━━━━━━━━━━━━━\u001b[0m\u001b[37m\u001b[0m \u001b[1m0s\u001b[0m 23ms/step - accuracy: 0.8933 - loss: 0.3355 - val_accuracy: 0.5400 - val_loss: 1.7247\n",
            "Epoch 58/100\n",
            "\u001b[1m8/8\u001b[0m \u001b[32m━━━━━━━━━━━━━━━━━━━━\u001b[0m\u001b[37m\u001b[0m \u001b[1m0s\u001b[0m 27ms/step - accuracy: 0.9142 - loss: 0.2850 - val_accuracy: 0.5200 - val_loss: 1.6503\n",
            "Epoch 59/100\n",
            "\u001b[1m8/8\u001b[0m \u001b[32m━━━━━━━━━━━━━━━━━━━━\u001b[0m\u001b[37m\u001b[0m \u001b[1m0s\u001b[0m 20ms/step - accuracy: 0.9121 - loss: 0.2939 - val_accuracy: 0.5400 - val_loss: 1.7861\n",
            "Epoch 60/100\n",
            "\u001b[1m8/8\u001b[0m \u001b[32m━━━━━━━━━━━━━━━━━━━━\u001b[0m\u001b[37m\u001b[0m \u001b[1m0s\u001b[0m 20ms/step - accuracy: 0.8987 - loss: 0.2700 - val_accuracy: 0.5200 - val_loss: 1.7373\n",
            "Epoch 61/100\n",
            "\u001b[1m8/8\u001b[0m \u001b[32m━━━━━━━━━━━━━━━━━━━━\u001b[0m\u001b[37m\u001b[0m \u001b[1m0s\u001b[0m 20ms/step - accuracy: 0.9072 - loss: 0.2914 - val_accuracy: 0.5200 - val_loss: 1.7495\n",
            "Epoch 62/100\n",
            "\u001b[1m8/8\u001b[0m \u001b[32m━━━━━━━━━━━━━━━━━━━━\u001b[0m\u001b[37m\u001b[0m \u001b[1m0s\u001b[0m 26ms/step - accuracy: 0.8944 - loss: 0.2864 - val_accuracy: 0.5200 - val_loss: 1.8801\n",
            "Epoch 63/100\n",
            "\u001b[1m8/8\u001b[0m \u001b[32m━━━━━━━━━━━━━━━━━━━━\u001b[0m\u001b[37m\u001b[0m \u001b[1m0s\u001b[0m 21ms/step - accuracy: 0.9206 - loss: 0.2617 - val_accuracy: 0.5200 - val_loss: 1.8337\n",
            "Epoch 64/100\n",
            "\u001b[1m8/8\u001b[0m \u001b[32m━━━━━━━━━━━━━━━━━━━━\u001b[0m\u001b[37m\u001b[0m \u001b[1m0s\u001b[0m 20ms/step - accuracy: 0.9348 - loss: 0.2467 - val_accuracy: 0.5200 - val_loss: 2.0054\n",
            "Epoch 65/100\n",
            "\u001b[1m8/8\u001b[0m \u001b[32m━━━━━━━━━━━━━━━━━━━━\u001b[0m\u001b[37m\u001b[0m \u001b[1m0s\u001b[0m 22ms/step - accuracy: 0.9207 - loss: 0.2296 - val_accuracy: 0.5400 - val_loss: 2.0468\n",
            "Epoch 66/100\n",
            "\u001b[1m8/8\u001b[0m \u001b[32m━━━━━━━━━━━━━━━━━━━━\u001b[0m\u001b[37m\u001b[0m \u001b[1m0s\u001b[0m 34ms/step - accuracy: 0.9212 - loss: 0.2575 - val_accuracy: 0.5200 - val_loss: 1.8840\n",
            "Epoch 67/100\n",
            "\u001b[1m8/8\u001b[0m \u001b[32m━━━━━━━━━━━━━━━━━━━━\u001b[0m\u001b[37m\u001b[0m \u001b[1m0s\u001b[0m 52ms/step - accuracy: 0.9168 - loss: 0.2337 - val_accuracy: 0.5800 - val_loss: 2.0040\n",
            "Epoch 68/100\n",
            "\u001b[1m8/8\u001b[0m \u001b[32m━━━━━━━━━━━━━━━━━━━━\u001b[0m\u001b[37m\u001b[0m \u001b[1m1s\u001b[0m 38ms/step - accuracy: 0.9211 - loss: 0.2445 - val_accuracy: 0.5400 - val_loss: 2.0894\n",
            "Epoch 69/100\n",
            "\u001b[1m8/8\u001b[0m \u001b[32m━━━━━━━━━━━━━━━━━━━━\u001b[0m\u001b[37m\u001b[0m \u001b[1m1s\u001b[0m 34ms/step - accuracy: 0.9027 - loss: 0.2487 - val_accuracy: 0.5000 - val_loss: 1.9687\n",
            "Epoch 70/100\n",
            "\u001b[1m8/8\u001b[0m \u001b[32m━━━━━━━━━━━━━━━━━━━━\u001b[0m\u001b[37m\u001b[0m \u001b[1m0s\u001b[0m 37ms/step - accuracy: 0.9390 - loss: 0.2136 - val_accuracy: 0.5400 - val_loss: 2.0205\n",
            "Epoch 71/100\n",
            "\u001b[1m8/8\u001b[0m \u001b[32m━━━━━━━━━━━━━━━━━━━━\u001b[0m\u001b[37m\u001b[0m \u001b[1m0s\u001b[0m 21ms/step - accuracy: 0.9299 - loss: 0.1890 - val_accuracy: 0.5200 - val_loss: 2.0599\n",
            "Epoch 72/100\n",
            "\u001b[1m8/8\u001b[0m \u001b[32m━━━━━━━━━━━━━━━━━━━━\u001b[0m\u001b[37m\u001b[0m \u001b[1m0s\u001b[0m 22ms/step - accuracy: 0.9408 - loss: 0.1920 - val_accuracy: 0.5400 - val_loss: 2.0802\n",
            "Epoch 73/100\n",
            "\u001b[1m8/8\u001b[0m \u001b[32m━━━━━━━━━━━━━━━━━━━━\u001b[0m\u001b[37m\u001b[0m \u001b[1m0s\u001b[0m 27ms/step - accuracy: 0.9471 - loss: 0.1656 - val_accuracy: 0.5200 - val_loss: 2.0806\n",
            "Epoch 74/100\n",
            "\u001b[1m8/8\u001b[0m \u001b[32m━━━━━━━━━━━━━━━━━━━━\u001b[0m\u001b[37m\u001b[0m \u001b[1m0s\u001b[0m 26ms/step - accuracy: 0.9477 - loss: 0.1819 - val_accuracy: 0.5200 - val_loss: 2.2483\n",
            "Epoch 75/100\n",
            "\u001b[1m8/8\u001b[0m \u001b[32m━━━━━━━━━━━━━━━━━━━━\u001b[0m\u001b[37m\u001b[0m \u001b[1m0s\u001b[0m 27ms/step - accuracy: 0.9547 - loss: 0.1759 - val_accuracy: 0.5400 - val_loss: 2.2467\n",
            "Epoch 76/100\n",
            "\u001b[1m8/8\u001b[0m \u001b[32m━━━━━━━━━━━━━━━━━━━━\u001b[0m\u001b[37m\u001b[0m \u001b[1m0s\u001b[0m 23ms/step - accuracy: 0.9567 - loss: 0.1620 - val_accuracy: 0.5200 - val_loss: 2.2313\n",
            "Epoch 77/100\n",
            "\u001b[1m8/8\u001b[0m \u001b[32m━━━━━━━━━━━━━━━━━━━━\u001b[0m\u001b[37m\u001b[0m \u001b[1m0s\u001b[0m 43ms/step - accuracy: 0.9651 - loss: 0.1506 - val_accuracy: 0.4400 - val_loss: 2.2778\n",
            "Epoch 78/100\n",
            "\u001b[1m8/8\u001b[0m \u001b[32m━━━━━━━━━━━━━━━━━━━━\u001b[0m\u001b[37m\u001b[0m \u001b[1m0s\u001b[0m 35ms/step - accuracy: 0.9364 - loss: 0.1748 - val_accuracy: 0.5200 - val_loss: 2.2735\n",
            "Epoch 79/100\n",
            "\u001b[1m8/8\u001b[0m \u001b[32m━━━━━━━━━━━━━━━━━━━━\u001b[0m\u001b[37m\u001b[0m \u001b[1m0s\u001b[0m 26ms/step - accuracy: 0.9627 - loss: 0.1530 - val_accuracy: 0.4800 - val_loss: 2.4145\n",
            "Epoch 80/100\n",
            "\u001b[1m8/8\u001b[0m \u001b[32m━━━━━━━━━━━━━━━━━━━━\u001b[0m\u001b[37m\u001b[0m \u001b[1m0s\u001b[0m 25ms/step - accuracy: 0.9611 - loss: 0.1393 - val_accuracy: 0.5200 - val_loss: 2.5973\n",
            "Epoch 81/100\n",
            "\u001b[1m8/8\u001b[0m \u001b[32m━━━━━━━━━━━━━━━━━━━━\u001b[0m\u001b[37m\u001b[0m \u001b[1m0s\u001b[0m 24ms/step - accuracy: 0.9423 - loss: 0.1658 - val_accuracy: 0.5200 - val_loss: 2.6187\n",
            "Epoch 82/100\n",
            "\u001b[1m8/8\u001b[0m \u001b[32m━━━━━━━━━━━━━━━━━━━━\u001b[0m\u001b[37m\u001b[0m \u001b[1m0s\u001b[0m 23ms/step - accuracy: 0.9570 - loss: 0.1478 - val_accuracy: 0.5200 - val_loss: 2.4235\n",
            "Epoch 83/100\n",
            "\u001b[1m8/8\u001b[0m \u001b[32m━━━━━━━━━━━━━━━━━━━━\u001b[0m\u001b[37m\u001b[0m \u001b[1m0s\u001b[0m 27ms/step - accuracy: 0.9715 - loss: 0.1226 - val_accuracy: 0.5000 - val_loss: 2.3525\n",
            "Epoch 84/100\n",
            "\u001b[1m8/8\u001b[0m \u001b[32m━━━━━━━━━━━━━━━━━━━━\u001b[0m\u001b[37m\u001b[0m \u001b[1m0s\u001b[0m 27ms/step - accuracy: 0.9718 - loss: 0.1181 - val_accuracy: 0.4800 - val_loss: 2.4589\n",
            "Epoch 85/100\n",
            "\u001b[1m8/8\u001b[0m \u001b[32m━━━━━━━━━━━━━━━━━━━━\u001b[0m\u001b[37m\u001b[0m \u001b[1m0s\u001b[0m 23ms/step - accuracy: 0.9654 - loss: 0.1183 - val_accuracy: 0.4800 - val_loss: 2.6085\n",
            "Epoch 86/100\n",
            "\u001b[1m8/8\u001b[0m \u001b[32m━━━━━━━━━━━━━━━━━━━━\u001b[0m\u001b[37m\u001b[0m \u001b[1m0s\u001b[0m 24ms/step - accuracy: 0.9669 - loss: 0.1167 - val_accuracy: 0.5000 - val_loss: 2.5772\n",
            "Epoch 87/100\n",
            "\u001b[1m8/8\u001b[0m \u001b[32m━━━━━━━━━━━━━━━━━━━━\u001b[0m\u001b[37m\u001b[0m \u001b[1m0s\u001b[0m 32ms/step - accuracy: 0.9778 - loss: 0.0940 - val_accuracy: 0.5000 - val_loss: 2.6256\n",
            "Epoch 88/100\n",
            "\u001b[1m8/8\u001b[0m \u001b[32m━━━━━━━━━━━━━━━━━━━━\u001b[0m\u001b[37m\u001b[0m \u001b[1m0s\u001b[0m 28ms/step - accuracy: 0.9665 - loss: 0.1109 - val_accuracy: 0.4400 - val_loss: 2.7077\n",
            "Epoch 89/100\n",
            "\u001b[1m8/8\u001b[0m \u001b[32m━━━━━━━━━━━━━━━━━━━━\u001b[0m\u001b[37m\u001b[0m \u001b[1m0s\u001b[0m 24ms/step - accuracy: 0.9837 - loss: 0.0861 - val_accuracy: 0.4800 - val_loss: 2.7395\n",
            "Epoch 90/100\n",
            "\u001b[1m8/8\u001b[0m \u001b[32m━━━━━━━━━━━━━━━━━━━━\u001b[0m\u001b[37m\u001b[0m \u001b[1m0s\u001b[0m 27ms/step - accuracy: 0.9782 - loss: 0.0887 - val_accuracy: 0.5000 - val_loss: 2.7900\n",
            "Epoch 91/100\n",
            "\u001b[1m8/8\u001b[0m \u001b[32m━━━━━━━━━━━━━━━━━━━━\u001b[0m\u001b[37m\u001b[0m \u001b[1m0s\u001b[0m 34ms/step - accuracy: 0.9926 - loss: 0.0756 - val_accuracy: 0.5000 - val_loss: 2.9147\n",
            "Epoch 92/100\n",
            "\u001b[1m8/8\u001b[0m \u001b[32m━━━━━━━━━━━━━━━━━━━━\u001b[0m\u001b[37m\u001b[0m \u001b[1m0s\u001b[0m 25ms/step - accuracy: 0.9748 - loss: 0.0876 - val_accuracy: 0.4600 - val_loss: 2.9467\n",
            "Epoch 93/100\n",
            "\u001b[1m8/8\u001b[0m \u001b[32m━━━━━━━━━━━━━━━━━━━━\u001b[0m\u001b[37m\u001b[0m \u001b[1m0s\u001b[0m 26ms/step - accuracy: 0.9838 - loss: 0.0757 - val_accuracy: 0.4600 - val_loss: 2.9089\n",
            "Epoch 94/100\n",
            "\u001b[1m8/8\u001b[0m \u001b[32m━━━━━━━━━━━━━━━━━━━━\u001b[0m\u001b[37m\u001b[0m \u001b[1m0s\u001b[0m 27ms/step - accuracy: 0.9792 - loss: 0.0802 - val_accuracy: 0.4600 - val_loss: 2.9651\n",
            "Epoch 95/100\n",
            "\u001b[1m8/8\u001b[0m \u001b[32m━━━━━━━━━━━━━━━━━━━━\u001b[0m\u001b[37m\u001b[0m \u001b[1m0s\u001b[0m 21ms/step - accuracy: 0.9935 - loss: 0.0607 - val_accuracy: 0.4800 - val_loss: 3.0969\n",
            "Epoch 96/100\n",
            "\u001b[1m8/8\u001b[0m \u001b[32m━━━━━━━━━━━━━━━━━━━━\u001b[0m\u001b[37m\u001b[0m \u001b[1m0s\u001b[0m 21ms/step - accuracy: 0.9851 - loss: 0.0646 - val_accuracy: 0.4400 - val_loss: 3.1012\n",
            "Epoch 97/100\n",
            "\u001b[1m8/8\u001b[0m \u001b[32m━━━━━━━━━━━━━━━━━━━━\u001b[0m\u001b[37m\u001b[0m \u001b[1m0s\u001b[0m 19ms/step - accuracy: 0.9980 - loss: 0.0560 - val_accuracy: 0.4600 - val_loss: 3.1426\n",
            "Epoch 98/100\n",
            "\u001b[1m8/8\u001b[0m \u001b[32m━━━━━━━━━━━━━━━━━━━━\u001b[0m\u001b[37m\u001b[0m \u001b[1m0s\u001b[0m 26ms/step - accuracy: 0.9965 - loss: 0.0584 - val_accuracy: 0.4800 - val_loss: 3.1896\n",
            "Epoch 99/100\n",
            "\u001b[1m8/8\u001b[0m \u001b[32m━━━━━━━━━━━━━━━━━━━━\u001b[0m\u001b[37m\u001b[0m \u001b[1m0s\u001b[0m 21ms/step - accuracy: 0.9896 - loss: 0.0589 - val_accuracy: 0.4600 - val_loss: 3.2246\n",
            "Epoch 100/100\n",
            "\u001b[1m8/8\u001b[0m \u001b[32m━━━━━━━━━━━━━━━━━━━━\u001b[0m\u001b[37m\u001b[0m \u001b[1m0s\u001b[0m 20ms/step - accuracy: 0.9907 - loss: 0.0543 - val_accuracy: 0.4400 - val_loss: 3.2990\n"
          ]
        }
      ],
      "source": [
        "s0 = np.zeros((len(X_train), n_s_))\n",
        "c0 = np.zeros((len(X_train), n_s_))\n",
        "\n",
        "s0_t = np.zeros((len(X_test), n_s_))\n",
        "c0_t = np.zeros((len(X_test), n_s_))\n",
        "\n",
        "\n",
        "checkpoint = ModelCheckpoint(\n",
        "    filepath='best_model.keras',\n",
        "    monitor='val_accuracy',\n",
        "    save_best_only=True,\n",
        "    mode='max'\n",
        ")\n",
        "\n",
        "\n",
        "history = model.fit(x = [X_train_embedding, s0, c0], y = y_train_one_hot,\n",
        "          validation_data = ([X_test_embedding, s0_t, c0_t], y_test_one_hot),\n",
        "          epochs=100, batch_size=50,\n",
        "          verbose = 1, callbacks=[checkpoint])"
      ]
    },
    {
      "cell_type": "code",
      "execution_count": 69,
      "metadata": {
        "id": "3CZWUnKGO8KX"
      },
      "outputs": [],
      "source": [
        "from tensorflow.keras.models import load_model\n",
        "best_model = load_model('best_model.keras')"
      ]
    },
    {
      "cell_type": "code",
      "execution_count": 70,
      "metadata": {
        "colab": {
          "base_uri": "https://localhost:8080/"
        },
        "id": "th5Vi8GqP_TK",
        "outputId": "17263239-f0f0-41c8-e78c-d6267144fc34"
      },
      "outputs": [
        {
          "name": "stdout",
          "output_type": "stream",
          "text": [
            "50\n"
          ]
        }
      ],
      "source": [
        "print(X_test.shape[0])"
      ]
    },
    {
      "cell_type": "code",
      "execution_count": 71,
      "metadata": {
        "colab": {
          "base_uri": "https://localhost:8080/"
        },
        "id": "feyZ-05UPPLL",
        "outputId": "e1151afe-e625-4ae6-bae6-9fe83a27efad"
      },
      "outputs": [
        {
          "name": "stdout",
          "output_type": "stream",
          "text": [
            "\u001b[1m1/1\u001b[0m \u001b[32m━━━━━━━━━━━━━━━━━━━━\u001b[0m\u001b[37m\u001b[0m \u001b[1m2s\u001b[0m 2s/step - accuracy: 0.5800 - loss: 2.0040\n",
            "Test Loss: [2.0039737224578857, 0.5799999833106995]\n"
          ]
        }
      ],
      "source": [
        "s0_test = np.zeros((X_test.shape[0], n_s_))\n",
        "c0_test = np.zeros((X_test.shape[0], n_s_))\n",
        "\n",
        "test_loss = best_model.evaluate([X_test_embedding, s0_test, c0_test], y_test_one_hot, batch_size=100)\n",
        "print(f\"Test Loss: {test_loss}\")"
      ]
    },
    {
      "cell_type": "markdown",
      "metadata": {
        "id": "UJNHn0TUC4AB"
      },
      "source": [
        "### Showing Samples from Test Set"
      ]
    },
    {
      "cell_type": "code",
      "execution_count": 72,
      "metadata": {
        "colab": {
          "base_uri": "https://localhost:8080/"
        },
        "id": "w-TOmvnZC3QI",
        "outputId": "24406675-fc6e-423b-f854-9b8198ef78fe"
      },
      "outputs": [
        {
          "name": "stdout",
          "output_type": "stream",
          "text": [
            "\u001b[1m2/2\u001b[0m \u001b[32m━━━━━━━━━━━━━━━━━━━━\u001b[0m\u001b[37m\u001b[0m \u001b[1m1s\u001b[0m 652ms/step\n"
          ]
        }
      ],
      "source": [
        "s0_test = np.zeros((X_test.shape[0], n_s_))\n",
        "c0_test = np.zeros((X_test.shape[0], n_s_))\n",
        "\n",
        "preds = best_model.predict([X_test_embedding, s0_test, c0_test])"
      ]
    },
    {
      "cell_type": "code",
      "execution_count": 77,
      "metadata": {
        "id": "9M7HMgSzDLJY"
      },
      "outputs": [],
      "source": [
        "sample_sentences = []\n",
        "sample_labels = []\n",
        "\n",
        "pred_classes = np.argmax(preds, axis = -1)\n",
        "\n",
        "for i in range(len(pred_classes)):\n",
        "  if pred_classes[i] == Y_test[i]:\n",
        "    sample_sentences.append(X_test_intact[i])\n",
        "    sample_labels.append(pred_classes[i])"
      ]
    },
    {
      "cell_type": "code",
      "execution_count": 80,
      "metadata": {
        "colab": {
          "base_uri": "https://localhost:8080/"
        },
        "id": "sRpTyojKDts4",
        "outputId": "a1170a94-9cc5-4290-8213-622d5095fe95"
      },
      "outputs": [
        {
          "name": "stdout",
          "output_type": "stream",
          "text": [
            "\n",
            "we had such a lovely dinner tonight\t\n",
            "Predicted emotion:  ❤️\n",
            "\n",
            "\n",
            "where is the food\t\n",
            "Predicted emotion:  🍴\n",
            "\n",
            "\n",
            "stop making this joke ha ha ha\t\n",
            "Predicted emotion:  😄\n",
            "\n",
            "\n",
            "where is the ball\t\n",
            "Predicted emotion:  ⚾\n",
            "\n",
            "\n",
            "this girl is messing with me\t\n",
            "Predicted emotion:  😞\n",
            "\n",
            "\n",
            "are you serious ha ha\t\n",
            "Predicted emotion:  😄\n",
            "\n",
            "\n",
            "let us go play baseball\t\n",
            "Predicted emotion:  ⚾\n",
            "\n",
            "\n",
            "this stupid grader is not working \t\n",
            "Predicted emotion:  😞\n",
            "\n",
            "\n",
            "work is horrible\t\n",
            "Predicted emotion:  😞\n",
            "\n",
            "\n",
            "stop messing around\t\n",
            "Predicted emotion:  😞\n",
            "\n",
            "\n",
            "i love taking breaks\t\n",
            "Predicted emotion:  ❤️\n",
            "\n",
            "\n",
            "i boiled rice\t\n",
            "Predicted emotion:  🍴\n",
            "\n",
            "\n",
            "she is a bully\t\n",
            "Predicted emotion:  😞\n",
            "\n",
            "\n",
            "my grandmother is the love of my life\t\n",
            "Predicted emotion:  ❤️\n",
            "\n",
            "\n",
            "i miss you so much\t\n",
            "Predicted emotion:  ❤️\n",
            "\n",
            "\n",
            "throw the ball\t\n",
            "Predicted emotion:  ⚾\n",
            "\n",
            "\n",
            "she said yes\t\n",
            "Predicted emotion:  😄\n",
            "\n",
            "\n",
            "will you be my valentine\t\n",
            "Predicted emotion:  ❤️\n",
            "\n",
            "\n",
            "i am starving\t\n",
            "Predicted emotion:  🍴\n",
            "\n",
            "\n",
            "see you at the restaurant\t\n",
            "Predicted emotion:  🍴\n",
            "\n",
            "\n",
            "i like to laugh\t\n",
            "Predicted emotion:  😄\n",
            "\n",
            "\n",
            "i miss her\t\n",
            "Predicted emotion:  ❤️\n",
            "\n",
            "\n",
            "what is your favorite baseball game\t\n",
            "Predicted emotion:  ⚾\n",
            "\n",
            "\n",
            "good job\t\n",
            "Predicted emotion:  😄\n",
            "\n",
            "\n",
            "i love to the stars and back\t\n",
            "Predicted emotion:  ❤️\n",
            "\n",
            "\n",
            "ha ha ha lol\t\n",
            "Predicted emotion:  😄\n",
            "\n",
            "\n",
            "i want to joke\t\n",
            "Predicted emotion:  😄\n",
            "\n",
            "\n",
            "family is all i have\t\n",
            "Predicted emotion:  ❤️\n",
            "\n",
            "\n",
            "good joke\t\n",
            "Predicted emotion:  😄\n",
            "\n",
            "\n"
          ]
        }
      ],
      "source": [
        "print_predictions(X = np.asarray(sample_sentences), pred = np.asarray(sample_labels))"
      ]
    },
    {
      "cell_type": "markdown",
      "metadata": {
        "id": "V7qBPgbVOb40"
      },
      "source": [
        "### Plotting Attention Weights"
      ]
    },
    {
      "cell_type": "code",
      "execution_count": 90,
      "metadata": {
        "colab": {
          "base_uri": "https://localhost:8080/",
          "height": 806
        },
        "id": "Kw65kBg6MpsK",
        "outputId": "5798e01b-da91-4379-e5e1-98bb6e58814f"
      },
      "outputs": [
        {
          "name": "stdout",
          "output_type": "stream",
          "text": [
            "s0 and c0 shapes:  (1, 64) (1, 64)\n",
            "sentence processed:  ['laugh lot funny joke']\n",
            "Embedding shape:  (1, 4, 100)\n",
            "attention weights shape:  (1, 4, 1)\n",
            "attention weights (normalized):  tf.Tensor(\n",
            "[[[0.9815383 ]\n",
            "  [0.19993575]\n",
            "  [0.1910074 ]\n",
            "  [1.        ]]], shape=(1, 4, 1), dtype=float32)\n",
            "\u001b[1m1/1\u001b[0m \u001b[32m━━━━━━━━━━━━━━━━━━━━\u001b[0m\u001b[37m\u001b[0m \u001b[1m0s\u001b[0m 104ms/step\n",
            "Emoji:  😄\n"
          ]
        },
        {
          "data": {
            "text/plain": [
              "<Figure size 640x480 with 0 Axes>"
            ]
          },
          "metadata": {},
          "output_type": "display_data"
        },
        {
          "data": {
            "image/png": "[encoded data removed]",
            "text/plain": [
              "<Figure size 800x850 with 2 Axes>"
            ]
          },
          "metadata": {},
          "output_type": "display_data"
        }
      ],
      "source": [
        "test_sentence = \"I laughed a lot to his funny joke\"\n",
        "find_attetion_between_label_and_words(modelx = best_model, text = np.asarray([test_sentence.lower()]),\n",
        "                                      Tx = max_len_mask, Ty = 1, embed_model = word2vec)"
      ]
    },
    {
      "cell_type": "code",
      "execution_count": 111,
      "metadata": {
        "colab": {
          "base_uri": "https://localhost:8080/",
          "height": 806
        },
        "id": "ssuFBxp-XnxN",
        "outputId": "79a3fd26-fc74-4308-f49d-ca67afc78716"
      },
      "outputs": [
        {
          "name": "stdout",
          "output_type": "stream",
          "text": [
            "s0 and c0 shapes:  (1, 64) (1, 64)\n",
            "sentence processed:  ['stupid grader work stupid']\n",
            "Embedding shape:  (1, 4, 100)\n",
            "attention weights shape:  (1, 4, 1)\n",
            "attention weights (normalized):  tf.Tensor(\n",
            "[[[1.        ]\n",
            "  [0.29546192]\n",
            "  [0.20034367]\n",
            "  [0.7413355 ]]], shape=(1, 4, 1), dtype=float32)\n",
            "\u001b[1m1/1\u001b[0m \u001b[32m━━━━━━━━━━━━━━━━━━━━\u001b[0m\u001b[37m\u001b[0m \u001b[1m0s\u001b[0m 69ms/step\n",
            "Emoji:  😞\n"
          ]
        },
        {
          "data": {
            "text/plain": [
              "<Figure size 640x480 with 0 Axes>"
            ]
          },
          "metadata": {},
          "output_type": "display_data"
        },
        {
          "data": {
            "image/png": "[encoded data removed]",
            "text/plain": [
              "<Figure size 800x850 with 2 Axes>"
            ]
          },
          "metadata": {},
          "output_type": "display_data"
        }
      ],
      "source": [
        "test_sentence = 'this stupid grader is not working'\n",
        "find_attetion_between_label_and_words(modelx = best_model, text = np.asarray([test_sentence.lower()]),\n",
        "                                      Tx = max_len_mask, Ty = 1, embed_model = word2vec)"
      ]
    },
    {
      "cell_type": "code",
      "execution_count": 119,
      "metadata": {
        "colab": {
          "base_uri": "https://localhost:8080/",
          "height": 876
        },
        "id": "UNtQMFGpYNpd",
        "outputId": "5e9af829-db26-4de1-b3af-2c2cdcc9b478"
      },
      "outputs": [
        {
          "name": "stdout",
          "output_type": "stream",
          "text": [
            "s0 and c0 shapes:  (1, 64) (1, 64)\n",
            "sentence processed:  ['eat vegetable work meat']\n",
            "Embedding shape:  (1, 4, 100)\n",
            "attention weights shape:  (1, 4, 1)\n",
            "attention weights (normalized):  tf.Tensor(\n",
            "[[[1.        ]\n",
            "  [0.3996235 ]\n",
            "  [0.14483994]\n",
            "  [0.4466253 ]]], shape=(1, 4, 1), dtype=float32)\n",
            "\u001b[1m1/1\u001b[0m \u001b[32m━━━━━━━━━━━━━━━━━━━━\u001b[0m\u001b[37m\u001b[0m \u001b[1m0s\u001b[0m 100ms/step\n",
            "Emoji:  🍴\n"
          ]
        },
        {
          "name": "stderr",
          "output_type": "stream",
          "text": [
            "/usr/local/lib/python3.11/dist-packages/IPython/core/events.py:89: UserWarning: Glyph 127860 (\\N{FORK AND KNIFE}) missing from font(s) DejaVu Sans.\n",
            "  func(*args, **kwargs)\n"
          ]
        },
        {
          "data": {
            "text/plain": [
              "<Figure size 640x480 with 0 Axes>"
            ]
          },
          "metadata": {},
          "output_type": "display_data"
        },
        {
          "name": "stderr",
          "output_type": "stream",
          "text": [
            "/usr/local/lib/python3.11/dist-packages/IPython/core/pylabtools.py:151: UserWarning: Glyph 127860 (\\N{FORK AND KNIFE}) missing from font(s) DejaVu Sans.\n",
            "  fig.canvas.print_figure(bytes_io, **kw)\n"
          ]
        },
        {
          "data": {
            "image/png": "[encoded data removed]",
            "text/plain": [
              "<Figure size 800x850 with 2 Axes>"
            ]
          },
          "metadata": {},
          "output_type": "display_data"
        }
      ],
      "source": [
        "test_sentence = 'i eat vegetable after work and meat for dinner'\n",
        "find_attetion_between_label_and_words(modelx = best_model, text = np.asarray([test_sentence.lower()]),\n",
        "                                      Tx = max_len_mask, Ty = 1, embed_model = word2vec)"
      ]
    }
  ],
  "metadata": {
    "colab": {
      "collapsed_sections": [
        "jNW5u-vGn-pr",
        "o2lXSddpoBQ7",
        "gp5eSN0goIwC",
        "JhwIpB7WoSTZ",
        "rTfrM8teoYcJ",
        "j_QD-64TCpBa"
      ],
      "provenance": []
    },
    "kernelspec": {
      "display_name": "Python 3",
      "name": "python3"
    },
    "language_info": {
      "name": "python"
    }
  },
  "nbformat": 4,
  "nbformat_minor": 0
}

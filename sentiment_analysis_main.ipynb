{
  "cells": [
    {
      "cell_type": "markdown",
      "source": [
        "### Installations"
      ],
      "metadata": {
        "id": "jNW5u-vGn-pr"
      }
    },
    {
      "cell_type": "code",
      "execution_count": 1,
      "metadata": {
        "colab": {
          "base_uri": "https://localhost:8080/"
        },
        "id": "W_t9YMmRAbCG",
        "outputId": "be1cec83-763a-4a14-fb4f-a42a9d2b7090"
      },
      "outputs": [
        {
          "output_type": "stream",
          "name": "stdout",
          "text": [
            "\u001b[?25l   \u001b[90m━━━━━━━━━━━━━━━━━━━━━━━━━━━━━━━━━━━━━━━━\u001b[0m \u001b[32m0.0/590.6 kB\u001b[0m \u001b[31m?\u001b[0m eta \u001b[36m-:--:--\u001b[0m\r\u001b[2K   \u001b[91m━━━━━━\u001b[0m\u001b[90m╺\u001b[0m\u001b[90m━━━━━━━━━━━━━━━━━━━━━━━━━━━━━━━━━\u001b[0m \u001b[32m92.2/590.6 kB\u001b[0m \u001b[31m2.7 MB/s\u001b[0m eta \u001b[36m0:00:01\u001b[0m\r\u001b[2K   \u001b[91m━━━━━━━━━━━━━━━━━━━━━━━━━━━━━━━━━━━━━━━\u001b[0m\u001b[91m╸\u001b[0m \u001b[32m583.7/590.6 kB\u001b[0m \u001b[31m8.9 MB/s\u001b[0m eta \u001b[36m0:00:01\u001b[0m\r\u001b[2K   \u001b[90m━━━━━━━━━━━━━━━━━━━━━━━━━━━━━━━━━━━━━━━━\u001b[0m \u001b[32m590.6/590.6 kB\u001b[0m \u001b[31m7.2 MB/s\u001b[0m eta \u001b[36m0:00:00\u001b[0m\n",
            "\u001b[?25h<frozen runpy>:128: RuntimeWarning: 'nltk.downloader' found in sys.modules after import of package 'nltk', but prior to execution of 'nltk.downloader'; this may result in unpredictable behaviour\n"
          ]
        }
      ],
      "source": [
        "!pip3 install emoji --quiet\n",
        "!python -m nltk.downloader all --quiet\n",
        "!pip3 install gensim --quiet"
      ]
    },
    {
      "cell_type": "code",
      "execution_count": 2,
      "metadata": {
        "id": "y29cPeO-iW0m"
      },
      "outputs": [],
      "source": [
        "from tensorflow.keras.layers import Bidirectional, Concatenate, Permute, Dot, Input, LSTM, Multiply, Softmax\n",
        "from tensorflow.keras.layers import RepeatVector, Dense, Activation, Lambda\n",
        "from tensorflow.keras.optimizers import Adam\n",
        "from tensorflow.keras.utils import to_categorical\n",
        "from tensorflow.keras.models import load_model, Model\n",
        "import tensorflow.keras.backend as K\n",
        "from gensim.models import Word2Vec\n",
        "from tensorflow.keras.callbacks import ModelCheckpoint\n",
        "import tensorflow as tf\n",
        "import numpy as np\n",
        "import random\n",
        "import emoji\n",
        "from tqdm import tqdm\n",
        "import matplotlib.pyplot as plt\n",
        "%matplotlib inline"
      ]
    },
    {
      "cell_type": "code",
      "source": [
        "import sys\n",
        "sys.path.append('/content/datasets')\n",
        "sys.path.append('/content/util_functions')\n",
        "\n",
        "from preprocessing_utils import *\n",
        "from attention_map_utils import *"
      ],
      "metadata": {
        "id": "bHU57qEHOYkX"
      },
      "execution_count": 68,
      "outputs": []
    },
    {
      "cell_type": "markdown",
      "source": [
        "### Preprocessing Texts"
      ],
      "metadata": {
        "id": "o2lXSddpoBQ7"
      }
    },
    {
      "cell_type": "code",
      "execution_count": 4,
      "metadata": {
        "id": "OiUpNuIi_slm"
      },
      "outputs": [],
      "source": [
        "X_train, Y_train, X_test, Y_test = prepare_train_and_test_sets('/content/datasets/train_emoji.csv',\n",
        "                                                               '/content/datasets/test_emoji.csv')"
      ]
    },
    {
      "cell_type": "code",
      "source": [
        "max_len_of_sentence = 0\n",
        "for sentence in X_train:\n",
        "  if max_len_of_sentence < len(sentence.split()):\n",
        "    max_len_of_sentence = len(sentence.split())\n",
        "\n",
        "num_of_classes = max(Y_train) + 1\n",
        "max_len_mask = 4"
      ],
      "metadata": {
        "id": "P0XykOygW8jq"
      },
      "execution_count": 5,
      "outputs": []
    },
    {
      "cell_type": "code",
      "source": [
        "print(\"Freq of labels in trainset: \")\n",
        "count_freq_labels(Y_train, num_of_classes)\n",
        "\n",
        "# print(\"Freq of labels in testset: \")\n",
        "# count_freq_labels(Y_test)"
      ],
      "metadata": {
        "colab": {
          "base_uri": "https://localhost:8080/",
          "height": 541
        },
        "id": "vkoQkbafY5gv",
        "outputId": "89158692-8c6c-4b3e-e742-3b60a66f32d8"
      },
      "execution_count": 6,
      "outputs": [
        {
          "output_type": "stream",
          "name": "stdout",
          "text": [
            "Freq of labels in trainset: \n",
            "0  :  40  :  0.202\n",
            "1  :  40  :  0.202\n",
            "2  :  39  :  0.197\n",
            "3  :  38  :  0.192\n",
            "4  :  41  :  0.207\n"
          ]
        },
        {
          "output_type": "display_data",
          "data": {
            "text/plain": [
              "<Figure size 640x480 with 1 Axes>"
            ],
            "image/png": "[encoded data removed]"
          },
          "metadata": {}
        }
      ]
    },
    {
      "cell_type": "code",
      "source": [
        "# X_train = lemmatize(X_train)\n",
        "X_train = preprocess_corpus(X_train, max_len_mask)\n",
        "X_test, X_test_intact = preprocess_corpus(X_test, max_len_mask, return_unprocessed = True)"
      ],
      "metadata": {
        "id": "CmA0GXWQzG0Y"
      },
      "execution_count": 7,
      "outputs": []
    },
    {
      "cell_type": "code",
      "source": [
        "print(X_train[:5])"
      ],
      "metadata": {
        "colab": {
          "base_uri": "https://localhost:8080/"
        },
        "id": "wPAPoK4aGk46",
        "outputId": "92d9de0a-7673-4f14-9c7c-51dc10108748"
      },
      "execution_count": 8,
      "outputs": [
        {
          "output_type": "stream",
          "name": "stdout",
          "text": [
            "['never talk never talk' 'proud achievement proud achievement'\n",
            " 'worst day life worst' 'miss much miss much' 'food life food life']\n"
          ]
        }
      ]
    },
    {
      "cell_type": "code",
      "source": [
        "frequent_words = dict()\n",
        "\n",
        "for i in range(num_of_classes):\n",
        "  frequent_words[i] = dict()\n",
        "\n",
        "frequent_words = calc_most_freq_words(X_train, Y_train, frequent_words)\n",
        "frequent_words = calc_most_freq_words(X_test, Y_test, frequent_words)\n",
        "for i in range(num_of_classes):\n",
        "  frequent_words[i] = sorted(frequent_words[i].items(), key=lambda x:x[1], reverse = True)"
      ],
      "metadata": {
        "id": "kg6ZiGPqsbCJ"
      },
      "execution_count": 9,
      "outputs": []
    },
    {
      "cell_type": "code",
      "source": [
        "print(\"Love:\\t\\t\", frequent_words[0])\n",
        "print(\"Baseball:\\t\", frequent_words[1])\n",
        "print(\"Smile:\\t\\t\", frequent_words[2])\n",
        "print(\"Sad:\\t\\t\", frequent_words[3])\n",
        "print(\"Food:\\t\\t\", frequent_words[4])"
      ],
      "metadata": {
        "colab": {
          "base_uri": "https://localhost:8080/"
        },
        "id": "DA2s1OzouZba",
        "outputId": "19c226f0-4e21-44e7-fa3c-4fc9b548623f"
      },
      "execution_count": 10,
      "outputs": [
        {
          "output_type": "stream",
          "name": "stdout",
          "text": [
            "Love:\t\t [('miss', 23), ('love', 18), ('cute', 12), ('dog', 7), ('lovely', 6), ('family', 6), ('much', 5), ('dear', 5), ('handsome', 5), ('valentine', 4), ('attractive', 3), ('lot', 3), ('kind', 3), ('date', 3), ('hug', 3), ('friend', 3), ('grandmother', 3), ('present', 3), ('upset', 3), ('mum', 2), ('baby', 2), ('dad', 2), ('person', 2), ('see', 2), ('good', 2), ('tonight', 2), ('dinner', 2), ('dearest', 1), ('adore', 1), ('two', 1), ('like', 1), ('puppy', 1), ('adorable', 1), ('friendly', 1), ('look', 1), ('want', 1), ('ever', 1), ('song', 1), ('best', 1), ('get', 1), ('give', 0), ('cutest', 0), ('man', 0), ('attracitve', 0), ('saw', 0), ('take', 0), ('break', 0), ('life', 0), ('day', 0), ('near', 0), ('valentin', 0), ('star', 0), ('back', 0)]\n",
            "Baseball:\t [('ball', 15), ('baseball', 11), ('game', 8), ('player', 8), ('play', 6), ('run', 6), ('go', 5), ('exercise', 5), ('stadium', 5), ('many', 4), ('let', 4), ('favorite', 4), ('staduim', 4), ('match', 4), ('want', 3), ('chicago', 3), ('final', 3), ('get', 3), ('throw', 3), ('score', 2), ('finish', 2), ('suck', 2), ('afternoon', 2), ('rule', 2), ('point', 1), ('cub', 1), ('best', 1), ('like', 1), ('catcher', 1), ('first', 1), ('man', 1), ('make', 1), ('basketball', 1), ('begin', 1), ('sport', 1), ('great', 1), ('know', 1), ('practice', 1), ('pitch', 1), ('base', 0), ('home', 0), ('see', 0), ('team', 0), ('bring', 0), ('full', 0), ('fan', 0), ('key', 0), ('health', 0), ('u', 0), ('really', 0), ('well', 0)]\n",
            "Smile:\t\t [('funny', 11), ('ha', 11), ('joke', 10), ('job', 8), ('good', 7), ('happy', 7), ('like', 6), ('lol', 6), ('congrats', 5), ('excite', 5), ('laugh', 5), ('dance', 5), ('get', 4), ('smile', 4), ('make', 4), ('bravo', 4), ('great', 4), ('proud', 3), ('say', 3), ('yes', 3), ('awesome', 3), ('fun', 2), ('lot', 2), ('achievement', 1), ('acceptance', 1), ('approve', 1), ('celebrate', 1), ('soon', 1), ('candy', 1), ('life', 1), ('well', 1), ('exam', 1), ('incredibly', 1), ('charm', 1), ('amaze', 1), ('impress', 1), ('moment', 1), ('guy', 1), ('specialization', 1), ('forever', 1), ('lecture', 1), ('raise', 1), ('serious', 1), ('baby', 1), ('brighten', 1), ('day', 1), ('enjoy', 1), ('break', 1), ('go', 1), ('jacket', 1), ('want', 1), ('totally', 1), ('sound', 0), ('plan', 0), ('see', 0), ('long', 0), ('kill', 0), ('haha', 0), ('intelligent', 0), ('talented', 0), ('announcement', 0), ('people', 0), ('dedication', 0), ('project', 0), ('new', 0), ('though', 0), ('stop', 0), ('deserve', 0), ('prize', 0)]\n",
            "Sad:\t\t [('bad', 10), ('work', 9), ('stop', 7), ('answer', 5), ('get', 4), ('fail', 4), ('shout', 3), ('suck', 3), ('girl', 3), ('awful', 3), ('hate', 3), ('disappoint', 3), ('anything', 3), ('frustrate', 3), ('lose', 3), ('homework', 3), ('loser', 3), ('wrong', 3), ('bully', 3), ('upset', 3), ('never', 2), ('life', 2), ('come', 2), ('mess', 2), ('breakfast', 2), ('talk', 1), ('worst', 1), ('assignment', 1), ('long', 1), ('text', 1), ('stupidity', 1), ('limit', 1), ('algorithm', 1), ('one', 1), ('like', 1), ('sad', 1), ('dare', 1), ('ask', 1), ('mean', 1), ('grader', 1), ('grade', 1), ('think', 1), ('wait', 1), ('wallet', 1), ('midterm', 1), ('qualify', 1), ('position', 1), ('could', 1), ('solve', 1), ('always', 1), ('hard', 1), ('stupid', 1), ('horrible', 1), ('feel', 1), ('birthday', 1), ('bore', 1), ('go', 1), ('away', 1), ('yesterday', 1), ('exercise', 1), ('day', 0), ('say', 0), ('bullshit', 0), ('perform', 0), ('poorly', 0), ('take', 0), ('forever', 0), ('ready', 0), ('code', 0), ('give', 0), ('end', 0), ('alone', 0), ('humiliate', 0), ('sister', 0), ('two', 0), ('hour', 0), ('cannot', 0), ('u', 0), ('exam', 0), ('pas', 0), ('around', 0), ('breakfas', 0)]\n",
            "Food:\t\t [('food', 15), ('want', 12), ('dinner', 9), ('eat', 9), ('restaurant', 9), ('hungry', 7), ('healthy', 6), ('let', 5), ('tasty', 5), ('starve', 5), ('rice', 4), ('cook', 3), ('meat', 3), ('cake', 3), ('vegetable', 3), ('love', 3), ('order', 3), ('suggestion', 3), ('boil', 3), ('life', 2), ('brunch', 2), ('join', 2), ('french', 2), ('macaroon', 2), ('like', 2), ('pizza', 2), ('cooky', 2), ('good', 2), ('cheese', 2), ('sushi', 1), ('together', 1), ('lunch', 1), ('cannot', 1), ('u', 1), ('go', 1), ('last', 1), ('see', 1), ('day', 0), ('chinese', 0), ('indian', 0), ('pizze', 0), ('frequently', 0), ('best', 0), ('tonight', 0), ('dad', 0), ('night', 0)]\n"
          ]
        }
      ]
    },
    {
      "cell_type": "code",
      "source": [
        "print(\"Frequency of sentences' lengths in X_train: \")\n",
        "get_freq_count_len(X_train)\n",
        "\n",
        "print(\"Frequency of sentences' lengths in X_test: \")\n",
        "get_freq_count_len(X_test)"
      ],
      "metadata": {
        "colab": {
          "base_uri": "https://localhost:8080/"
        },
        "id": "F3CvCZx8ambn",
        "outputId": "34c476d5-875e-46e3-d06b-e7158cd5f25a"
      },
      "execution_count": 11,
      "outputs": [
        {
          "output_type": "stream",
          "name": "stdout",
          "text": [
            "Frequency of sentences' lengths in X_train: \n",
            "4  :  198\n",
            "Frequency of sentences' lengths in X_test: \n",
            "4  :  50\n"
          ]
        }
      ]
    },
    {
      "cell_type": "code",
      "source": [
        "copy_of_X_train = X_train.copy()\n",
        "copy_of_X_test = X_test.copy()\n",
        "word2vec_input = np.append(copy_of_X_train, copy_of_X_test)"
      ],
      "metadata": {
        "id": "bt-3hXCJliGa"
      },
      "execution_count": 12,
      "outputs": []
    },
    {
      "cell_type": "code",
      "source": [
        "# word2vec_input = np.append(copy_of_X_train, copy_of_X_test)"
      ],
      "metadata": {
        "id": "pKbzAVY9VDeM"
      },
      "execution_count": 13,
      "outputs": []
    },
    {
      "cell_type": "code",
      "source": [
        "# shuffling and duplicating sentences\n",
        "X_train, Y_train = augment_sentences(X_train, Y_train, max_len_mask)"
      ],
      "metadata": {
        "id": "jyC_T6huzWlf"
      },
      "execution_count": 13,
      "outputs": []
    },
    {
      "cell_type": "markdown",
      "source": [
        "### Get Vocabulary"
      ],
      "metadata": {
        "id": "gp5eSN0goIwC"
      }
    },
    {
      "cell_type": "code",
      "execution_count": 14,
      "metadata": {
        "id": "eAjW8EQhIS_b"
      },
      "outputs": [],
      "source": [
        "vocab_dict = get_vocab(X_train, X_test)"
      ]
    },
    {
      "cell_type": "code",
      "source": [
        "print(len(vocab_dict))\n",
        "\n",
        "for word in vocab_dict.keys():\n",
        "  print(word, \" : \", vocab_dict[word])\n",
        "\n",
        "# print(vocab_dict)"
      ],
      "metadata": {
        "colab": {
          "base_uri": "https://localhost:8080/"
        },
        "id": "-VoAByX6hKc5",
        "outputId": "4b8d2410-607c-44f7-d5de-a0b76c470785"
      },
      "execution_count": 15,
      "outputs": [
        {
          "output_type": "stream",
          "name": "stdout",
          "text": [
            "251\n",
            "acceptance  :  0\n",
            "achievement  :  1\n",
            "adorable  :  2\n",
            "adore  :  3\n",
            "afternoon  :  4\n",
            "algorithm  :  5\n",
            "alone  :  6\n",
            "always  :  7\n",
            "amaze  :  8\n",
            "announcement  :  9\n",
            "answer  :  10\n",
            "anything  :  11\n",
            "approve  :  12\n",
            "around  :  13\n",
            "ask  :  14\n",
            "assignment  :  15\n",
            "attracitve  :  16\n",
            "attractive  :  17\n",
            "away  :  18\n",
            "awesome  :  19\n",
            "awful  :  20\n",
            "baby  :  21\n",
            "back  :  22\n",
            "bad  :  23\n",
            "ball  :  24\n",
            "base  :  25\n",
            "baseball  :  26\n",
            "basketball  :  27\n",
            "begin  :  28\n",
            "best  :  29\n",
            "birthday  :  30\n",
            "boil  :  31\n",
            "bore  :  32\n",
            "bravo  :  33\n",
            "break  :  34\n",
            "breakfas  :  35\n",
            "breakfast  :  36\n",
            "brighten  :  37\n",
            "bring  :  38\n",
            "brunch  :  39\n",
            "bullshit  :  40\n",
            "bully  :  41\n",
            "cake  :  42\n",
            "candy  :  43\n",
            "cannot  :  44\n",
            "catcher  :  45\n",
            "celebrate  :  46\n",
            "charm  :  47\n",
            "cheese  :  48\n",
            "chicago  :  49\n",
            "chinese  :  50\n",
            "code  :  51\n",
            "come  :  52\n",
            "congrats  :  53\n",
            "cook  :  54\n",
            "cooky  :  55\n",
            "could  :  56\n",
            "cub  :  57\n",
            "cute  :  58\n",
            "cutest  :  59\n",
            "dad  :  60\n",
            "dance  :  61\n",
            "dare  :  62\n",
            "date  :  63\n",
            "day  :  64\n",
            "dear  :  65\n",
            "dearest  :  66\n",
            "dedication  :  67\n",
            "deserve  :  68\n",
            "dinner  :  69\n",
            "disappoint  :  70\n",
            "dog  :  71\n",
            "eat  :  72\n",
            "end  :  73\n",
            "enjoy  :  74\n",
            "ever  :  75\n",
            "exam  :  76\n",
            "excite  :  77\n",
            "exercise  :  78\n",
            "fail  :  79\n",
            "family  :  80\n",
            "fan  :  81\n",
            "favorite  :  82\n",
            "feel  :  83\n",
            "final  :  84\n",
            "finish  :  85\n",
            "first  :  86\n",
            "food  :  87\n",
            "forever  :  88\n",
            "french  :  89\n",
            "frequently  :  90\n",
            "friend  :  91\n",
            "friendly  :  92\n",
            "frustrate  :  93\n",
            "full  :  94\n",
            "fun  :  95\n",
            "funny  :  96\n",
            "game  :  97\n",
            "get  :  98\n",
            "girl  :  99\n",
            "give  :  100\n",
            "go  :  101\n",
            "good  :  102\n",
            "grade  :  103\n",
            "grader  :  104\n",
            "grandmother  :  105\n",
            "great  :  106\n",
            "guy  :  107\n",
            "ha  :  108\n",
            "haha  :  109\n",
            "handsome  :  110\n",
            "happy  :  111\n",
            "hard  :  112\n",
            "hate  :  113\n",
            "health  :  114\n",
            "healthy  :  115\n",
            "home  :  116\n",
            "homework  :  117\n",
            "horrible  :  118\n",
            "hour  :  119\n",
            "hug  :  120\n",
            "humiliate  :  121\n",
            "hungry  :  122\n",
            "impress  :  123\n",
            "incredibly  :  124\n",
            "indian  :  125\n",
            "intelligent  :  126\n",
            "jacket  :  127\n",
            "job  :  128\n",
            "join  :  129\n",
            "joke  :  130\n",
            "key  :  131\n",
            "kill  :  132\n",
            "kind  :  133\n",
            "know  :  134\n",
            "last  :  135\n",
            "laugh  :  136\n",
            "lecture  :  137\n",
            "let  :  138\n",
            "life  :  139\n",
            "like  :  140\n",
            "limit  :  141\n",
            "lol  :  142\n",
            "long  :  143\n",
            "look  :  144\n",
            "lose  :  145\n",
            "loser  :  146\n",
            "lot  :  147\n",
            "love  :  148\n",
            "lovely  :  149\n",
            "lunch  :  150\n",
            "macaroon  :  151\n",
            "make  :  152\n",
            "man  :  153\n",
            "many  :  154\n",
            "match  :  155\n",
            "mean  :  156\n",
            "meat  :  157\n",
            "mess  :  158\n",
            "midterm  :  159\n",
            "miss  :  160\n",
            "moment  :  161\n",
            "much  :  162\n",
            "mum  :  163\n",
            "near  :  164\n",
            "never  :  165\n",
            "new  :  166\n",
            "night  :  167\n",
            "one  :  168\n",
            "order  :  169\n",
            "pas  :  170\n",
            "people  :  171\n",
            "perform  :  172\n",
            "person  :  173\n",
            "pitch  :  174\n",
            "pizza  :  175\n",
            "pizze  :  176\n",
            "plan  :  177\n",
            "play  :  178\n",
            "player  :  179\n",
            "point  :  180\n",
            "poorly  :  181\n",
            "position  :  182\n",
            "practice  :  183\n",
            "present  :  184\n",
            "prize  :  185\n",
            "project  :  186\n",
            "proud  :  187\n",
            "puppy  :  188\n",
            "qualify  :  189\n",
            "raise  :  190\n",
            "ready  :  191\n",
            "really  :  192\n",
            "restaurant  :  193\n",
            "rice  :  194\n",
            "rule  :  195\n",
            "run  :  196\n",
            "sad  :  197\n",
            "saw  :  198\n",
            "say  :  199\n",
            "score  :  200\n",
            "see  :  201\n",
            "serious  :  202\n",
            "shout  :  203\n",
            "sister  :  204\n",
            "smile  :  205\n",
            "solve  :  206\n",
            "song  :  207\n",
            "soon  :  208\n",
            "sound  :  209\n",
            "specialization  :  210\n",
            "sport  :  211\n",
            "stadium  :  212\n",
            "staduim  :  213\n",
            "star  :  214\n",
            "starve  :  215\n",
            "stop  :  216\n",
            "stupid  :  217\n",
            "stupidity  :  218\n",
            "suck  :  219\n",
            "suggestion  :  220\n",
            "sushi  :  221\n",
            "take  :  222\n",
            "talented  :  223\n",
            "talk  :  224\n",
            "tasty  :  225\n",
            "team  :  226\n",
            "text  :  227\n",
            "think  :  228\n",
            "though  :  229\n",
            "throw  :  230\n",
            "together  :  231\n",
            "tonight  :  232\n",
            "totally  :  233\n",
            "two  :  234\n",
            "u  :  235\n",
            "upset  :  236\n",
            "valentin  :  237\n",
            "valentine  :  238\n",
            "vegetable  :  239\n",
            "wait  :  240\n",
            "wallet  :  241\n",
            "want  :  242\n",
            "well  :  243\n",
            "work  :  244\n",
            "worst  :  245\n",
            "wrong  :  246\n",
            "yes  :  247\n",
            "yesterday  :  248\n",
            "<unk>  :  249\n",
            "<pad>  :  250\n"
          ]
        }
      ]
    },
    {
      "cell_type": "markdown",
      "source": [
        "### Word2Vec Embedding"
      ],
      "metadata": {
        "id": "JhwIpB7WoSTZ"
      }
    },
    {
      "cell_type": "code",
      "source": [
        "word2vec_embed_size = 100\n",
        "word2vec = Word2Vec(vector_size = word2vec_embed_size, min_count = 1, window = 2, alpha = 0.01)"
      ],
      "metadata": {
        "id": "h1Yog7NRbJlH"
      },
      "execution_count": 16,
      "outputs": []
    },
    {
      "cell_type": "code",
      "source": [
        "word2vec_input = list(word2vec_input[j].split() for j in range(len(word2vec_input)))"
      ],
      "metadata": {
        "id": "ovtFbAH6ccU3"
      },
      "execution_count": 17,
      "outputs": []
    },
    {
      "cell_type": "code",
      "source": [
        "print(word2vec_input[29])"
      ],
      "metadata": {
        "colab": {
          "base_uri": "https://localhost:8080/"
        },
        "id": "xBQXMA7Sn0JC",
        "outputId": "24438582-474b-4875-bfb7-3f2d32812823"
      },
      "execution_count": 18,
      "outputs": [
        {
          "output_type": "stream",
          "name": "stdout",
          "text": [
            "['let', 'brunch', 'day', 'let']\n"
          ]
        }
      ]
    },
    {
      "cell_type": "code",
      "source": [
        "word2vec.build_vocab(word2vec_input, progress_per = 10000)"
      ],
      "metadata": {
        "id": "iXN9EHbtbVr_"
      },
      "execution_count": 19,
      "outputs": []
    },
    {
      "cell_type": "code",
      "source": [
        "word2vec.train(word2vec_input, total_examples = word2vec.corpus_count, epochs = 90)"
      ],
      "metadata": {
        "colab": {
          "base_uri": "https://localhost:8080/"
        },
        "id": "zq3WqgsERVH4",
        "outputId": "34b21064-4999-493b-c1a7-91122e17e414"
      },
      "execution_count": 20,
      "outputs": [
        {
          "output_type": "execute_result",
          "data": {
            "text/plain": [
              "(56272, 89280)"
            ]
          },
          "metadata": {},
          "execution_count": 20
        }
      ]
    },
    {
      "cell_type": "code",
      "source": [
        "print(word2vec.wv[\"love\"].shape)\n",
        "print(word2vec.wv.most_similar(\"miss\"))"
      ],
      "metadata": {
        "colab": {
          "base_uri": "https://localhost:8080/"
        },
        "id": "3ozXBnTxbgCd",
        "outputId": "c2c01dff-8c4c-48a9-ac11-36f08097d127"
      },
      "execution_count": 21,
      "outputs": [
        {
          "output_type": "stream",
          "name": "stdout",
          "text": [
            "(100,)\n",
            "[('work', 0.7079025506973267), ('dad', 0.7036094665527344), ('rice', 0.7025814652442932), ('great', 0.6887766718864441), ('bad', 0.6884526610374451), ('order', 0.6877837777137756), ('good', 0.6769456267356873), ('dare', 0.6767833828926086), ('match', 0.6758888363838196), ('cute', 0.6729342341423035)]\n"
          ]
        }
      ]
    },
    {
      "cell_type": "code",
      "source": [
        "X_train_embedding = get_embedding_of_sentences(X_train, word2vec)"
      ],
      "metadata": {
        "id": "WR6jDnaI5eWp"
      },
      "execution_count": 22,
      "outputs": []
    },
    {
      "cell_type": "code",
      "source": [
        "X_test_embedding = get_embedding_of_sentences(X_test, word2vec)"
      ],
      "metadata": {
        "id": "RxyNWcvSG93z"
      },
      "execution_count": 23,
      "outputs": []
    },
    {
      "cell_type": "code",
      "source": [
        "print(X_train_embedding.shape)\n",
        "print(X_test_embedding.shape)\n",
        "# Each sentence has 5 words, each word has 50 embedding size"
      ],
      "metadata": {
        "colab": {
          "base_uri": "https://localhost:8080/"
        },
        "id": "JXOcIxPm7rva",
        "outputId": "75e5a368-be5d-4f9e-9c7b-51488233a910"
      },
      "execution_count": 24,
      "outputs": [
        {
          "output_type": "stream",
          "name": "stdout",
          "text": [
            "(396, 4, 100)\n",
            "(50, 4, 100)\n"
          ]
        }
      ]
    },
    {
      "cell_type": "markdown",
      "source": [
        "### Model Architecture"
      ],
      "metadata": {
        "id": "rTfrM8teoYcJ"
      }
    },
    {
      "cell_type": "code",
      "execution_count": 25,
      "metadata": {
        "id": "JmPF5Qgzsb2H"
      },
      "outputs": [],
      "source": [
        "repeator = RepeatVector(max_len_mask)\n",
        "concatenator = Concatenate(axis=-1)\n",
        "densor1 = Dense(10, activation = \"tanh\")\n",
        "densor2 = Dense(1, activation = \"relu\")\n",
        "activator = Softmax(axis = 1)\n",
        "dotor = Dot(axes = 1)"
      ]
    },
    {
      "cell_type": "code",
      "execution_count": 26,
      "metadata": {
        "id": "2QYVYuuIumaJ"
      },
      "outputs": [],
      "source": [
        "def one_step_attention(a, s_prev):\n",
        "    \"\"\"\n",
        "    Performs one step of attention: Outputs a context vector computed as a dot product of the attention weights\n",
        "    \"alphas\" and the hidden states \"a\" of the Bi-LSTM.\n",
        "\n",
        "    Arguments:\n",
        "    a -- hidden state output of the Bi-LSTM, numpy-array of shape (m, Tx, 2*n_a)\n",
        "    s_prev -- previous hidden state of the (post-attention) LSTM, numpy-array of shape (m, n_s)\n",
        "\n",
        "    Returns:\n",
        "    context -- context vector, input of the next (post-attention) LSTM cell\n",
        "    \"\"\"\n",
        "\n",
        "    print(\"Prev state shape before being repeated: \", s_prev.shape)\n",
        "    s_prev = repeator(s_prev)\n",
        "    print(\"Prev state shape after being repeated: \", s_prev.shape)\n",
        "    print(\"Current state shape: \", a.shape)\n",
        "    concat = concatenator([a, s_prev])\n",
        "    # Use densor1 to propagate concat through a small fully-connected neural network to compute the \"intermediate energies\" variable e. (≈1 lines)\n",
        "    print(\"Before densor1 (concatentation of current and prev states): \", concat.shape)\n",
        "    e = densor1(concat)\n",
        "    print(\"After densor1: \", e.shape)\n",
        "    energies = densor2(e)\n",
        "    print(\"After densor2: \", energies.shape)\n",
        "    # Use \"activator\" on \"energies\" to compute the attention weights \"alphas\" (≈ 1 line)\n",
        "    alphas = activator(energies)\n",
        "    print(\"Attention shape: \", alphas.shape)\n",
        "    # Use dotor together with \"alphas\" and \"a\", in this order, to compute the context vector to be given to the next (post-attention) LSTM-cell (≈ 1 line)\n",
        "    context = dotor([alphas, a])\n",
        "    print(\"Attention dot curr shape: \", context.shape)\n",
        "\n",
        "    return context, energies"
      ]
    },
    {
      "cell_type": "code",
      "execution_count": 27,
      "metadata": {
        "id": "z76H0-gNwcmI"
      },
      "outputs": [],
      "source": [
        "n_a_ = 32 # number of units for the pre-attention, bi-directional LSTM's hidden state 'a'\n",
        "n_s_ = 64 # number of units for the post-attention LSTM's hidden state \"s\"\n",
        "\n",
        "post_activation_LSTM_cell = LSTM(n_s_, return_state = True)\n",
        "output_layer = Dense(num_of_classes, activation=\"softmax\")\n",
        "# The softmax term should be in \"\", else, it gives error."
      ]
    },
    {
      "cell_type": "code",
      "execution_count": 28,
      "metadata": {
        "id": "EyIjs-zmwk8G"
      },
      "outputs": [],
      "source": [
        "\n",
        "def modelf(Tx, Ty, n_a, n_s, word_embed_size):\n",
        "\n",
        "    # Define the inputs of your model with a shape (Tx, human_vocab_size)\n",
        "    # Define s0 (initial hidden state) and c0 (initial cell state)\n",
        "    X = Input(shape=(Tx, word_embed_size))\n",
        "    s0 = Input(shape=(n_s,), name='s0')\n",
        "    c0 = Input(shape=(n_s,), name='c0')\n",
        "    s = s0\n",
        "    c = c0\n",
        "    preds = []\n",
        "    attention_weights = []\n",
        "\n",
        "    # Step 1: Define your pre-attention Bi-LSTM. (≈ 1 line)\n",
        "    a = Bidirectional(LSTM(units = n_a, return_sequences = True))(X)\n",
        "\n",
        "    # Step 2: Iterate for Ty steps\n",
        "    for t in range(Ty):\n",
        "\n",
        "        # Step 2.A: Perform one step of the attention mechanism to get back the context vector at step t (≈ 1 line)\n",
        "        context, attention = one_step_attention(a, s)\n",
        "        # Step 2.B: Apply the post-attention LSTM cell to the \"context\" vector. (≈ 1 line)\n",
        "        # Don't forget to pass: initial_state = [hidden state, cell state]\n",
        "        # Remember: s = hidden state, c = cell state\n",
        "        _, s, c = post_activation_LSTM_cell(context, initial_state = [s, c])\n",
        "        # Step 2.C: Apply Dense layer to the hidden state output of the post-attention LSTM (≈ 1 line)\n",
        "        out = output_layer(s)\n",
        "        # print(\"One output: \", out.shape)\n",
        "        # Step 2.D: Append \"out\" to the \"outputs\" list (≈ 1 line)\n",
        "        preds.append(out)\n",
        "        attention_weights.append(attention)\n",
        "\n",
        "    # Step 3: Create model instance taking three inputs and returning the list of outputs. (≈ 1 line)\n",
        "    model = Model(inputs = [X, s0, c0], outputs = preds[-1])\n",
        "\n",
        "    return model"
      ]
    },
    {
      "cell_type": "code",
      "execution_count": 29,
      "metadata": {
        "id": "N9HUyNr2y7vn",
        "colab": {
          "base_uri": "https://localhost:8080/"
        },
        "outputId": "ec19346e-3518-43e4-952a-7db70b68cab3"
      },
      "outputs": [
        {
          "output_type": "stream",
          "name": "stdout",
          "text": [
            "Prev state shape before being repeated:  (None, 64)\n",
            "Prev state shape after being repeated:  (None, 4, 64)\n",
            "Current state shape:  (None, 4, 64)\n",
            "Before densor1 (concatentation of current and prev states):  (None, 4, 128)\n",
            "After densor1:  (None, 4, 10)\n",
            "After densor2:  (None, 4, 1)\n",
            "Attention shape:  (None, 4, 1)\n",
            "Attention dot curr shape:  (None, 1, 64)\n",
            "Prev state shape before being repeated:  (None, 64)\n",
            "Prev state shape after being repeated:  (None, 4, 64)\n",
            "Current state shape:  (None, 4, 64)\n",
            "Before densor1 (concatentation of current and prev states):  (None, 4, 128)\n",
            "After densor1:  (None, 4, 10)\n",
            "After densor2:  (None, 4, 1)\n",
            "Attention shape:  (None, 4, 1)\n",
            "Attention dot curr shape:  (None, 1, 64)\n",
            "Prev state shape before being repeated:  (None, 64)\n",
            "Prev state shape after being repeated:  (None, 4, 64)\n",
            "Current state shape:  (None, 4, 64)\n",
            "Before densor1 (concatentation of current and prev states):  (None, 4, 128)\n",
            "After densor1:  (None, 4, 10)\n",
            "After densor2:  (None, 4, 1)\n",
            "Attention shape:  (None, 4, 1)\n",
            "Attention dot curr shape:  (None, 1, 64)\n",
            "Prev state shape before being repeated:  (None, 64)\n",
            "Prev state shape after being repeated:  (None, 4, 64)\n",
            "Current state shape:  (None, 4, 64)\n",
            "Before densor1 (concatentation of current and prev states):  (None, 4, 128)\n",
            "After densor1:  (None, 4, 10)\n",
            "After densor2:  (None, 4, 1)\n",
            "Attention shape:  (None, 4, 1)\n",
            "Attention dot curr shape:  (None, 1, 64)\n",
            "Prev state shape before being repeated:  (None, 64)\n",
            "Prev state shape after being repeated:  (None, 4, 64)\n",
            "Current state shape:  (None, 4, 64)\n",
            "Before densor1 (concatentation of current and prev states):  (None, 4, 128)\n",
            "After densor1:  (None, 4, 10)\n",
            "After densor2:  (None, 4, 1)\n",
            "Attention shape:  (None, 4, 1)\n",
            "Attention dot curr shape:  (None, 1, 64)\n"
          ]
        }
      ],
      "source": [
        "model = modelf(Tx = max_len_mask, Ty = num_of_classes, n_a = n_a_, n_s = n_s_, word_embed_size = word2vec_embed_size)"
      ]
    },
    {
      "cell_type": "code",
      "execution_count": 30,
      "metadata": {
        "colab": {
          "base_uri": "https://localhost:8080/",
          "height": 1000
        },
        "id": "P7O1VLFQ5TgP",
        "outputId": "a1a49510-97d3-402a-f6e5-3a6ceab277e6"
      },
      "outputs": [
        {
          "output_type": "display_data",
          "data": {
            "text/plain": [
              "\u001b[1mModel: \"functional\"\u001b[0m\n"
            ],
            "text/html": [
              "<pre style=\"white-space:pre;overflow-x:auto;line-height:normal;font-family:Menlo,'DejaVu Sans Mono',consolas,'Courier New',monospace\"><span style=\"font-weight: bold\">Model: \"functional\"</span>\n",
              "</pre>\n"
            ]
          },
          "metadata": {}
        },
        {
          "output_type": "display_data",
          "data": {
            "text/plain": [
              "┏━━━━━━━━━━━━━━━━━━━━━━━━━━━┳━━━━━━━━━━━━━━━━━━━━━━━━┳━━━━━━━━━━━━━━━━┳━━━━━━━━━━━━━━━━━━━━━━━━┓\n",
              "┃\u001b[1m \u001b[0m\u001b[1mLayer (type)             \u001b[0m\u001b[1m \u001b[0m┃\u001b[1m \u001b[0m\u001b[1mOutput Shape          \u001b[0m\u001b[1m \u001b[0m┃\u001b[1m \u001b[0m\u001b[1m       Param #\u001b[0m\u001b[1m \u001b[0m┃\u001b[1m \u001b[0m\u001b[1mConnected to          \u001b[0m\u001b[1m \u001b[0m┃\n",
              "┡━━━━━━━━━━━━━━━━━━━━━━━━━━━╇━━━━━━━━━━━━━━━━━━━━━━━━╇━━━━━━━━━━━━━━━━╇━━━━━━━━━━━━━━━━━━━━━━━━┩\n",
              "│ input_layer (\u001b[38;5;33mInputLayer\u001b[0m)  │ (\u001b[38;5;45mNone\u001b[0m, \u001b[38;5;34m4\u001b[0m, \u001b[38;5;34m100\u001b[0m)         │              \u001b[38;5;34m0\u001b[0m │ -                      │\n",
              "├───────────────────────────┼────────────────────────┼────────────────┼────────────────────────┤\n",
              "│ s0 (\u001b[38;5;33mInputLayer\u001b[0m)           │ (\u001b[38;5;45mNone\u001b[0m, \u001b[38;5;34m64\u001b[0m)             │              \u001b[38;5;34m0\u001b[0m │ -                      │\n",
              "├───────────────────────────┼────────────────────────┼────────────────┼────────────────────────┤\n",
              "│ bidirectional             │ (\u001b[38;5;45mNone\u001b[0m, \u001b[38;5;34m4\u001b[0m, \u001b[38;5;34m64\u001b[0m)          │         \u001b[38;5;34m34,048\u001b[0m │ input_layer[\u001b[38;5;34m0\u001b[0m][\u001b[38;5;34m0\u001b[0m]      │\n",
              "│ (\u001b[38;5;33mBidirectional\u001b[0m)           │                        │                │                        │\n",
              "├───────────────────────────┼────────────────────────┼────────────────┼────────────────────────┤\n",
              "│ repeat_vector             │ (\u001b[38;5;45mNone\u001b[0m, \u001b[38;5;34m4\u001b[0m, \u001b[38;5;34m64\u001b[0m)          │              \u001b[38;5;34m0\u001b[0m │ s0[\u001b[38;5;34m0\u001b[0m][\u001b[38;5;34m0\u001b[0m], lstm[\u001b[38;5;34m0\u001b[0m][\u001b[38;5;34m1\u001b[0m],  │\n",
              "│ (\u001b[38;5;33mRepeatVector\u001b[0m)            │                        │                │ lstm[\u001b[38;5;34m1\u001b[0m][\u001b[38;5;34m1\u001b[0m],            │\n",
              "│                           │                        │                │ lstm[\u001b[38;5;34m2\u001b[0m][\u001b[38;5;34m1\u001b[0m], lstm[\u001b[38;5;34m3\u001b[0m][\u001b[38;5;34m1\u001b[0m] │\n",
              "├───────────────────────────┼────────────────────────┼────────────────┼────────────────────────┤\n",
              "│ concatenate (\u001b[38;5;33mConcatenate\u001b[0m) │ (\u001b[38;5;45mNone\u001b[0m, \u001b[38;5;34m4\u001b[0m, \u001b[38;5;34m128\u001b[0m)         │              \u001b[38;5;34m0\u001b[0m │ bidirectional[\u001b[38;5;34m0\u001b[0m][\u001b[38;5;34m0\u001b[0m],   │\n",
              "│                           │                        │                │ repeat_vector[\u001b[38;5;34m0\u001b[0m][\u001b[38;5;34m0\u001b[0m],   │\n",
              "│                           │                        │                │ bidirectional[\u001b[38;5;34m0\u001b[0m][\u001b[38;5;34m0\u001b[0m],   │\n",
              "│                           │                        │                │ repeat_vector[\u001b[38;5;34m1\u001b[0m][\u001b[38;5;34m0\u001b[0m],   │\n",
              "│                           │                        │                │ bidirectional[\u001b[38;5;34m0\u001b[0m][\u001b[38;5;34m0\u001b[0m],   │\n",
              "│                           │                        │                │ repeat_vector[\u001b[38;5;34m2\u001b[0m][\u001b[38;5;34m0\u001b[0m],   │\n",
              "│                           │                        │                │ bidirectional[\u001b[38;5;34m0\u001b[0m][\u001b[38;5;34m0\u001b[0m],   │\n",
              "│                           │                        │                │ repeat_vector[\u001b[38;5;34m3\u001b[0m][\u001b[38;5;34m0\u001b[0m],   │\n",
              "│                           │                        │                │ bidirectional[\u001b[38;5;34m0\u001b[0m][\u001b[38;5;34m0\u001b[0m],   │\n",
              "│                           │                        │                │ repeat_vector[\u001b[38;5;34m4\u001b[0m][\u001b[38;5;34m0\u001b[0m]    │\n",
              "├───────────────────────────┼────────────────────────┼────────────────┼────────────────────────┤\n",
              "│ dense (\u001b[38;5;33mDense\u001b[0m)             │ (\u001b[38;5;45mNone\u001b[0m, \u001b[38;5;34m4\u001b[0m, \u001b[38;5;34m10\u001b[0m)          │          \u001b[38;5;34m1,290\u001b[0m │ concatenate[\u001b[38;5;34m0\u001b[0m][\u001b[38;5;34m0\u001b[0m],     │\n",
              "│                           │                        │                │ concatenate[\u001b[38;5;34m1\u001b[0m][\u001b[38;5;34m0\u001b[0m],     │\n",
              "│                           │                        │                │ concatenate[\u001b[38;5;34m2\u001b[0m][\u001b[38;5;34m0\u001b[0m],     │\n",
              "│                           │                        │                │ concatenate[\u001b[38;5;34m3\u001b[0m][\u001b[38;5;34m0\u001b[0m],     │\n",
              "│                           │                        │                │ concatenate[\u001b[38;5;34m4\u001b[0m][\u001b[38;5;34m0\u001b[0m]      │\n",
              "├───────────────────────────┼────────────────────────┼────────────────┼────────────────────────┤\n",
              "│ dense_1 (\u001b[38;5;33mDense\u001b[0m)           │ (\u001b[38;5;45mNone\u001b[0m, \u001b[38;5;34m4\u001b[0m, \u001b[38;5;34m1\u001b[0m)           │             \u001b[38;5;34m11\u001b[0m │ dense[\u001b[38;5;34m0\u001b[0m][\u001b[38;5;34m0\u001b[0m],           │\n",
              "│                           │                        │                │ dense[\u001b[38;5;34m1\u001b[0m][\u001b[38;5;34m0\u001b[0m],           │\n",
              "│                           │                        │                │ dense[\u001b[38;5;34m2\u001b[0m][\u001b[38;5;34m0\u001b[0m],           │\n",
              "│                           │                        │                │ dense[\u001b[38;5;34m3\u001b[0m][\u001b[38;5;34m0\u001b[0m],           │\n",
              "│                           │                        │                │ dense[\u001b[38;5;34m4\u001b[0m][\u001b[38;5;34m0\u001b[0m]            │\n",
              "├───────────────────────────┼────────────────────────┼────────────────┼────────────────────────┤\n",
              "│ softmax (\u001b[38;5;33mSoftmax\u001b[0m)         │ (\u001b[38;5;45mNone\u001b[0m, \u001b[38;5;34m4\u001b[0m, \u001b[38;5;34m1\u001b[0m)           │              \u001b[38;5;34m0\u001b[0m │ dense_1[\u001b[38;5;34m0\u001b[0m][\u001b[38;5;34m0\u001b[0m],         │\n",
              "│                           │                        │                │ dense_1[\u001b[38;5;34m1\u001b[0m][\u001b[38;5;34m0\u001b[0m],         │\n",
              "│                           │                        │                │ dense_1[\u001b[38;5;34m2\u001b[0m][\u001b[38;5;34m0\u001b[0m],         │\n",
              "│                           │                        │                │ dense_1[\u001b[38;5;34m3\u001b[0m][\u001b[38;5;34m0\u001b[0m],         │\n",
              "│                           │                        │                │ dense_1[\u001b[38;5;34m4\u001b[0m][\u001b[38;5;34m0\u001b[0m]          │\n",
              "├───────────────────────────┼────────────────────────┼────────────────┼────────────────────────┤\n",
              "│ dot (\u001b[38;5;33mDot\u001b[0m)                 │ (\u001b[38;5;45mNone\u001b[0m, \u001b[38;5;34m1\u001b[0m, \u001b[38;5;34m64\u001b[0m)          │              \u001b[38;5;34m0\u001b[0m │ softmax[\u001b[38;5;34m0\u001b[0m][\u001b[38;5;34m0\u001b[0m],         │\n",
              "│                           │                        │                │ bidirectional[\u001b[38;5;34m0\u001b[0m][\u001b[38;5;34m0\u001b[0m],   │\n",
              "│                           │                        │                │ softmax[\u001b[38;5;34m1\u001b[0m][\u001b[38;5;34m0\u001b[0m],         │\n",
              "│                           │                        │                │ bidirectional[\u001b[38;5;34m0\u001b[0m][\u001b[38;5;34m0\u001b[0m],   │\n",
              "│                           │                        │                │ softmax[\u001b[38;5;34m2\u001b[0m][\u001b[38;5;34m0\u001b[0m],         │\n",
              "│                           │                        │                │ bidirectional[\u001b[38;5;34m0\u001b[0m][\u001b[38;5;34m0\u001b[0m],   │\n",
              "│                           │                        │                │ softmax[\u001b[38;5;34m3\u001b[0m][\u001b[38;5;34m0\u001b[0m],         │\n",
              "│                           │                        │                │ bidirectional[\u001b[38;5;34m0\u001b[0m][\u001b[38;5;34m0\u001b[0m],   │\n",
              "│                           │                        │                │ softmax[\u001b[38;5;34m4\u001b[0m][\u001b[38;5;34m0\u001b[0m],         │\n",
              "│                           │                        │                │ bidirectional[\u001b[38;5;34m0\u001b[0m][\u001b[38;5;34m0\u001b[0m]    │\n",
              "├───────────────────────────┼────────────────────────┼────────────────┼────────────────────────┤\n",
              "│ c0 (\u001b[38;5;33mInputLayer\u001b[0m)           │ (\u001b[38;5;45mNone\u001b[0m, \u001b[38;5;34m64\u001b[0m)             │              \u001b[38;5;34m0\u001b[0m │ -                      │\n",
              "├───────────────────────────┼────────────────────────┼────────────────┼────────────────────────┤\n",
              "│ lstm (\u001b[38;5;33mLSTM\u001b[0m)               │ [(\u001b[38;5;45mNone\u001b[0m, \u001b[38;5;34m64\u001b[0m), (\u001b[38;5;45mNone\u001b[0m,    │         \u001b[38;5;34m33,024\u001b[0m │ dot[\u001b[38;5;34m0\u001b[0m][\u001b[38;5;34m0\u001b[0m], s0[\u001b[38;5;34m0\u001b[0m][\u001b[38;5;34m0\u001b[0m],   │\n",
              "│                           │ \u001b[38;5;34m64\u001b[0m), (\u001b[38;5;45mNone\u001b[0m, \u001b[38;5;34m64\u001b[0m)]       │                │ c0[\u001b[38;5;34m0\u001b[0m][\u001b[38;5;34m0\u001b[0m], dot[\u001b[38;5;34m1\u001b[0m][\u001b[38;5;34m0\u001b[0m],   │\n",
              "│                           │                        │                │ lstm[\u001b[38;5;34m0\u001b[0m][\u001b[38;5;34m1\u001b[0m],            │\n",
              "│                           │                        │                │ lstm[\u001b[38;5;34m0\u001b[0m][\u001b[38;5;34m2\u001b[0m], dot[\u001b[38;5;34m2\u001b[0m][\u001b[38;5;34m0\u001b[0m], │\n",
              "│                           │                        │                │ lstm[\u001b[38;5;34m1\u001b[0m][\u001b[38;5;34m1\u001b[0m],            │\n",
              "│                           │                        │                │ lstm[\u001b[38;5;34m1\u001b[0m][\u001b[38;5;34m2\u001b[0m], dot[\u001b[38;5;34m3\u001b[0m][\u001b[38;5;34m0\u001b[0m], │\n",
              "│                           │                        │                │ lstm[\u001b[38;5;34m2\u001b[0m][\u001b[38;5;34m1\u001b[0m],            │\n",
              "│                           │                        │                │ lstm[\u001b[38;5;34m2\u001b[0m][\u001b[38;5;34m2\u001b[0m], dot[\u001b[38;5;34m4\u001b[0m][\u001b[38;5;34m0\u001b[0m], │\n",
              "│                           │                        │                │ lstm[\u001b[38;5;34m3\u001b[0m][\u001b[38;5;34m1\u001b[0m], lstm[\u001b[38;5;34m3\u001b[0m][\u001b[38;5;34m2\u001b[0m] │\n",
              "├───────────────────────────┼────────────────────────┼────────────────┼────────────────────────┤\n",
              "│ dense_2 (\u001b[38;5;33mDense\u001b[0m)           │ (\u001b[38;5;45mNone\u001b[0m, \u001b[38;5;34m5\u001b[0m)              │            \u001b[38;5;34m325\u001b[0m │ lstm[\u001b[38;5;34m4\u001b[0m][\u001b[38;5;34m1\u001b[0m]             │\n",
              "└───────────────────────────┴────────────────────────┴────────────────┴────────────────────────┘\n"
            ],
            "text/html": [
              "<pre style=\"white-space:pre;overflow-x:auto;line-height:normal;font-family:Menlo,'DejaVu Sans Mono',consolas,'Courier New',monospace\">┏━━━━━━━━━━━━━━━━━━━━━━━━━━━┳━━━━━━━━━━━━━━━━━━━━━━━━┳━━━━━━━━━━━━━━━━┳━━━━━━━━━━━━━━━━━━━━━━━━┓\n",
              "┃<span style=\"font-weight: bold\"> Layer (type)              </span>┃<span style=\"font-weight: bold\"> Output Shape           </span>┃<span style=\"font-weight: bold\">        Param # </span>┃<span style=\"font-weight: bold\"> Connected to           </span>┃\n",
              "┡━━━━━━━━━━━━━━━━━━━━━━━━━━━╇━━━━━━━━━━━━━━━━━━━━━━━━╇━━━━━━━━━━━━━━━━╇━━━━━━━━━━━━━━━━━━━━━━━━┩\n",
              "│ input_layer (<span style=\"color: #0087ff; text-decoration-color: #0087ff\">InputLayer</span>)  │ (<span style=\"color: #00d7ff; text-decoration-color: #00d7ff\">None</span>, <span style=\"color: #00af00; text-decoration-color: #00af00\">4</span>, <span style=\"color: #00af00; text-decoration-color: #00af00\">100</span>)         │              <span style=\"color: #00af00; text-decoration-color: #00af00\">0</span> │ -                      │\n",
              "├───────────────────────────┼────────────────────────┼────────────────┼────────────────────────┤\n",
              "│ s0 (<span style=\"color: #0087ff; text-decoration-color: #0087ff\">InputLayer</span>)           │ (<span style=\"color: #00d7ff; text-decoration-color: #00d7ff\">None</span>, <span style=\"color: #00af00; text-decoration-color: #00af00\">64</span>)             │              <span style=\"color: #00af00; text-decoration-color: #00af00\">0</span> │ -                      │\n",
              "├───────────────────────────┼────────────────────────┼────────────────┼────────────────────────┤\n",
              "│ bidirectional             │ (<span style=\"color: #00d7ff; text-decoration-color: #00d7ff\">None</span>, <span style=\"color: #00af00; text-decoration-color: #00af00\">4</span>, <span style=\"color: #00af00; text-decoration-color: #00af00\">64</span>)          │         <span style=\"color: #00af00; text-decoration-color: #00af00\">34,048</span> │ input_layer[<span style=\"color: #00af00; text-decoration-color: #00af00\">0</span>][<span style=\"color: #00af00; text-decoration-color: #00af00\">0</span>]      │\n",
              "│ (<span style=\"color: #0087ff; text-decoration-color: #0087ff\">Bidirectional</span>)           │                        │                │                        │\n",
              "├───────────────────────────┼────────────────────────┼────────────────┼────────────────────────┤\n",
              "│ repeat_vector             │ (<span style=\"color: #00d7ff; text-decoration-color: #00d7ff\">None</span>, <span style=\"color: #00af00; text-decoration-color: #00af00\">4</span>, <span style=\"color: #00af00; text-decoration-color: #00af00\">64</span>)          │              <span style=\"color: #00af00; text-decoration-color: #00af00\">0</span> │ s0[<span style=\"color: #00af00; text-decoration-color: #00af00\">0</span>][<span style=\"color: #00af00; text-decoration-color: #00af00\">0</span>], lstm[<span style=\"color: #00af00; text-decoration-color: #00af00\">0</span>][<span style=\"color: #00af00; text-decoration-color: #00af00\">1</span>],  │\n",
              "│ (<span style=\"color: #0087ff; text-decoration-color: #0087ff\">RepeatVector</span>)            │                        │                │ lstm[<span style=\"color: #00af00; text-decoration-color: #00af00\">1</span>][<span style=\"color: #00af00; text-decoration-color: #00af00\">1</span>],            │\n",
              "│                           │                        │                │ lstm[<span style=\"color: #00af00; text-decoration-color: #00af00\">2</span>][<span style=\"color: #00af00; text-decoration-color: #00af00\">1</span>], lstm[<span style=\"color: #00af00; text-decoration-color: #00af00\">3</span>][<span style=\"color: #00af00; text-decoration-color: #00af00\">1</span>] │\n",
              "├───────────────────────────┼────────────────────────┼────────────────┼────────────────────────┤\n",
              "│ concatenate (<span style=\"color: #0087ff; text-decoration-color: #0087ff\">Concatenate</span>) │ (<span style=\"color: #00d7ff; text-decoration-color: #00d7ff\">None</span>, <span style=\"color: #00af00; text-decoration-color: #00af00\">4</span>, <span style=\"color: #00af00; text-decoration-color: #00af00\">128</span>)         │              <span style=\"color: #00af00; text-decoration-color: #00af00\">0</span> │ bidirectional[<span style=\"color: #00af00; text-decoration-color: #00af00\">0</span>][<span style=\"color: #00af00; text-decoration-color: #00af00\">0</span>],   │\n",
              "│                           │                        │                │ repeat_vector[<span style=\"color: #00af00; text-decoration-color: #00af00\">0</span>][<span style=\"color: #00af00; text-decoration-color: #00af00\">0</span>],   │\n",
              "│                           │                        │                │ bidirectional[<span style=\"color: #00af00; text-decoration-color: #00af00\">0</span>][<span style=\"color: #00af00; text-decoration-color: #00af00\">0</span>],   │\n",
              "│                           │                        │                │ repeat_vector[<span style=\"color: #00af00; text-decoration-color: #00af00\">1</span>][<span style=\"color: #00af00; text-decoration-color: #00af00\">0</span>],   │\n",
              "│                           │                        │                │ bidirectional[<span style=\"color: #00af00; text-decoration-color: #00af00\">0</span>][<span style=\"color: #00af00; text-decoration-color: #00af00\">0</span>],   │\n",
              "│                           │                        │                │ repeat_vector[<span style=\"color: #00af00; text-decoration-color: #00af00\">2</span>][<span style=\"color: #00af00; text-decoration-color: #00af00\">0</span>],   │\n",
              "│                           │                        │                │ bidirectional[<span style=\"color: #00af00; text-decoration-color: #00af00\">0</span>][<span style=\"color: #00af00; text-decoration-color: #00af00\">0</span>],   │\n",
              "│                           │                        │                │ repeat_vector[<span style=\"color: #00af00; text-decoration-color: #00af00\">3</span>][<span style=\"color: #00af00; text-decoration-color: #00af00\">0</span>],   │\n",
              "│                           │                        │                │ bidirectional[<span style=\"color: #00af00; text-decoration-color: #00af00\">0</span>][<span style=\"color: #00af00; text-decoration-color: #00af00\">0</span>],   │\n",
              "│                           │                        │                │ repeat_vector[<span style=\"color: #00af00; text-decoration-color: #00af00\">4</span>][<span style=\"color: #00af00; text-decoration-color: #00af00\">0</span>]    │\n",
              "├───────────────────────────┼────────────────────────┼────────────────┼────────────────────────┤\n",
              "│ dense (<span style=\"color: #0087ff; text-decoration-color: #0087ff\">Dense</span>)             │ (<span style=\"color: #00d7ff; text-decoration-color: #00d7ff\">None</span>, <span style=\"color: #00af00; text-decoration-color: #00af00\">4</span>, <span style=\"color: #00af00; text-decoration-color: #00af00\">10</span>)          │          <span style=\"color: #00af00; text-decoration-color: #00af00\">1,290</span> │ concatenate[<span style=\"color: #00af00; text-decoration-color: #00af00\">0</span>][<span style=\"color: #00af00; text-decoration-color: #00af00\">0</span>],     │\n",
              "│                           │                        │                │ concatenate[<span style=\"color: #00af00; text-decoration-color: #00af00\">1</span>][<span style=\"color: #00af00; text-decoration-color: #00af00\">0</span>],     │\n",
              "│                           │                        │                │ concatenate[<span style=\"color: #00af00; text-decoration-color: #00af00\">2</span>][<span style=\"color: #00af00; text-decoration-color: #00af00\">0</span>],     │\n",
              "│                           │                        │                │ concatenate[<span style=\"color: #00af00; text-decoration-color: #00af00\">3</span>][<span style=\"color: #00af00; text-decoration-color: #00af00\">0</span>],     │\n",
              "│                           │                        │                │ concatenate[<span style=\"color: #00af00; text-decoration-color: #00af00\">4</span>][<span style=\"color: #00af00; text-decoration-color: #00af00\">0</span>]      │\n",
              "├───────────────────────────┼────────────────────────┼────────────────┼────────────────────────┤\n",
              "│ dense_1 (<span style=\"color: #0087ff; text-decoration-color: #0087ff\">Dense</span>)           │ (<span style=\"color: #00d7ff; text-decoration-color: #00d7ff\">None</span>, <span style=\"color: #00af00; text-decoration-color: #00af00\">4</span>, <span style=\"color: #00af00; text-decoration-color: #00af00\">1</span>)           │             <span style=\"color: #00af00; text-decoration-color: #00af00\">11</span> │ dense[<span style=\"color: #00af00; text-decoration-color: #00af00\">0</span>][<span style=\"color: #00af00; text-decoration-color: #00af00\">0</span>],           │\n",
              "│                           │                        │                │ dense[<span style=\"color: #00af00; text-decoration-color: #00af00\">1</span>][<span style=\"color: #00af00; text-decoration-color: #00af00\">0</span>],           │\n",
              "│                           │                        │                │ dense[<span style=\"color: #00af00; text-decoration-color: #00af00\">2</span>][<span style=\"color: #00af00; text-decoration-color: #00af00\">0</span>],           │\n",
              "│                           │                        │                │ dense[<span style=\"color: #00af00; text-decoration-color: #00af00\">3</span>][<span style=\"color: #00af00; text-decoration-color: #00af00\">0</span>],           │\n",
              "│                           │                        │                │ dense[<span style=\"color: #00af00; text-decoration-color: #00af00\">4</span>][<span style=\"color: #00af00; text-decoration-color: #00af00\">0</span>]            │\n",
              "├───────────────────────────┼────────────────────────┼────────────────┼────────────────────────┤\n",
              "│ softmax (<span style=\"color: #0087ff; text-decoration-color: #0087ff\">Softmax</span>)         │ (<span style=\"color: #00d7ff; text-decoration-color: #00d7ff\">None</span>, <span style=\"color: #00af00; text-decoration-color: #00af00\">4</span>, <span style=\"color: #00af00; text-decoration-color: #00af00\">1</span>)           │              <span style=\"color: #00af00; text-decoration-color: #00af00\">0</span> │ dense_1[<span style=\"color: #00af00; text-decoration-color: #00af00\">0</span>][<span style=\"color: #00af00; text-decoration-color: #00af00\">0</span>],         │\n",
              "│                           │                        │                │ dense_1[<span style=\"color: #00af00; text-decoration-color: #00af00\">1</span>][<span style=\"color: #00af00; text-decoration-color: #00af00\">0</span>],         │\n",
              "│                           │                        │                │ dense_1[<span style=\"color: #00af00; text-decoration-color: #00af00\">2</span>][<span style=\"color: #00af00; text-decoration-color: #00af00\">0</span>],         │\n",
              "│                           │                        │                │ dense_1[<span style=\"color: #00af00; text-decoration-color: #00af00\">3</span>][<span style=\"color: #00af00; text-decoration-color: #00af00\">0</span>],         │\n",
              "│                           │                        │                │ dense_1[<span style=\"color: #00af00; text-decoration-color: #00af00\">4</span>][<span style=\"color: #00af00; text-decoration-color: #00af00\">0</span>]          │\n",
              "├───────────────────────────┼────────────────────────┼────────────────┼────────────────────────┤\n",
              "│ dot (<span style=\"color: #0087ff; text-decoration-color: #0087ff\">Dot</span>)                 │ (<span style=\"color: #00d7ff; text-decoration-color: #00d7ff\">None</span>, <span style=\"color: #00af00; text-decoration-color: #00af00\">1</span>, <span style=\"color: #00af00; text-decoration-color: #00af00\">64</span>)          │              <span style=\"color: #00af00; text-decoration-color: #00af00\">0</span> │ softmax[<span style=\"color: #00af00; text-decoration-color: #00af00\">0</span>][<span style=\"color: #00af00; text-decoration-color: #00af00\">0</span>],         │\n",
              "│                           │                        │                │ bidirectional[<span style=\"color: #00af00; text-decoration-color: #00af00\">0</span>][<span style=\"color: #00af00; text-decoration-color: #00af00\">0</span>],   │\n",
              "│                           │                        │                │ softmax[<span style=\"color: #00af00; text-decoration-color: #00af00\">1</span>][<span style=\"color: #00af00; text-decoration-color: #00af00\">0</span>],         │\n",
              "│                           │                        │                │ bidirectional[<span style=\"color: #00af00; text-decoration-color: #00af00\">0</span>][<span style=\"color: #00af00; text-decoration-color: #00af00\">0</span>],   │\n",
              "│                           │                        │                │ softmax[<span style=\"color: #00af00; text-decoration-color: #00af00\">2</span>][<span style=\"color: #00af00; text-decoration-color: #00af00\">0</span>],         │\n",
              "│                           │                        │                │ bidirectional[<span style=\"color: #00af00; text-decoration-color: #00af00\">0</span>][<span style=\"color: #00af00; text-decoration-color: #00af00\">0</span>],   │\n",
              "│                           │                        │                │ softmax[<span style=\"color: #00af00; text-decoration-color: #00af00\">3</span>][<span style=\"color: #00af00; text-decoration-color: #00af00\">0</span>],         │\n",
              "│                           │                        │                │ bidirectional[<span style=\"color: #00af00; text-decoration-color: #00af00\">0</span>][<span style=\"color: #00af00; text-decoration-color: #00af00\">0</span>],   │\n",
              "│                           │                        │                │ softmax[<span style=\"color: #00af00; text-decoration-color: #00af00\">4</span>][<span style=\"color: #00af00; text-decoration-color: #00af00\">0</span>],         │\n",
              "│                           │                        │                │ bidirectional[<span style=\"color: #00af00; text-decoration-color: #00af00\">0</span>][<span style=\"color: #00af00; text-decoration-color: #00af00\">0</span>]    │\n",
              "├───────────────────────────┼────────────────────────┼────────────────┼────────────────────────┤\n",
              "│ c0 (<span style=\"color: #0087ff; text-decoration-color: #0087ff\">InputLayer</span>)           │ (<span style=\"color: #00d7ff; text-decoration-color: #00d7ff\">None</span>, <span style=\"color: #00af00; text-decoration-color: #00af00\">64</span>)             │              <span style=\"color: #00af00; text-decoration-color: #00af00\">0</span> │ -                      │\n",
              "├───────────────────────────┼────────────────────────┼────────────────┼────────────────────────┤\n",
              "│ lstm (<span style=\"color: #0087ff; text-decoration-color: #0087ff\">LSTM</span>)               │ [(<span style=\"color: #00d7ff; text-decoration-color: #00d7ff\">None</span>, <span style=\"color: #00af00; text-decoration-color: #00af00\">64</span>), (<span style=\"color: #00d7ff; text-decoration-color: #00d7ff\">None</span>,    │         <span style=\"color: #00af00; text-decoration-color: #00af00\">33,024</span> │ dot[<span style=\"color: #00af00; text-decoration-color: #00af00\">0</span>][<span style=\"color: #00af00; text-decoration-color: #00af00\">0</span>], s0[<span style=\"color: #00af00; text-decoration-color: #00af00\">0</span>][<span style=\"color: #00af00; text-decoration-color: #00af00\">0</span>],   │\n",
              "│                           │ <span style=\"color: #00af00; text-decoration-color: #00af00\">64</span>), (<span style=\"color: #00d7ff; text-decoration-color: #00d7ff\">None</span>, <span style=\"color: #00af00; text-decoration-color: #00af00\">64</span>)]       │                │ c0[<span style=\"color: #00af00; text-decoration-color: #00af00\">0</span>][<span style=\"color: #00af00; text-decoration-color: #00af00\">0</span>], dot[<span style=\"color: #00af00; text-decoration-color: #00af00\">1</span>][<span style=\"color: #00af00; text-decoration-color: #00af00\">0</span>],   │\n",
              "│                           │                        │                │ lstm[<span style=\"color: #00af00; text-decoration-color: #00af00\">0</span>][<span style=\"color: #00af00; text-decoration-color: #00af00\">1</span>],            │\n",
              "│                           │                        │                │ lstm[<span style=\"color: #00af00; text-decoration-color: #00af00\">0</span>][<span style=\"color: #00af00; text-decoration-color: #00af00\">2</span>], dot[<span style=\"color: #00af00; text-decoration-color: #00af00\">2</span>][<span style=\"color: #00af00; text-decoration-color: #00af00\">0</span>], │\n",
              "│                           │                        │                │ lstm[<span style=\"color: #00af00; text-decoration-color: #00af00\">1</span>][<span style=\"color: #00af00; text-decoration-color: #00af00\">1</span>],            │\n",
              "│                           │                        │                │ lstm[<span style=\"color: #00af00; text-decoration-color: #00af00\">1</span>][<span style=\"color: #00af00; text-decoration-color: #00af00\">2</span>], dot[<span style=\"color: #00af00; text-decoration-color: #00af00\">3</span>][<span style=\"color: #00af00; text-decoration-color: #00af00\">0</span>], │\n",
              "│                           │                        │                │ lstm[<span style=\"color: #00af00; text-decoration-color: #00af00\">2</span>][<span style=\"color: #00af00; text-decoration-color: #00af00\">1</span>],            │\n",
              "│                           │                        │                │ lstm[<span style=\"color: #00af00; text-decoration-color: #00af00\">2</span>][<span style=\"color: #00af00; text-decoration-color: #00af00\">2</span>], dot[<span style=\"color: #00af00; text-decoration-color: #00af00\">4</span>][<span style=\"color: #00af00; text-decoration-color: #00af00\">0</span>], │\n",
              "│                           │                        │                │ lstm[<span style=\"color: #00af00; text-decoration-color: #00af00\">3</span>][<span style=\"color: #00af00; text-decoration-color: #00af00\">1</span>], lstm[<span style=\"color: #00af00; text-decoration-color: #00af00\">3</span>][<span style=\"color: #00af00; text-decoration-color: #00af00\">2</span>] │\n",
              "├───────────────────────────┼────────────────────────┼────────────────┼────────────────────────┤\n",
              "│ dense_2 (<span style=\"color: #0087ff; text-decoration-color: #0087ff\">Dense</span>)           │ (<span style=\"color: #00d7ff; text-decoration-color: #00d7ff\">None</span>, <span style=\"color: #00af00; text-decoration-color: #00af00\">5</span>)              │            <span style=\"color: #00af00; text-decoration-color: #00af00\">325</span> │ lstm[<span style=\"color: #00af00; text-decoration-color: #00af00\">4</span>][<span style=\"color: #00af00; text-decoration-color: #00af00\">1</span>]             │\n",
              "└───────────────────────────┴────────────────────────┴────────────────┴────────────────────────┘\n",
              "</pre>\n"
            ]
          },
          "metadata": {}
        },
        {
          "output_type": "display_data",
          "data": {
            "text/plain": [
              "\u001b[1m Total params: \u001b[0m\u001b[38;5;34m68,698\u001b[0m (268.35 KB)\n"
            ],
            "text/html": [
              "<pre style=\"white-space:pre;overflow-x:auto;line-height:normal;font-family:Menlo,'DejaVu Sans Mono',consolas,'Courier New',monospace\"><span style=\"font-weight: bold\"> Total params: </span><span style=\"color: #00af00; text-decoration-color: #00af00\">68,698</span> (268.35 KB)\n",
              "</pre>\n"
            ]
          },
          "metadata": {}
        },
        {
          "output_type": "display_data",
          "data": {
            "text/plain": [
              "\u001b[1m Trainable params: \u001b[0m\u001b[38;5;34m68,698\u001b[0m (268.35 KB)\n"
            ],
            "text/html": [
              "<pre style=\"white-space:pre;overflow-x:auto;line-height:normal;font-family:Menlo,'DejaVu Sans Mono',consolas,'Courier New',monospace\"><span style=\"font-weight: bold\"> Trainable params: </span><span style=\"color: #00af00; text-decoration-color: #00af00\">68,698</span> (268.35 KB)\n",
              "</pre>\n"
            ]
          },
          "metadata": {}
        },
        {
          "output_type": "display_data",
          "data": {
            "text/plain": [
              "\u001b[1m Non-trainable params: \u001b[0m\u001b[38;5;34m0\u001b[0m (0.00 B)\n"
            ],
            "text/html": [
              "<pre style=\"white-space:pre;overflow-x:auto;line-height:normal;font-family:Menlo,'DejaVu Sans Mono',consolas,'Courier New',monospace\"><span style=\"font-weight: bold\"> Non-trainable params: </span><span style=\"color: #00af00; text-decoration-color: #00af00\">0</span> (0.00 B)\n",
              "</pre>\n"
            ]
          },
          "metadata": {}
        }
      ],
      "source": [
        "model.summary()"
      ]
    },
    {
      "cell_type": "code",
      "execution_count": 31,
      "metadata": {
        "id": "O31WqQkU7FPh"
      },
      "outputs": [],
      "source": [
        "opt = Adam(learning_rate = 0.005, beta_1 = 0.9, beta_2 = 0.999)\n",
        "model.compile(loss = 'categorical_crossentropy', optimizer = opt, metrics = ['accuracy'])"
      ]
    },
    {
      "cell_type": "code",
      "execution_count": 32,
      "metadata": {
        "colab": {
          "base_uri": "https://localhost:8080/"
        },
        "id": "2djo6e4AfzVg",
        "outputId": "cd6bbb19-07cb-4604-ffc1-c067ab256900"
      },
      "outputs": [
        {
          "output_type": "stream",
          "name": "stdout",
          "text": [
            "(396, 5)\n",
            "(50, 5)\n"
          ]
        }
      ],
      "source": [
        "y_train_one_hot = to_categorical(Y_train, num_classes = num_of_classes)\n",
        "y_test_one_hot = to_categorical(Y_test, num_classes = num_of_classes)\n",
        "print(y_train_one_hot.shape)\n",
        "print(y_test_one_hot.shape)"
      ]
    },
    {
      "cell_type": "code",
      "source": [
        "print(y_train_one_hot[13])\n",
        "print(y_test_one_hot[13])\n",
        "\n",
        "print(X_train_embedding.shape)"
      ],
      "metadata": {
        "colab": {
          "base_uri": "https://localhost:8080/"
        },
        "id": "mwkVfDnq5Ox6",
        "outputId": "5896f3b5-398b-46f0-94ec-3614b6b426cc"
      },
      "execution_count": 33,
      "outputs": [
        {
          "output_type": "stream",
          "name": "stdout",
          "text": [
            "[1. 0. 0. 0. 0.]\n",
            "[0. 0. 0. 0. 1.]\n",
            "(396, 4, 100)\n"
          ]
        }
      ]
    },
    {
      "cell_type": "markdown",
      "source": [
        "### Model Traning"
      ],
      "metadata": {
        "id": "j_QD-64TCpBa"
      }
    },
    {
      "cell_type": "code",
      "execution_count": 34,
      "metadata": {
        "colab": {
          "base_uri": "https://localhost:8080/"
        },
        "id": "dKsjLCdpekGK",
        "outputId": "44fddfc3-7ff1-4749-a351-ff4f801d1221"
      },
      "outputs": [
        {
          "output_type": "stream",
          "name": "stdout",
          "text": [
            "Epoch 1/100\n",
            "\u001b[1m8/8\u001b[0m \u001b[32m━━━━━━━━━━━━━━━━━━━━\u001b[0m\u001b[37m\u001b[0m \u001b[1m10s\u001b[0m 188ms/step - accuracy: 0.2020 - loss: 1.6106 - val_accuracy: 0.1600 - val_loss: 1.6257\n",
            "Epoch 2/100\n",
            "\u001b[1m8/8\u001b[0m \u001b[32m━━━━━━━━━━━━━━━━━━━━\u001b[0m\u001b[37m\u001b[0m \u001b[1m0s\u001b[0m 25ms/step - accuracy: 0.3085 - loss: 1.5989 - val_accuracy: 0.2600 - val_loss: 1.5974\n",
            "Epoch 3/100\n",
            "\u001b[1m8/8\u001b[0m \u001b[32m━━━━━━━━━━━━━━━━━━━━\u001b[0m\u001b[37m\u001b[0m \u001b[1m0s\u001b[0m 17ms/step - accuracy: 0.3399 - loss: 1.5668 - val_accuracy: 0.2400 - val_loss: 1.5268\n",
            "Epoch 4/100\n",
            "\u001b[1m8/8\u001b[0m \u001b[32m━━━━━━━━━━━━━━━━━━━━\u001b[0m\u001b[37m\u001b[0m \u001b[1m0s\u001b[0m 25ms/step - accuracy: 0.3469 - loss: 1.4113 - val_accuracy: 0.2800 - val_loss: 1.4537\n",
            "Epoch 5/100\n",
            "\u001b[1m8/8\u001b[0m \u001b[32m━━━━━━━━━━━━━━━━━━━━\u001b[0m\u001b[37m\u001b[0m \u001b[1m0s\u001b[0m 18ms/step - accuracy: 0.4543 - loss: 1.2070 - val_accuracy: 0.2600 - val_loss: 1.4143\n",
            "Epoch 6/100\n",
            "\u001b[1m8/8\u001b[0m \u001b[32m━━━━━━━━━━━━━━━━━━━━\u001b[0m\u001b[37m\u001b[0m \u001b[1m0s\u001b[0m 18ms/step - accuracy: 0.5186 - loss: 1.1214 - val_accuracy: 0.2800 - val_loss: 1.3682\n",
            "Epoch 7/100\n",
            "\u001b[1m8/8\u001b[0m \u001b[32m━━━━━━━━━━━━━━━━━━━━\u001b[0m\u001b[37m\u001b[0m \u001b[1m0s\u001b[0m 24ms/step - accuracy: 0.5971 - loss: 0.9531 - val_accuracy: 0.5000 - val_loss: 1.2282\n",
            "Epoch 8/100\n",
            "\u001b[1m8/8\u001b[0m \u001b[32m━━━━━━━━━━━━━━━━━━━━\u001b[0m\u001b[37m\u001b[0m \u001b[1m0s\u001b[0m 23ms/step - accuracy: 0.6229 - loss: 0.8609 - val_accuracy: 0.4800 - val_loss: 1.3748\n",
            "Epoch 9/100\n",
            "\u001b[1m8/8\u001b[0m \u001b[32m━━━━━━━━━━━━━━━━━━━━\u001b[0m\u001b[37m\u001b[0m \u001b[1m0s\u001b[0m 22ms/step - accuracy: 0.6062 - loss: 0.8813 - val_accuracy: 0.5600 - val_loss: 1.2298\n",
            "Epoch 10/100\n",
            "\u001b[1m8/8\u001b[0m \u001b[32m━━━━━━━━━━━━━━━━━━━━\u001b[0m\u001b[37m\u001b[0m \u001b[1m0s\u001b[0m 18ms/step - accuracy: 0.7296 - loss: 0.6974 - val_accuracy: 0.5000 - val_loss: 1.4621\n",
            "Epoch 11/100\n",
            "\u001b[1m8/8\u001b[0m \u001b[32m━━━━━━━━━━━━━━━━━━━━\u001b[0m\u001b[37m\u001b[0m \u001b[1m0s\u001b[0m 24ms/step - accuracy: 0.8075 - loss: 0.5502 - val_accuracy: 0.6400 - val_loss: 1.2233\n",
            "Epoch 12/100\n",
            "\u001b[1m8/8\u001b[0m \u001b[32m━━━━━━━━━━━━━━━━━━━━\u001b[0m\u001b[37m\u001b[0m \u001b[1m0s\u001b[0m 17ms/step - accuracy: 0.7732 - loss: 0.6132 - val_accuracy: 0.5000 - val_loss: 1.2993\n",
            "Epoch 13/100\n",
            "\u001b[1m8/8\u001b[0m \u001b[32m━━━━━━━━━━━━━━━━━━━━\u001b[0m\u001b[37m\u001b[0m \u001b[1m0s\u001b[0m 18ms/step - accuracy: 0.8278 - loss: 0.4233 - val_accuracy: 0.4800 - val_loss: 1.6063\n",
            "Epoch 14/100\n",
            "\u001b[1m8/8\u001b[0m \u001b[32m━━━━━━━━━━━━━━━━━━━━\u001b[0m\u001b[37m\u001b[0m \u001b[1m0s\u001b[0m 18ms/step - accuracy: 0.8375 - loss: 0.3577 - val_accuracy: 0.4600 - val_loss: 2.0017\n",
            "Epoch 15/100\n",
            "\u001b[1m8/8\u001b[0m \u001b[32m━━━━━━━━━━━━━━━━━━━━\u001b[0m\u001b[37m\u001b[0m \u001b[1m0s\u001b[0m 17ms/step - accuracy: 0.8511 - loss: 0.3270 - val_accuracy: 0.5600 - val_loss: 2.0436\n",
            "Epoch 16/100\n",
            "\u001b[1m8/8\u001b[0m \u001b[32m━━━━━━━━━━━━━━━━━━━━\u001b[0m\u001b[37m\u001b[0m \u001b[1m0s\u001b[0m 20ms/step - accuracy: 0.8857 - loss: 0.3133 - val_accuracy: 0.4600 - val_loss: 2.1822\n",
            "Epoch 17/100\n",
            "\u001b[1m8/8\u001b[0m \u001b[32m━━━━━━━━━━━━━━━━━━━━\u001b[0m\u001b[37m\u001b[0m \u001b[1m0s\u001b[0m 18ms/step - accuracy: 0.8850 - loss: 0.2925 - val_accuracy: 0.4600 - val_loss: 2.0344\n",
            "Epoch 18/100\n",
            "\u001b[1m8/8\u001b[0m \u001b[32m━━━━━━━━━━━━━━━━━━━━\u001b[0m\u001b[37m\u001b[0m \u001b[1m0s\u001b[0m 23ms/step - accuracy: 0.8819 - loss: 0.3287 - val_accuracy: 0.5600 - val_loss: 1.6165\n",
            "Epoch 19/100\n",
            "\u001b[1m8/8\u001b[0m \u001b[32m━━━━━━━━━━━━━━━━━━━━\u001b[0m\u001b[37m\u001b[0m \u001b[1m0s\u001b[0m 18ms/step - accuracy: 0.9044 - loss: 0.2716 - val_accuracy: 0.4600 - val_loss: 1.9078\n",
            "Epoch 20/100\n",
            "\u001b[1m8/8\u001b[0m \u001b[32m━━━━━━━━━━━━━━━━━━━━\u001b[0m\u001b[37m\u001b[0m \u001b[1m0s\u001b[0m 16ms/step - accuracy: 0.9272 - loss: 0.1867 - val_accuracy: 0.5600 - val_loss: 2.0182\n",
            "Epoch 21/100\n",
            "\u001b[1m8/8\u001b[0m \u001b[32m━━━━━━━━━━━━━━━━━━━━\u001b[0m\u001b[37m\u001b[0m \u001b[1m0s\u001b[0m 19ms/step - accuracy: 0.9616 - loss: 0.1304 - val_accuracy: 0.5200 - val_loss: 1.9919\n",
            "Epoch 22/100\n",
            "\u001b[1m8/8\u001b[0m \u001b[32m━━━━━━━━━━━━━━━━━━━━\u001b[0m\u001b[37m\u001b[0m \u001b[1m0s\u001b[0m 19ms/step - accuracy: 0.9614 - loss: 0.1272 - val_accuracy: 0.5000 - val_loss: 2.2411\n",
            "Epoch 23/100\n",
            "\u001b[1m8/8\u001b[0m \u001b[32m━━━━━━━━━━━━━━━━━━━━\u001b[0m\u001b[37m\u001b[0m \u001b[1m0s\u001b[0m 18ms/step - accuracy: 0.9763 - loss: 0.1022 - val_accuracy: 0.5600 - val_loss: 2.3259\n",
            "Epoch 24/100\n",
            "\u001b[1m8/8\u001b[0m \u001b[32m━━━━━━━━━━━━━━━━━━━━\u001b[0m\u001b[37m\u001b[0m \u001b[1m0s\u001b[0m 19ms/step - accuracy: 0.9569 - loss: 0.1146 - val_accuracy: 0.5600 - val_loss: 2.3681\n",
            "Epoch 25/100\n",
            "\u001b[1m8/8\u001b[0m \u001b[32m━━━━━━━━━━━━━━━━━━━━\u001b[0m\u001b[37m\u001b[0m \u001b[1m0s\u001b[0m 21ms/step - accuracy: 0.9696 - loss: 0.1084 - val_accuracy: 0.5200 - val_loss: 2.8458\n",
            "Epoch 26/100\n",
            "\u001b[1m8/8\u001b[0m \u001b[32m━━━━━━━━━━━━━━━━━━━━\u001b[0m\u001b[37m\u001b[0m \u001b[1m0s\u001b[0m 20ms/step - accuracy: 0.9442 - loss: 0.1709 - val_accuracy: 0.5600 - val_loss: 2.2132\n",
            "Epoch 27/100\n",
            "\u001b[1m8/8\u001b[0m \u001b[32m━━━━━━━━━━━━━━━━━━━━\u001b[0m\u001b[37m\u001b[0m \u001b[1m0s\u001b[0m 25ms/step - accuracy: 0.9696 - loss: 0.0885 - val_accuracy: 0.5200 - val_loss: 2.6712\n",
            "Epoch 28/100\n",
            "\u001b[1m8/8\u001b[0m \u001b[32m━━━━━━━━━━━━━━━━━━━━\u001b[0m\u001b[37m\u001b[0m \u001b[1m0s\u001b[0m 31ms/step - accuracy: 0.9768 - loss: 0.0663 - val_accuracy: 0.4600 - val_loss: 3.2702\n",
            "Epoch 29/100\n",
            "\u001b[1m8/8\u001b[0m \u001b[32m━━━━━━━━━━━━━━━━━━━━\u001b[0m\u001b[37m\u001b[0m \u001b[1m0s\u001b[0m 33ms/step - accuracy: 0.8531 - loss: 0.3944 - val_accuracy: 0.5600 - val_loss: 2.6032\n",
            "Epoch 30/100\n",
            "\u001b[1m8/8\u001b[0m \u001b[32m━━━━━━━━━━━━━━━━━━━━\u001b[0m\u001b[37m\u001b[0m \u001b[1m0s\u001b[0m 34ms/step - accuracy: 0.8432 - loss: 0.5666 - val_accuracy: 0.5000 - val_loss: 2.3637\n",
            "Epoch 31/100\n",
            "\u001b[1m8/8\u001b[0m \u001b[32m━━━━━━━━━━━━━━━━━━━━\u001b[0m\u001b[37m\u001b[0m \u001b[1m0s\u001b[0m 35ms/step - accuracy: 0.8328 - loss: 0.5183 - val_accuracy: 0.5200 - val_loss: 2.2857\n",
            "Epoch 32/100\n",
            "\u001b[1m8/8\u001b[0m \u001b[32m━━━━━━━━━━━━━━━━━━━━\u001b[0m\u001b[37m\u001b[0m \u001b[1m0s\u001b[0m 18ms/step - accuracy: 0.8563 - loss: 0.3420 - val_accuracy: 0.5800 - val_loss: 1.5457\n",
            "Epoch 33/100\n",
            "\u001b[1m8/8\u001b[0m \u001b[32m━━━━━━━━━━━━━━━━━━━━\u001b[0m\u001b[37m\u001b[0m \u001b[1m0s\u001b[0m 17ms/step - accuracy: 0.9372 - loss: 0.1959 - val_accuracy: 0.5400 - val_loss: 1.8075\n",
            "Epoch 34/100\n",
            "\u001b[1m8/8\u001b[0m \u001b[32m━━━━━━━━━━━━━━━━━━━━\u001b[0m\u001b[37m\u001b[0m \u001b[1m0s\u001b[0m 18ms/step - accuracy: 0.9409 - loss: 0.1722 - val_accuracy: 0.5800 - val_loss: 1.6199\n",
            "Epoch 35/100\n",
            "\u001b[1m8/8\u001b[0m \u001b[32m━━━━━━━━━━━━━━━━━━━━\u001b[0m\u001b[37m\u001b[0m \u001b[1m0s\u001b[0m 17ms/step - accuracy: 0.9781 - loss: 0.0971 - val_accuracy: 0.6400 - val_loss: 1.8025\n",
            "Epoch 36/100\n",
            "\u001b[1m8/8\u001b[0m \u001b[32m━━━━━━━━━━━━━━━━━━━━\u001b[0m\u001b[37m\u001b[0m \u001b[1m0s\u001b[0m 17ms/step - accuracy: 0.9833 - loss: 0.0880 - val_accuracy: 0.5600 - val_loss: 2.3087\n",
            "Epoch 37/100\n",
            "\u001b[1m8/8\u001b[0m \u001b[32m━━━━━━━━━━━━━━━━━━━━\u001b[0m\u001b[37m\u001b[0m \u001b[1m0s\u001b[0m 19ms/step - accuracy: 0.9776 - loss: 0.0737 - val_accuracy: 0.5800 - val_loss: 2.4109\n",
            "Epoch 38/100\n",
            "\u001b[1m8/8\u001b[0m \u001b[32m━━━━━━━━━━━━━━━━━━━━\u001b[0m\u001b[37m\u001b[0m \u001b[1m0s\u001b[0m 28ms/step - accuracy: 0.9890 - loss: 0.0469 - val_accuracy: 0.5200 - val_loss: 2.5618\n",
            "Epoch 39/100\n",
            "\u001b[1m8/8\u001b[0m \u001b[32m━━━━━━━━━━━━━━━━━━━━\u001b[0m\u001b[37m\u001b[0m \u001b[1m0s\u001b[0m 19ms/step - accuracy: 0.9927 - loss: 0.0382 - val_accuracy: 0.5200 - val_loss: 2.9593\n",
            "Epoch 40/100\n",
            "\u001b[1m8/8\u001b[0m \u001b[32m━━━━━━━━━━━━━━━━━━━━\u001b[0m\u001b[37m\u001b[0m \u001b[1m0s\u001b[0m 17ms/step - accuracy: 0.9735 - loss: 0.0710 - val_accuracy: 0.6000 - val_loss: 2.6380\n",
            "Epoch 41/100\n",
            "\u001b[1m8/8\u001b[0m \u001b[32m━━━━━━━━━━━━━━━━━━━━\u001b[0m\u001b[37m\u001b[0m \u001b[1m0s\u001b[0m 17ms/step - accuracy: 0.9988 - loss: 0.0185 - val_accuracy: 0.5800 - val_loss: 2.4272\n",
            "Epoch 42/100\n",
            "\u001b[1m8/8\u001b[0m \u001b[32m━━━━━━━━━━━━━━━━━━━━\u001b[0m\u001b[37m\u001b[0m \u001b[1m0s\u001b[0m 19ms/step - accuracy: 0.9964 - loss: 0.0112 - val_accuracy: 0.5400 - val_loss: 2.5645\n",
            "Epoch 43/100\n",
            "\u001b[1m8/8\u001b[0m \u001b[32m━━━━━━━━━━━━━━━━━━━━\u001b[0m\u001b[37m\u001b[0m \u001b[1m0s\u001b[0m 28ms/step - accuracy: 0.9879 - loss: 0.0274 - val_accuracy: 0.5400 - val_loss: 2.8949\n",
            "Epoch 44/100\n",
            "\u001b[1m8/8\u001b[0m \u001b[32m━━━━━━━━━━━━━━━━━━━━\u001b[0m\u001b[37m\u001b[0m \u001b[1m0s\u001b[0m 18ms/step - accuracy: 0.9551 - loss: 0.1385 - val_accuracy: 0.5600 - val_loss: 3.2779\n",
            "Epoch 45/100\n",
            "\u001b[1m8/8\u001b[0m \u001b[32m━━━━━━━━━━━━━━━━━━━━\u001b[0m\u001b[37m\u001b[0m \u001b[1m0s\u001b[0m 24ms/step - accuracy: 0.9471 - loss: 0.1628 - val_accuracy: 0.5600 - val_loss: 2.5461\n",
            "Epoch 46/100\n",
            "\u001b[1m8/8\u001b[0m \u001b[32m━━━━━━━━━━━━━━━━━━━━\u001b[0m\u001b[37m\u001b[0m \u001b[1m0s\u001b[0m 23ms/step - accuracy: 0.9330 - loss: 0.1524 - val_accuracy: 0.5600 - val_loss: 2.3122\n",
            "Epoch 47/100\n",
            "\u001b[1m8/8\u001b[0m \u001b[32m━━━━━━━━━━━━━━━━━━━━\u001b[0m\u001b[37m\u001b[0m \u001b[1m0s\u001b[0m 19ms/step - accuracy: 0.9667 - loss: 0.0985 - val_accuracy: 0.5400 - val_loss: 2.6800\n",
            "Epoch 48/100\n",
            "\u001b[1m8/8\u001b[0m \u001b[32m━━━━━━━━━━━━━━━━━━━━\u001b[0m\u001b[37m\u001b[0m \u001b[1m0s\u001b[0m 18ms/step - accuracy: 0.9601 - loss: 0.1143 - val_accuracy: 0.6400 - val_loss: 2.1850\n",
            "Epoch 49/100\n",
            "\u001b[1m8/8\u001b[0m \u001b[32m━━━━━━━━━━━━━━━━━━━━\u001b[0m\u001b[37m\u001b[0m \u001b[1m0s\u001b[0m 18ms/step - accuracy: 0.9724 - loss: 0.0619 - val_accuracy: 0.5400 - val_loss: 2.6013\n",
            "Epoch 50/100\n",
            "\u001b[1m8/8\u001b[0m \u001b[32m━━━━━━━━━━━━━━━━━━━━\u001b[0m\u001b[37m\u001b[0m \u001b[1m0s\u001b[0m 16ms/step - accuracy: 0.9907 - loss: 0.0262 - val_accuracy: 0.6000 - val_loss: 2.3416\n",
            "Epoch 51/100\n",
            "\u001b[1m8/8\u001b[0m \u001b[32m━━━━━━━━━━━━━━━━━━━━\u001b[0m\u001b[37m\u001b[0m \u001b[1m0s\u001b[0m 20ms/step - accuracy: 0.9988 - loss: 0.0242 - val_accuracy: 0.5600 - val_loss: 2.4424\n",
            "Epoch 52/100\n",
            "\u001b[1m8/8\u001b[0m \u001b[32m━━━━━━━━━━━━━━━━━━━━\u001b[0m\u001b[37m\u001b[0m \u001b[1m0s\u001b[0m 18ms/step - accuracy: 0.9970 - loss: 0.0131 - val_accuracy: 0.5600 - val_loss: 2.7178\n",
            "Epoch 53/100\n",
            "\u001b[1m8/8\u001b[0m \u001b[32m━━━━━━━━━━━━━━━━━━━━\u001b[0m\u001b[37m\u001b[0m \u001b[1m0s\u001b[0m 17ms/step - accuracy: 0.9937 - loss: 0.0118 - val_accuracy: 0.5400 - val_loss: 2.5688\n",
            "Epoch 54/100\n",
            "\u001b[1m8/8\u001b[0m \u001b[32m━━━━━━━━━━━━━━━━━━━━\u001b[0m\u001b[37m\u001b[0m \u001b[1m0s\u001b[0m 16ms/step - accuracy: 1.0000 - loss: 0.0042 - val_accuracy: 0.5800 - val_loss: 2.6429\n",
            "Epoch 55/100\n",
            "\u001b[1m8/8\u001b[0m \u001b[32m━━━━━━━━━━━━━━━━━━━━\u001b[0m\u001b[37m\u001b[0m \u001b[1m0s\u001b[0m 18ms/step - accuracy: 1.0000 - loss: 0.0032 - val_accuracy: 0.5800 - val_loss: 2.7782\n",
            "Epoch 56/100\n",
            "\u001b[1m8/8\u001b[0m \u001b[32m━━━━━━━━━━━━━━━━━━━━\u001b[0m\u001b[37m\u001b[0m \u001b[1m0s\u001b[0m 19ms/step - accuracy: 1.0000 - loss: 0.0032 - val_accuracy: 0.6000 - val_loss: 2.7959\n",
            "Epoch 57/100\n",
            "\u001b[1m8/8\u001b[0m \u001b[32m━━━━━━━━━━━━━━━━━━━━\u001b[0m\u001b[37m\u001b[0m \u001b[1m0s\u001b[0m 18ms/step - accuracy: 1.0000 - loss: 0.0026 - val_accuracy: 0.5800 - val_loss: 2.8252\n",
            "Epoch 58/100\n",
            "\u001b[1m8/8\u001b[0m \u001b[32m━━━━━━━━━━━━━━━━━━━━\u001b[0m\u001b[37m\u001b[0m \u001b[1m0s\u001b[0m 20ms/step - accuracy: 1.0000 - loss: 0.0021 - val_accuracy: 0.5400 - val_loss: 2.8689\n",
            "Epoch 59/100\n",
            "\u001b[1m8/8\u001b[0m \u001b[32m━━━━━━━━━━━━━━━━━━━━\u001b[0m\u001b[37m\u001b[0m \u001b[1m0s\u001b[0m 20ms/step - accuracy: 1.0000 - loss: 0.0019 - val_accuracy: 0.5400 - val_loss: 2.8982\n",
            "Epoch 60/100\n",
            "\u001b[1m8/8\u001b[0m \u001b[32m━━━━━━━━━━━━━━━━━━━━\u001b[0m\u001b[37m\u001b[0m \u001b[1m0s\u001b[0m 19ms/step - accuracy: 1.0000 - loss: 0.0016 - val_accuracy: 0.5400 - val_loss: 2.9147\n",
            "Epoch 61/100\n",
            "\u001b[1m8/8\u001b[0m \u001b[32m━━━━━━━━━━━━━━━━━━━━\u001b[0m\u001b[37m\u001b[0m \u001b[1m0s\u001b[0m 17ms/step - accuracy: 1.0000 - loss: 0.0014 - val_accuracy: 0.5400 - val_loss: 2.9262\n",
            "Epoch 62/100\n",
            "\u001b[1m8/8\u001b[0m \u001b[32m━━━━━━━━━━━━━━━━━━━━\u001b[0m\u001b[37m\u001b[0m \u001b[1m0s\u001b[0m 18ms/step - accuracy: 1.0000 - loss: 0.0014 - val_accuracy: 0.5400 - val_loss: 2.9474\n",
            "Epoch 63/100\n",
            "\u001b[1m8/8\u001b[0m \u001b[32m━━━━━━━━━━━━━━━━━━━━\u001b[0m\u001b[37m\u001b[0m \u001b[1m0s\u001b[0m 19ms/step - accuracy: 1.0000 - loss: 0.0012 - val_accuracy: 0.5400 - val_loss: 2.9622\n",
            "Epoch 64/100\n",
            "\u001b[1m8/8\u001b[0m \u001b[32m━━━━━━━━━━━━━━━━━━━━\u001b[0m\u001b[37m\u001b[0m \u001b[1m0s\u001b[0m 20ms/step - accuracy: 1.0000 - loss: 0.0011 - val_accuracy: 0.5400 - val_loss: 2.9751\n",
            "Epoch 65/100\n",
            "\u001b[1m8/8\u001b[0m \u001b[32m━━━━━━━━━━━━━━━━━━━━\u001b[0m\u001b[37m\u001b[0m \u001b[1m0s\u001b[0m 19ms/step - accuracy: 1.0000 - loss: 0.0012 - val_accuracy: 0.5400 - val_loss: 2.9863\n",
            "Epoch 66/100\n",
            "\u001b[1m8/8\u001b[0m \u001b[32m━━━━━━━━━━━━━━━━━━━━\u001b[0m\u001b[37m\u001b[0m \u001b[1m0s\u001b[0m 19ms/step - accuracy: 1.0000 - loss: 9.6097e-04 - val_accuracy: 0.5400 - val_loss: 3.0013\n",
            "Epoch 67/100\n",
            "\u001b[1m8/8\u001b[0m \u001b[32m━━━━━━━━━━━━━━━━━━━━\u001b[0m\u001b[37m\u001b[0m \u001b[1m0s\u001b[0m 18ms/step - accuracy: 1.0000 - loss: 0.0010 - val_accuracy: 0.5400 - val_loss: 3.0205\n",
            "Epoch 68/100\n",
            "\u001b[1m8/8\u001b[0m \u001b[32m━━━━━━━━━━━━━━━━━━━━\u001b[0m\u001b[37m\u001b[0m \u001b[1m0s\u001b[0m 18ms/step - accuracy: 1.0000 - loss: 9.3394e-04 - val_accuracy: 0.5400 - val_loss: 3.0343\n",
            "Epoch 69/100\n",
            "\u001b[1m8/8\u001b[0m \u001b[32m━━━━━━━━━━━━━━━━━━━━\u001b[0m\u001b[37m\u001b[0m \u001b[1m0s\u001b[0m 19ms/step - accuracy: 1.0000 - loss: 8.2943e-04 - val_accuracy: 0.5400 - val_loss: 3.0482\n",
            "Epoch 70/100\n",
            "\u001b[1m8/8\u001b[0m \u001b[32m━━━━━━━━━━━━━━━━━━━━\u001b[0m\u001b[37m\u001b[0m \u001b[1m0s\u001b[0m 18ms/step - accuracy: 1.0000 - loss: 9.0960e-04 - val_accuracy: 0.5400 - val_loss: 3.0624\n",
            "Epoch 71/100\n",
            "\u001b[1m8/8\u001b[0m \u001b[32m━━━━━━━━━━━━━━━━━━━━\u001b[0m\u001b[37m\u001b[0m \u001b[1m0s\u001b[0m 17ms/step - accuracy: 1.0000 - loss: 7.9022e-04 - val_accuracy: 0.5400 - val_loss: 3.0731\n",
            "Epoch 72/100\n",
            "\u001b[1m8/8\u001b[0m \u001b[32m━━━━━━━━━━━━━━━━━━━━\u001b[0m\u001b[37m\u001b[0m \u001b[1m0s\u001b[0m 23ms/step - accuracy: 1.0000 - loss: 8.2764e-04 - val_accuracy: 0.5400 - val_loss: 3.0867\n",
            "Epoch 73/100\n",
            "\u001b[1m8/8\u001b[0m \u001b[32m━━━━━━━━━━━━━━━━━━━━\u001b[0m\u001b[37m\u001b[0m \u001b[1m0s\u001b[0m 17ms/step - accuracy: 1.0000 - loss: 7.6953e-04 - val_accuracy: 0.5400 - val_loss: 3.0998\n",
            "Epoch 74/100\n",
            "\u001b[1m8/8\u001b[0m \u001b[32m━━━━━━━━━━━━━━━━━━━━\u001b[0m\u001b[37m\u001b[0m \u001b[1m0s\u001b[0m 17ms/step - accuracy: 1.0000 - loss: 7.4348e-04 - val_accuracy: 0.5400 - val_loss: 3.1116\n",
            "Epoch 75/100\n",
            "\u001b[1m8/8\u001b[0m \u001b[32m━━━━━━━━━━━━━━━━━━━━\u001b[0m\u001b[37m\u001b[0m \u001b[1m0s\u001b[0m 19ms/step - accuracy: 1.0000 - loss: 7.2835e-04 - val_accuracy: 0.5400 - val_loss: 3.1228\n",
            "Epoch 76/100\n",
            "\u001b[1m8/8\u001b[0m \u001b[32m━━━━━━━━━━━━━━━━━━━━\u001b[0m\u001b[37m\u001b[0m \u001b[1m0s\u001b[0m 35ms/step - accuracy: 1.0000 - loss: 6.9102e-04 - val_accuracy: 0.5400 - val_loss: 3.1327\n",
            "Epoch 77/100\n",
            "\u001b[1m8/8\u001b[0m \u001b[32m━━━━━━━━━━━━━━━━━━━━\u001b[0m\u001b[37m\u001b[0m \u001b[1m0s\u001b[0m 34ms/step - accuracy: 1.0000 - loss: 7.2198e-04 - val_accuracy: 0.5400 - val_loss: 3.1445\n",
            "Epoch 78/100\n",
            "\u001b[1m8/8\u001b[0m \u001b[32m━━━━━━━━━━━━━━━━━━━━\u001b[0m\u001b[37m\u001b[0m \u001b[1m0s\u001b[0m 33ms/step - accuracy: 1.0000 - loss: 6.5836e-04 - val_accuracy: 0.5400 - val_loss: 3.1564\n",
            "Epoch 79/100\n",
            "\u001b[1m8/8\u001b[0m \u001b[32m━━━━━━━━━━━━━━━━━━━━\u001b[0m\u001b[37m\u001b[0m \u001b[1m0s\u001b[0m 31ms/step - accuracy: 1.0000 - loss: 6.5857e-04 - val_accuracy: 0.5400 - val_loss: 3.1668\n",
            "Epoch 80/100\n",
            "\u001b[1m8/8\u001b[0m \u001b[32m━━━━━━━━━━━━━━━━━━━━\u001b[0m\u001b[37m\u001b[0m \u001b[1m0s\u001b[0m 20ms/step - accuracy: 1.0000 - loss: 6.1661e-04 - val_accuracy: 0.5400 - val_loss: 3.1778\n",
            "Epoch 81/100\n",
            "\u001b[1m8/8\u001b[0m \u001b[32m━━━━━━━━━━━━━━━━━━━━\u001b[0m\u001b[37m\u001b[0m \u001b[1m0s\u001b[0m 24ms/step - accuracy: 1.0000 - loss: 5.7803e-04 - val_accuracy: 0.5400 - val_loss: 3.1875\n",
            "Epoch 82/100\n",
            "\u001b[1m8/8\u001b[0m \u001b[32m━━━━━━━━━━━━━━━━━━━━\u001b[0m\u001b[37m\u001b[0m \u001b[1m0s\u001b[0m 19ms/step - accuracy: 1.0000 - loss: 5.8590e-04 - val_accuracy: 0.5400 - val_loss: 3.1956\n",
            "Epoch 83/100\n",
            "\u001b[1m8/8\u001b[0m \u001b[32m━━━━━━━━━━━━━━━━━━━━\u001b[0m\u001b[37m\u001b[0m \u001b[1m0s\u001b[0m 18ms/step - accuracy: 1.0000 - loss: 5.6497e-04 - val_accuracy: 0.5400 - val_loss: 3.2050\n",
            "Epoch 84/100\n",
            "\u001b[1m8/8\u001b[0m \u001b[32m━━━━━━━━━━━━━━━━━━━━\u001b[0m\u001b[37m\u001b[0m \u001b[1m0s\u001b[0m 25ms/step - accuracy: 1.0000 - loss: 5.2373e-04 - val_accuracy: 0.5400 - val_loss: 3.2150\n",
            "Epoch 85/100\n",
            "\u001b[1m8/8\u001b[0m \u001b[32m━━━━━━━━━━━━━━━━━━━━\u001b[0m\u001b[37m\u001b[0m \u001b[1m0s\u001b[0m 17ms/step - accuracy: 1.0000 - loss: 5.3358e-04 - val_accuracy: 0.5400 - val_loss: 3.2241\n",
            "Epoch 86/100\n",
            "\u001b[1m8/8\u001b[0m \u001b[32m━━━━━━━━━━━━━━━━━━━━\u001b[0m\u001b[37m\u001b[0m \u001b[1m0s\u001b[0m 17ms/step - accuracy: 1.0000 - loss: 5.2276e-04 - val_accuracy: 0.5400 - val_loss: 3.2326\n",
            "Epoch 87/100\n",
            "\u001b[1m8/8\u001b[0m \u001b[32m━━━━━━━━━━━━━━━━━━━━\u001b[0m\u001b[37m\u001b[0m \u001b[1m0s\u001b[0m 18ms/step - accuracy: 1.0000 - loss: 4.7062e-04 - val_accuracy: 0.5400 - val_loss: 3.2432\n",
            "Epoch 88/100\n",
            "\u001b[1m8/8\u001b[0m \u001b[32m━━━━━━━━━━━━━━━━━━━━\u001b[0m\u001b[37m\u001b[0m \u001b[1m0s\u001b[0m 24ms/step - accuracy: 1.0000 - loss: 4.3726e-04 - val_accuracy: 0.5400 - val_loss: 3.2526\n",
            "Epoch 89/100\n",
            "\u001b[1m8/8\u001b[0m \u001b[32m━━━━━━━━━━━━━━━━━━━━\u001b[0m\u001b[37m\u001b[0m \u001b[1m0s\u001b[0m 19ms/step - accuracy: 1.0000 - loss: 4.9486e-04 - val_accuracy: 0.5400 - val_loss: 3.2606\n",
            "Epoch 90/100\n",
            "\u001b[1m8/8\u001b[0m \u001b[32m━━━━━━━━━━━━━━━━━━━━\u001b[0m\u001b[37m\u001b[0m \u001b[1m0s\u001b[0m 18ms/step - accuracy: 1.0000 - loss: 4.8732e-04 - val_accuracy: 0.5400 - val_loss: 3.2680\n",
            "Epoch 91/100\n",
            "\u001b[1m8/8\u001b[0m \u001b[32m━━━━━━━━━━━━━━━━━━━━\u001b[0m\u001b[37m\u001b[0m \u001b[1m0s\u001b[0m 18ms/step - accuracy: 1.0000 - loss: 4.5424e-04 - val_accuracy: 0.5400 - val_loss: 3.2775\n",
            "Epoch 92/100\n",
            "\u001b[1m8/8\u001b[0m \u001b[32m━━━━━━━━━━━━━━━━━━━━\u001b[0m\u001b[37m\u001b[0m \u001b[1m0s\u001b[0m 20ms/step - accuracy: 1.0000 - loss: 4.4176e-04 - val_accuracy: 0.5400 - val_loss: 3.2856\n",
            "Epoch 93/100\n",
            "\u001b[1m8/8\u001b[0m \u001b[32m━━━━━━━━━━━━━━━━━━━━\u001b[0m\u001b[37m\u001b[0m \u001b[1m0s\u001b[0m 19ms/step - accuracy: 1.0000 - loss: 4.2221e-04 - val_accuracy: 0.5400 - val_loss: 3.2926\n",
            "Epoch 94/100\n",
            "\u001b[1m8/8\u001b[0m \u001b[32m━━━━━━━━━━━━━━━━━━━━\u001b[0m\u001b[37m\u001b[0m \u001b[1m0s\u001b[0m 19ms/step - accuracy: 1.0000 - loss: 4.1803e-04 - val_accuracy: 0.5400 - val_loss: 3.2999\n",
            "Epoch 95/100\n",
            "\u001b[1m8/8\u001b[0m \u001b[32m━━━━━━━━━━━━━━━━━━━━\u001b[0m\u001b[37m\u001b[0m \u001b[1m0s\u001b[0m 19ms/step - accuracy: 1.0000 - loss: 3.5537e-04 - val_accuracy: 0.5400 - val_loss: 3.3071\n",
            "Epoch 96/100\n",
            "\u001b[1m8/8\u001b[0m \u001b[32m━━━━━━━━━━━━━━━━━━━━\u001b[0m\u001b[37m\u001b[0m \u001b[1m0s\u001b[0m 17ms/step - accuracy: 1.0000 - loss: 3.6992e-04 - val_accuracy: 0.5400 - val_loss: 3.3159\n",
            "Epoch 97/100\n",
            "\u001b[1m8/8\u001b[0m \u001b[32m━━━━━━━━━━━━━━━━━━━━\u001b[0m\u001b[37m\u001b[0m \u001b[1m0s\u001b[0m 20ms/step - accuracy: 1.0000 - loss: 3.8041e-04 - val_accuracy: 0.5400 - val_loss: 3.3237\n",
            "Epoch 98/100\n",
            "\u001b[1m8/8\u001b[0m \u001b[32m━━━━━━━━━━━━━━━━━━━━\u001b[0m\u001b[37m\u001b[0m \u001b[1m0s\u001b[0m 18ms/step - accuracy: 1.0000 - loss: 3.8423e-04 - val_accuracy: 0.5400 - val_loss: 3.3305\n",
            "Epoch 99/100\n",
            "\u001b[1m8/8\u001b[0m \u001b[32m━━━━━━━━━━━━━━━━━━━━\u001b[0m\u001b[37m\u001b[0m \u001b[1m0s\u001b[0m 18ms/step - accuracy: 1.0000 - loss: 3.1456e-04 - val_accuracy: 0.5400 - val_loss: 3.3389\n",
            "Epoch 100/100\n",
            "\u001b[1m8/8\u001b[0m \u001b[32m━━━━━━━━━━━━━━━━━━━━\u001b[0m\u001b[37m\u001b[0m \u001b[1m0s\u001b[0m 19ms/step - accuracy: 1.0000 - loss: 3.7146e-04 - val_accuracy: 0.5400 - val_loss: 3.3464\n"
          ]
        }
      ],
      "source": [
        "s0 = np.zeros((len(X_train), n_s_))\n",
        "c0 = np.zeros((len(X_train), n_s_))\n",
        "\n",
        "s0_t = np.zeros((len(X_test), n_s_))\n",
        "c0_t = np.zeros((len(X_test), n_s_))\n",
        "\n",
        "\n",
        "checkpoint = ModelCheckpoint(\n",
        "    filepath='best_model.keras',\n",
        "    monitor='val_accuracy',\n",
        "    save_best_only=True,\n",
        "    mode='max'\n",
        ")\n",
        "\n",
        "history = model.fit(\n",
        "    x = [X_train_embedding, s0, c0],\n",
        "    # y = [y_train_one_hot, np.zeros((len(X_train_embedding), max_len_mask, 1))], # Dummy output to get attention weights and preds simultaneously\n",
        "    y = y_train_one_hot,\n",
        "    validation_data = ([X_test_embedding, s0_t, c0_t], y_test_one_hot),\n",
        "          # validation_data = ([X_test_embedding, s0_t, c0_t], [y_test_one_hot, np.zeros((len(X_test_embedding), max_len_mask, 1))]),\n",
        "    epochs=100,\n",
        "    batch_size=50,\n",
        "    verbose = 1,\n",
        "    callbacks=[checkpoint]\n",
        "    )"
      ]
    },
    {
      "cell_type": "code",
      "source": [
        "from tensorflow.keras.models import load_model\n",
        "best_model = load_model('best_model.keras')"
      ],
      "metadata": {
        "id": "3CZWUnKGO8KX"
      },
      "execution_count": 35,
      "outputs": []
    },
    {
      "cell_type": "code",
      "source": [
        "print(X_test_embedding.shape)"
      ],
      "metadata": {
        "colab": {
          "base_uri": "https://localhost:8080/"
        },
        "id": "th5Vi8GqP_TK",
        "outputId": "3811c599-ebf5-40a0-eb6d-92dd79fe06e0"
      },
      "execution_count": 36,
      "outputs": [
        {
          "output_type": "stream",
          "name": "stdout",
          "text": [
            "(50, 4, 100)\n"
          ]
        }
      ]
    },
    {
      "cell_type": "code",
      "source": [
        "print(type(X_test_embedding))\n",
        "print(X_test_embedding.shape)\n",
        "print(best_model.input_shape)"
      ],
      "metadata": {
        "colab": {
          "base_uri": "https://localhost:8080/"
        },
        "id": "StNLSDT6AGgO",
        "outputId": "3afcf8a6-e310-46c1-fdc9-8bfaaa8177d9"
      },
      "execution_count": 37,
      "outputs": [
        {
          "output_type": "stream",
          "name": "stdout",
          "text": [
            "<class 'numpy.ndarray'>\n",
            "(50, 4, 100)\n",
            "[(None, 4, 100), (None, 64), (None, 64)]\n"
          ]
        }
      ]
    },
    {
      "cell_type": "code",
      "source": [
        "s0_test = np.zeros((X_test.shape[0], n_s_))\n",
        "c0_test = np.zeros((X_test.shape[0], n_s_))\n",
        "\n",
        "test_loss = best_model.evaluate([X_test_embedding, s0_test, c0_test], y_test_one_hot, batch_size=100)\n",
        "print(f\"Test Loss: {test_loss}\")"
      ],
      "metadata": {
        "colab": {
          "base_uri": "https://localhost:8080/"
        },
        "id": "wjQ3gC6lQi2n",
        "outputId": "e49fd5eb-9078-4910-b506-10c11d0dcefe"
      },
      "execution_count": 38,
      "outputs": [
        {
          "output_type": "stream",
          "name": "stdout",
          "text": [
            "\u001b[1m1/1\u001b[0m \u001b[32m━━━━━━━━━━━━━━━━━━━━\u001b[0m\u001b[37m\u001b[0m \u001b[1m3s\u001b[0m 3s/step - accuracy: 0.6400 - loss: 1.2233\n",
            "Test Loss: [1.2233132123947144, 0.6399999856948853]\n"
          ]
        }
      ]
    },
    {
      "cell_type": "markdown",
      "source": [
        "### Showing Samples from Test Set"
      ],
      "metadata": {
        "id": "UJNHn0TUC4AB"
      }
    },
    {
      "cell_type": "code",
      "source": [
        "s0_test = np.zeros((X_test.shape[0], n_s_))\n",
        "c0_test = np.zeros((X_test.shape[0], n_s_))\n",
        "\n",
        "preds = best_model.predict([X_test_embedding, s0_test, c0_test])"
      ],
      "metadata": {
        "colab": {
          "base_uri": "https://localhost:8080/"
        },
        "id": "w-TOmvnZC3QI",
        "outputId": "0fbccb66-8574-46ef-a64c-c47563c3731e"
      },
      "execution_count": 39,
      "outputs": [
        {
          "output_type": "stream",
          "name": "stdout",
          "text": [
            "\u001b[1m2/2\u001b[0m \u001b[32m━━━━━━━━━━━━━━━━━━━━\u001b[0m\u001b[37m\u001b[0m \u001b[1m2s\u001b[0m 992ms/step\n"
          ]
        }
      ]
    },
    {
      "cell_type": "code",
      "source": [
        "sample_sentences = []\n",
        "sample_labels = []\n",
        "\n",
        "pred_classes = np.argmax(preds, axis = -1)\n",
        "\n",
        "for i in range(len(pred_classes)):\n",
        "  if pred_classes[i] == Y_test[i]:\n",
        "    sample_sentences.append(X_test_intact[i])\n",
        "    sample_labels.append(pred_classes[i])"
      ],
      "metadata": {
        "id": "9M7HMgSzDLJY"
      },
      "execution_count": 40,
      "outputs": []
    },
    {
      "cell_type": "code",
      "source": [
        "print_predictions(X = np.asarray(sample_sentences), pred = np.asarray(sample_labels))"
      ],
      "metadata": {
        "colab": {
          "base_uri": "https://localhost:8080/"
        },
        "id": "sRpTyojKDts4",
        "outputId": "2f55ccac-0972-488f-abec-fa36a16c30be"
      },
      "execution_count": 69,
      "outputs": [
        {
          "output_type": "stream",
          "name": "stdout",
          "text": [
            "\n",
            "i am upset\t\n",
            "Predicted emotion:  ❤️\n",
            "\n",
            "\n",
            "we had such a lovely dinner tonight\t\n",
            "Predicted emotion:  ❤️\n",
            "\n",
            "\n",
            "where is the food\t\n",
            "Predicted emotion:  🍴\n",
            "\n",
            "\n",
            "stop making this joke ha ha ha\t\n",
            "Predicted emotion:  😄\n",
            "\n",
            "\n",
            "where is the ball\t\n",
            "Predicted emotion:  ⚾\n",
            "\n",
            "\n",
            "work is hard\t\n",
            "Predicted emotion:  😞\n",
            "\n",
            "\n",
            "this girl is messing with me\t\n",
            "Predicted emotion:  😞\n",
            "\n",
            "\n",
            "are you serious ha ha\t\n",
            "Predicted emotion:  😄\n",
            "\n",
            "\n",
            "let us go play baseball\t\n",
            "Predicted emotion:  ⚾\n",
            "\n",
            "\n",
            "this stupid grader is not working \t\n",
            "Predicted emotion:  😞\n",
            "\n",
            "\n",
            "stop messing around\t\n",
            "Predicted emotion:  😞\n",
            "\n",
            "\n",
            "i love taking breaks\t\n",
            "Predicted emotion:  ❤️\n",
            "\n",
            "\n",
            "you brighten my day\t\n",
            "Predicted emotion:  😄\n",
            "\n",
            "\n",
            "why are you feeling bad\t\n",
            "Predicted emotion:  😞\n",
            "\n",
            "\n",
            "my grandmother is the love of my life\t\n",
            "Predicted emotion:  ❤️\n",
            "\n",
            "\n",
            "valentine day is near\t\n",
            "Predicted emotion:  ❤️\n",
            "\n",
            "\n",
            "i miss you so much\t\n",
            "Predicted emotion:  ❤️\n",
            "\n",
            "\n",
            "throw the ball\t\n",
            "Predicted emotion:  ⚾\n",
            "\n",
            "\n",
            "my life is so boring\t\n",
            "Predicted emotion:  😞\n",
            "\n",
            "\n",
            "she said yes\t\n",
            "Predicted emotion:  😄\n",
            "\n",
            "\n",
            "dance with me\t\n",
            "Predicted emotion:  😄\n",
            "\n",
            "\n",
            "i am starving\t\n",
            "Predicted emotion:  🍴\n",
            "\n",
            "\n",
            "i like to laugh\t\n",
            "Predicted emotion:  😄\n",
            "\n",
            "\n",
            "i like your jacket \t\n",
            "Predicted emotion:  😄\n",
            "\n",
            "\n",
            "i miss her\t\n",
            "Predicted emotion:  ❤️\n",
            "\n",
            "\n",
            "what is your favorite baseball game\t\n",
            "Predicted emotion:  ⚾\n",
            "\n",
            "\n",
            "good job\t\n",
            "Predicted emotion:  😄\n",
            "\n",
            "\n",
            "i love to the stars and back\t\n",
            "Predicted emotion:  ❤️\n",
            "\n",
            "\n",
            "ha ha ha lol\t\n",
            "Predicted emotion:  😄\n",
            "\n",
            "\n",
            "yesterday we lost again\t\n",
            "Predicted emotion:  😞\n",
            "\n",
            "\n",
            "you are failing this exercise\t\n",
            "Predicted emotion:  😞\n",
            "\n",
            "\n",
            "good joke\t\n",
            "Predicted emotion:  😄\n",
            "\n",
            "\n"
          ]
        }
      ]
    },
    {
      "cell_type": "markdown",
      "source": [
        "### Plotting Attention Weights"
      ],
      "metadata": {
        "id": "V7qBPgbVOb40"
      }
    },
    {
      "cell_type": "code",
      "source": [
        "test_sentence = 'My exam scores were awful I am disappointed'\n",
        "find_attetion_between_label_and_words(modelx = best_model, text = np.asarray([test_sentence.lower()]),\n",
        "                                      Tx = max_len_mask, Ty = 1, embed_model = word2vec)"
      ],
      "metadata": {
        "colab": {
          "base_uri": "https://localhost:8080/",
          "height": 838
        },
        "id": "k_34TL-aWXTA",
        "outputId": "6688aa3e-072d-4fc4-8b30-6f71b015c3b0"
      },
      "execution_count": 70,
      "outputs": [
        {
          "output_type": "stream",
          "name": "stdout",
          "text": [
            "Attentions:  <KerasTensor shape=(None, 4, 1), dtype=float32, sparse=False, name=keras_tensor_544>\n",
            "s0 and c0 shapes:  (1, 64) (1, 64)\n",
            "sentence processed:  ['exam score awful disappoint']\n",
            "Embedding shape:  (1, 4, 100)\n",
            "attention weights shape:  (1, 4, 1)\n",
            "attention weights (normalized):  tf.Tensor(\n",
            "[[[0.9041541 ]\n",
            "  [0.926707  ]\n",
            "  [0.95679045]\n",
            "  [1.        ]]], shape=(1, 4, 1), dtype=float32)\n",
            "\u001b[1m1/1\u001b[0m \u001b[32m━━━━━━━━━━━━━━━━━━━━\u001b[0m\u001b[37m\u001b[0m \u001b[1m0s\u001b[0m 35ms/step\n",
            "Emoji:  😞\n"
          ]
        },
        {
          "output_type": "display_data",
          "data": {
            "text/plain": [
              "<Figure size 640x480 with 0 Axes>"
            ]
          },
          "metadata": {}
        },
        {
          "output_type": "display_data",
          "data": {
            "text/plain": [
              "<Figure size 800x850 with 2 Axes>"
            ],
            "image/png": "[encoded data removed]"
          },
          "metadata": {}
        }
      ]
    },
    {
      "cell_type": "code",
      "source": [
        "test_sentence = 'It was not serious It was just a funny joke for laughing'\n",
        "find_attetion_between_label_and_words(modelx = best_model, text = np.asarray([test_sentence.lower()]),\n",
        "                                      Tx = max_len_mask, Ty = 1, embed_model = word2vec)"
      ],
      "metadata": {
        "colab": {
          "base_uri": "https://localhost:8080/",
          "height": 838
        },
        "id": "IAUPmScRVG2_",
        "outputId": "ca55a7b5-51b4-42ec-ffde-41a741333e8b"
      },
      "execution_count": 86,
      "outputs": [
        {
          "output_type": "stream",
          "name": "stdout",
          "text": [
            "Attentions:  <KerasTensor shape=(None, 4, 1), dtype=float32, sparse=False, name=keras_tensor_704>\n",
            "s0 and c0 shapes:  (1, 64) (1, 64)\n",
            "sentence processed:  ['serious funny joke laugh']\n",
            "Embedding shape:  (1, 4, 100)\n",
            "attention weights shape:  (1, 4, 1)\n",
            "attention weights (normalized):  tf.Tensor(\n",
            "[[[0.7359699 ]\n",
            "  [0.8334854 ]\n",
            "  [0.90329546]\n",
            "  [1.        ]]], shape=(1, 4, 1), dtype=float32)\n",
            "\u001b[1m1/1\u001b[0m \u001b[32m━━━━━━━━━━━━━━━━━━━━\u001b[0m\u001b[37m\u001b[0m \u001b[1m0s\u001b[0m 32ms/step\n",
            "Emoji:  😄\n"
          ]
        },
        {
          "output_type": "display_data",
          "data": {
            "text/plain": [
              "<Figure size 640x480 with 0 Axes>"
            ]
          },
          "metadata": {}
        },
        {
          "output_type": "display_data",
          "data": {
            "text/plain": [
              "<Figure size 800x850 with 2 Axes>"
            ],
            "image/png": "[encoded data removed]"
          },
          "metadata": {}
        }
      ]
    },
    {
      "cell_type": "code",
      "source": [
        "test_sentence = 'I ate vegetable and pizza at work'\n",
        "find_attetion_between_label_and_words(modelx = best_model, text = np.asarray([test_sentence.lower()]),\n",
        "                                      Tx = max_len_mask, Ty = 1, embed_model = word2vec)"
      ],
      "metadata": {
        "colab": {
          "base_uri": "https://localhost:8080/",
          "height": 912
        },
        "id": "UNtQMFGpYNpd",
        "outputId": "7b1d1702-7d1a-4f08-f51d-39d6842da448"
      },
      "execution_count": 91,
      "outputs": [
        {
          "output_type": "stream",
          "name": "stdout",
          "text": [
            "Attentions:  <KerasTensor shape=(None, 4, 1), dtype=float32, sparse=False, name=keras_tensor_754>\n",
            "s0 and c0 shapes:  (1, 64) (1, 64)\n",
            "sentence processed:  ['eat vegetable pizza work']\n",
            "Embedding shape:  (1, 4, 100)\n",
            "attention weights shape:  (1, 4, 1)\n",
            "attention weights (normalized):  tf.Tensor(\n",
            "[[[1.        ]\n",
            "  [0.9141764 ]\n",
            "  [0.8689183 ]\n",
            "  [0.80099934]]], shape=(1, 4, 1), dtype=float32)\n",
            "\u001b[1m1/1\u001b[0m \u001b[32m━━━━━━━━━━━━━━━━━━━━\u001b[0m\u001b[37m\u001b[0m \u001b[1m0s\u001b[0m 32ms/step\n",
            "Emoji:  🍴\n"
          ]
        },
        {
          "output_type": "stream",
          "name": "stderr",
          "text": [
            "/usr/local/lib/python3.11/dist-packages/IPython/core/events.py:89: UserWarning: Glyph 127860 (\\N{FORK AND KNIFE}) missing from font(s) DejaVu Sans.\n",
            "  func(*args, **kwargs)\n"
          ]
        },
        {
          "output_type": "display_data",
          "data": {
            "text/plain": [
              "<Figure size 640x480 with 0 Axes>"
            ]
          },
          "metadata": {}
        },
        {
          "output_type": "stream",
          "name": "stderr",
          "text": [
            "/usr/local/lib/python3.11/dist-packages/IPython/core/pylabtools.py:151: UserWarning: Glyph 127860 (\\N{FORK AND KNIFE}) missing from font(s) DejaVu Sans.\n",
            "  fig.canvas.print_figure(bytes_io, **kw)\n"
          ]
        },
        {
          "output_type": "display_data",
          "data": {
            "text/plain": [
              "<Figure size 800x850 with 2 Axes>"
            ],
            "image/png": "[encoded data removed]"
          },
          "metadata": {}
        }
      ]
    }
  ],
  "metadata": {
    "colab": {
      "provenance": [],
      "collapsed_sections": [
        "jNW5u-vGn-pr",
        "o2lXSddpoBQ7",
        "gp5eSN0goIwC",
        "JhwIpB7WoSTZ",
        "rTfrM8teoYcJ",
        "j_QD-64TCpBa"
      ]
    },
    "kernelspec": {
      "display_name": "Python 3",
      "name": "python3"
    },
    "language_info": {
      "name": "python"
    }
  },
  "nbformat": 4,
  "nbformat_minor": 0
}